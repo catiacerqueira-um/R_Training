{
 "cells": [
  {
   "cell_type": "code",
   "execution_count": 1,
   "metadata": {},
   "outputs": [
    {
     "data": {
      "text/plain": [
       "               _                           \n",
       "platform       x86_64-w64-mingw32          \n",
       "arch           x86_64                      \n",
       "os             mingw32                     \n",
       "system         x86_64, mingw32             \n",
       "status                                     \n",
       "major          4                           \n",
       "minor          0.3                         \n",
       "year           2020                        \n",
       "month          10                          \n",
       "day            10                          \n",
       "svn rev        79318                       \n",
       "language       R                           \n",
       "version.string R version 4.0.3 (2020-10-10)\n",
       "nickname       Bunny-Wunnies Freak Out     "
      ]
     },
     "metadata": {},
     "output_type": "display_data"
    }
   ],
   "source": [
    "version"
   ]
  },
  {
   "cell_type": "code",
   "execution_count": 2,
   "metadata": {},
   "outputs": [
    {
     "data": {
      "text/html": [
       "'C:/Users/mangelo.EEG/Documents/GitHub/R_Training/jupyter'"
      ],
      "text/latex": [
       "'C:/Users/mangelo.EEG/Documents/GitHub/R\\_Training/jupyter'"
      ],
      "text/markdown": [
       "'C:/Users/mangelo.EEG/Documents/GitHub/R_Training/jupyter'"
      ],
      "text/plain": [
       "[1] \"C:/Users/mangelo.EEG/Documents/GitHub/R_Training/jupyter\""
      ]
     },
     "metadata": {},
     "output_type": "display_data"
    }
   ],
   "source": [
    "getwd()"
   ]
  },
  {
   "cell_type": "code",
   "execution_count": 3,
   "metadata": {},
   "outputs": [
    {
     "name": "stderr",
     "output_type": "stream",
     "text": [
      "-- \u001b[1mAttaching packages\u001b[22m --------------------------------------- tidyverse 1.3.0 --\n",
      "\n",
      "\u001b[32mv\u001b[39m \u001b[34mggplot2\u001b[39m 3.3.2     \u001b[32mv\u001b[39m \u001b[34mpurrr  \u001b[39m 0.3.4\n",
      "\u001b[32mv\u001b[39m \u001b[34mtibble \u001b[39m 3.0.3     \u001b[32mv\u001b[39m \u001b[34mdplyr  \u001b[39m 1.0.2\n",
      "\u001b[32mv\u001b[39m \u001b[34mtidyr  \u001b[39m 1.1.0     \u001b[32mv\u001b[39m \u001b[34mstringr\u001b[39m 1.4.0\n",
      "\u001b[32mv\u001b[39m \u001b[34mreadr  \u001b[39m 1.3.1     \u001b[32mv\u001b[39m \u001b[34mforcats\u001b[39m 0.5.0\n",
      "\n",
      "-- \u001b[1mConflicts\u001b[22m ------------------------------------------ tidyverse_conflicts() --\n",
      "\u001b[31mx\u001b[39m \u001b[34mdplyr\u001b[39m::\u001b[32mfilter()\u001b[39m masks \u001b[34mstats\u001b[39m::filter()\n",
      "\u001b[31mx\u001b[39m \u001b[34mdplyr\u001b[39m::\u001b[32mlag()\u001b[39m    masks \u001b[34mstats\u001b[39m::lag()\n",
      "\n",
      "\n",
      "Please cite as: \n",
      "\n",
      "\n",
      " Hlavac, Marek (2018). stargazer: Well-Formatted Regression and Summary Statistics Tables.\n",
      "\n",
      " R package version 5.2.2. https://CRAN.R-project.org/package=stargazer \n",
      "\n",
      "\n"
     ]
    }
   ],
   "source": [
    "rm(list = ls())\n",
    "\n",
    "# setwd(\"/Users/miguelportela/Documents/GitHub/R_Training/examples\")\n",
    "setwd(\"C:/Users/mangelo.EEG/Documents/GitHub/R_Training/examples\")\n",
    "\n",
    "library(tidyverse)\n",
    "library(ggplot2)\n",
    "library(haven)\n",
    "library(stargazer)\n",
    "library(rticles)"
   ]
  },
  {
   "cell_type": "code",
   "execution_count": 4,
   "metadata": {},
   "outputs": [
    {
     "name": "stderr",
     "output_type": "stream",
     "text": [
      "The following object is masked from package:ggplot2:\n",
      "\n",
      "    mpg\n",
      "\n",
      "\n"
     ]
    },
    {
     "data": {
      "text/plain": [
       "     idcode          year          birth_yr          age             race      \n",
       " Min.   :   1   Min.   :68.00   Min.   :41.00   Min.   :14.00   Min.   :1.000  \n",
       " 1st Qu.:1327   1st Qu.:72.00   1st Qu.:46.00   1st Qu.:23.00   1st Qu.:1.000  \n",
       " Median :2606   Median :78.00   Median :48.00   Median :28.00   Median :1.000  \n",
       " Mean   :2601   Mean   :77.96   Mean   :48.09   Mean   :29.05   Mean   :1.303  \n",
       " 3rd Qu.:3881   3rd Qu.:83.00   3rd Qu.:51.00   3rd Qu.:34.00   3rd Qu.:2.000  \n",
       " Max.   :5159   Max.   :88.00   Max.   :54.00   Max.   :46.00   Max.   :3.000  \n",
       "                                                NA's   :24                     \n",
       "      msp            nev_mar           grade          collgrad    \n",
       " Min.   :0.0000   Min.   :0.0000   Min.   : 0.00   Min.   :0.000  \n",
       " 1st Qu.:0.0000   1st Qu.:0.0000   1st Qu.:12.00   1st Qu.:0.000  \n",
       " Median :1.0000   Median :0.0000   Median :12.00   Median :0.000  \n",
       " Mean   :0.6029   Mean   :0.2297   Mean   :12.53   Mean   :0.168  \n",
       " 3rd Qu.:1.0000   3rd Qu.:0.0000   3rd Qu.:14.00   3rd Qu.:0.000  \n",
       " Max.   :1.0000   Max.   :1.0000   Max.   :18.00   Max.   :1.000  \n",
       " NA's   :16       NA's   :16       NA's   :2                      \n",
       "    not_smsa          c_city           south           ind_code     \n",
       " Min.   :0.0000   Min.   :0.0000   Min.   :0.0000   Min.   : 1.000  \n",
       " 1st Qu.:0.0000   1st Qu.:0.0000   1st Qu.:0.0000   1st Qu.: 5.000  \n",
       " Median :0.0000   Median :0.0000   Median :0.0000   Median : 7.000  \n",
       " Mean   :0.2824   Mean   :0.3572   Mean   :0.4096   Mean   : 7.693  \n",
       " 3rd Qu.:1.0000   3rd Qu.:1.0000   3rd Qu.:1.0000   3rd Qu.:11.000  \n",
       " Max.   :1.0000   Max.   :1.0000   Max.   :1.0000   Max.   :12.000  \n",
       " NA's   :8        NA's   :8        NA's   :8        NA's   :341     \n",
       "    occ_code          union           wks_ue          ttl_exp      \n",
       " Min.   : 1.000   Min.   :0.000   Min.   : 0.000   Min.   : 0.000  \n",
       " 1st Qu.: 3.000   1st Qu.:0.000   1st Qu.: 0.000   1st Qu.: 2.462  \n",
       " Median : 3.000   Median :0.000   Median : 0.000   Median : 5.058  \n",
       " Mean   : 4.778   Mean   :0.234   Mean   : 2.548   Mean   : 6.215  \n",
       " 3rd Qu.: 6.000   3rd Qu.:0.000   3rd Qu.: 0.000   3rd Qu.: 9.128  \n",
       " Max.   :13.000   Max.   :1.000   Max.   :76.000   Max.   :28.885  \n",
       " NA's   :121      NA's   :9296    NA's   :5704                     \n",
       "     tenure           hours           wks_work         ln_wage     \n",
       " Min.   : 0.000   Min.   :  1.00   Min.   :  0.00   Min.   :0.000  \n",
       " 1st Qu.: 0.500   1st Qu.: 35.00   1st Qu.: 36.00   1st Qu.:1.361  \n",
       " Median : 1.667   Median : 40.00   Median : 52.00   Median :1.641  \n",
       " Mean   : 3.124   Mean   : 36.56   Mean   : 53.99   Mean   :1.675  \n",
       " 3rd Qu.: 4.167   3rd Qu.: 40.00   3rd Qu.: 72.00   3rd Qu.:1.964  \n",
       " Max.   :25.917   Max.   :168.00   Max.   :104.00   Max.   :5.264  \n",
       " NA's   :433      NA's   :67       NA's   :703                     "
      ]
     },
     "metadata": {},
     "output_type": "display_data"
    },
    {
     "data": {
      "text/plain": [
       "   Min. 1st Qu.  Median    Mean 3rd Qu.    Max. \n",
       "  0.000   1.361   1.641   1.675   1.964   5.264 "
      ]
     },
     "metadata": {},
     "output_type": "display_data"
    }
   ],
   "source": [
    "# data()\n",
    "attach(mtcars)\n",
    "nlswork <- read_dta(\"../data/nlswork.dta\")\n",
    "nls<-data.frame(nlswork)\n",
    "summary(nlswork)\n",
    "attach(nlswork)\n",
    "summary(ln_wage)"
   ]
  },
  {
   "cell_type": "code",
   "execution_count": 5,
   "metadata": {},
   "outputs": [
    {
     "data": {
      "text/plain": [
       "   Min. 1st Qu.  Median    Mean 3rd Qu.    Max. \n",
       "  0.000   1.361   1.641   1.675   1.964   5.264 "
      ]
     },
     "metadata": {},
     "output_type": "display_data"
    }
   ],
   "source": [
    "summary(ln_wage)\n",
    "ii <- 4*9"
   ]
  },
  {
   "cell_type": "code",
   "execution_count": 6,
   "metadata": {},
   "outputs": [
    {
     "name": "stdout",
     "output_type": "stream",
     "text": [
      "\n",
      "\\begin{table}[ht] \\centering \n",
      "  \\caption{Summary table with stargazer} \n",
      "  \\label{table1} \n",
      "\\begin{tabular}{@{\\extracolsep{5pt}}lccccccc} \n",
      "\\\\[-1.8ex]\\hline \n",
      "\\hline \\\\[-1.8ex] \n",
      "Statistic & \\multicolumn{1}{c}{N} & \\multicolumn{1}{c}{Mean} & \\multicolumn{1}{c}{St. Dev.} & \\multicolumn{1}{c}{Min} & \\multicolumn{1}{c}{Pctl(25)} & \\multicolumn{1}{c}{Pctl(75)} & \\multicolumn{1}{c}{Max} \\\\ \n",
      "\\hline \\\\[-1.8ex] \n",
      "idcode & 28,534 & 2,601.284 & 1,487.359 & 1 & 1,327 & 3,881 & 5,159 \\\\ \n",
      "year & 28,534 & 77.959 & 6.384 & 68 & 72 & 83 & 88 \\\\ \n",
      "birth\\_yr & 28,534 & 48.085 & 3.013 & 41 & 46 & 51 & 54 \\\\ \n",
      "age & 28,510 & 29.045 & 6.701 & 14.000 & 23.000 & 34.000 & 46.000 \\\\ \n",
      "race & 28,534 & 1.303 & 0.482 & 1 & 1 & 2 & 3 \\\\ \n",
      "msp & 28,518 & 0.603 & 0.489 & 0.000 & 0.000 & 1.000 & 1.000 \\\\ \n",
      "nev\\_mar & 28,518 & 0.230 & 0.421 & 0.000 & 0.000 & 0.000 & 1.000 \\\\ \n",
      "grade & 28,532 & 12.533 & 2.324 & 0.000 & 12.000 & 14.000 & 18.000 \\\\ \n",
      "collgrad & 28,534 & 0.168 & 0.374 & 0 & 0 & 0 & 1 \\\\ \n",
      "not\\_smsa & 28,526 & 0.282 & 0.450 & 0.000 & 0.000 & 1.000 & 1.000 \\\\ \n",
      "c\\_city & 28,526 & 0.357 & 0.479 & 0.000 & 0.000 & 1.000 & 1.000 \\\\ \n",
      "south & 28,526 & 0.410 & 0.492 & 0.000 & 0.000 & 1.000 & 1.000 \\\\ \n",
      "ind\\_code & 28,193 & 7.693 & 2.994 & 1.000 & 5.000 & 11.000 & 12.000 \\\\ \n",
      "occ\\_code & 28,413 & 4.778 & 3.065 & 1.000 & 3.000 & 6.000 & 13.000 \\\\ \n",
      "union & 19,238 & 0.234 & 0.424 & 0.000 & 0.000 & 0.000 & 1.000 \\\\ \n",
      "wks\\_ue & 22,830 & 2.548 & 7.294 & 0.000 & 0.000 & 0.000 & 76.000 \\\\ \n",
      "ttl\\_exp & 28,534 & 6.215 & 4.652 & 0.000 & 2.462 & 9.128 & 28.885 \\\\ \n",
      "tenure & 28,101 & 3.124 & 3.751 & 0.000 & 0.500 & 4.167 & 25.917 \\\\ \n",
      "hours & 28,467 & 36.560 & 9.870 & 1.000 & 35.000 & 40.000 & 168.000 \\\\ \n",
      "wks\\_work & 27,831 & 53.989 & 29.032 & 0.000 & 36.000 & 72.000 & 104.000 \\\\ \n",
      "ln\\_wage & 28,534 & 1.675 & 0.478 & 0.000 & 1.361 & 1.964 & 5.264 \\\\ \n",
      "\\hline \\\\[-1.8ex] \n",
      "\\end{tabular} \n",
      "\\end{table} \n"
     ]
    }
   ],
   "source": [
    "stargazer(nls,\n",
    "          title = \"Summary table with stargazer\",\n",
    "          label = \"table1\",\n",
    "          table.placement = \"ht\",\n",
    "          header=FALSE)"
   ]
  },
  {
   "cell_type": "code",
   "execution_count": 7,
   "metadata": {},
   "outputs": [
    {
     "name": "stdout",
     "output_type": "stream",
     "text": [
      "\n",
      "\\begin{table}[ht] \\centering \n",
      "  \\caption{Short statistics} \n",
      "  \\label{table:short} \n",
      "\\begin{tabular}{@{\\extracolsep{5pt}}lccccccc} \n",
      "\\\\[-1.8ex]\\hline \n",
      "\\hline \\\\[-1.8ex] \n",
      "Statistic & \\multicolumn{1}{c}{N} & \\multicolumn{1}{c}{Mean} & \\multicolumn{1}{c}{St. Dev.} & \\multicolumn{1}{c}{Min} & \\multicolumn{1}{c}{Pctl(25)} & \\multicolumn{1}{c}{Pctl(75)} & \\multicolumn{1}{c}{Max} \\\\ \n",
      "\\hline \\\\[-1.8ex] \n",
      "tenure & 28,101 & 3.124 & 3.751 & 0.000 & 0.500 & 4.167 & 25.917 \\\\ \n",
      "ln\\_wage & 28,534 & 1.675 & 0.478 & 0.000 & 1.361 & 1.964 & 5.264 \\\\ \n",
      "\\hline \\\\[-1.8ex] \n",
      "\\end{tabular} \n",
      "\\end{table} \n"
     ]
    }
   ],
   "source": [
    "nls %>%\n",
    "  select(tenure,ln_wage) %>%\n",
    "  stargazer(title = \"Short statistics\",\n",
    "          label = \"table:short\",\n",
    "          table.placement = \"ht\",\n",
    "          header=FALSE)"
   ]
  },
  {
   "cell_type": "code",
   "execution_count": 8,
   "metadata": {},
   "outputs": [
    {
     "data": {
      "image/png": "[encoded data removed]",
      "text/plain": [
       "plot without title"
      ]
     },
     "metadata": {
      "image/png": {
       "height": 420,
       "width": 420
      }
     },
     "output_type": "display_data"
    }
   ],
   "source": [
    "plot(x=tenure,y=ln_wage)"
   ]
  },
  {
   "cell_type": "code",
   "execution_count": 9,
   "metadata": {},
   "outputs": [
    {
     "name": "stderr",
     "output_type": "stream",
     "text": [
      "Saving 6.67 x 6.67 in image\n",
      "\n"
     ]
    },
    {
     "data": {
      "image/png": "[encoded data removed]",
      "text/plain": [
       "plot without title"
      ]
     },
     "metadata": {
      "image/png": {
       "height": 420,
       "width": 420
      }
     },
     "output_type": "display_data"
    }
   ],
   "source": [
    "nls2 <- as.data.frame(nlswork)\n",
    "\n",
    "nls2 %>%\n",
    "  select(tenure,ln_wage) %>%\n",
    "  na.omit() %>%\n",
    "  ggplot(aes(tenure,ln_wage)) + geom_point()\n",
    "\n",
    "ggsave(\"images/wages.png\")"
   ]
  },
  {
   "cell_type": "code",
   "execution_count": 10,
   "metadata": {
    "scrolled": true
   },
   "outputs": [
    {
     "name": "stdout",
     "output_type": "stream",
     "text": [
      "\n",
      "\\begin{table}[!ht] \\centering \n",
      "  \\caption{Regression analysis} \n",
      "  \\label{regressions} \n",
      "\\begin{tabular}{@{\\extracolsep{5pt}}lccc} \n",
      "\\\\[-1.8ex]\\hline \n",
      "\\hline \\\\[-1.8ex] \n",
      " & Model 1 & Model 2 & Model 3 \\\\ \n",
      " TENURE & 0.05$^{***}$ & 0.04$^{***}$ & 0.03$^{***}$ \\\\ \n",
      "  & (0.001) & (0.001) & (0.003) \\\\ \n",
      "  UNION &  & 0.17$^{***}$ & 0.11$^{***}$ \\\\ \n",
      "  &  & (0.01) & (0.02) \\\\ \n",
      " \\textit{N} & 28,101 & 19,010 & 1,660 \\\\ \n",
      "R$^{2}$ & 0.14 & 0.14 & 0.10 \\\\ \n",
      "\\hline \n",
      "\\hline \\\\[-1.8ex] \n",
      "\\textit{Notes:} & \\multicolumn{3}{l}{Standard errors in parentheses.} \\\\ \n",
      "\\end{tabular} \n",
      "\\end{table} \n"
     ]
    }
   ],
   "source": [
    "M1 <- lm(data = nls2,ln_wage ~ tenure)\n",
    "\n",
    "# plot(nls2)\n",
    "# abline(M1)\n",
    "\n",
    "M2 <- lm(data=nls2,ln_wage ~ tenure + union)\n",
    "\n",
    "M3 <- lm(data=filter(nls2,year==80),ln_wage ~ tenure + union)\n",
    "\n",
    "\n",
    "# stargazer(M1,M2,M3,title = \"First set of regressions\",column.labels = c(\"M1\", \"M2\",\"M3\"),label = \"regressions\",table.placement = \"ht\",notes.append = FALSE,notes.align=\"l\",notes=\"Standard errors in parentheses.\",header = FALSE,no.space = TRUE,covariate.labels = c(\"TENURE\",\"UNION\"),omit = c(\"Constant\"),omit.stat = c(\"ser\"),digits = 2,digits.extra = 4,omit.yes.no = c(\"Constant\",\"\"),type = \"text\",style = \"qje\")\n",
    "\n",
    "# Stargazer manual\n",
    "# https://cran.r-project.org/web/packages/stargazer/stargazer.pdf\n",
    "\n",
    "stargazer(M1,M2,M3,title = \"Regression analysis\", model.numbers = FALSE,column.labels = c(\"Model 1\", \"Model 2\",\"Model 3\"),label = \"regressions\",table.placement = \"!ht\",notes.append = FALSE,notes.align=\"l\",notes=\"Standard errors in parentheses.\",header = FALSE,no.space = TRUE,covariate.labels = c(\"TENURE\",\"UNION\"),omit = c(\"Constant\"),omit.stat = c(\"adj.rsq\",\"f\",\"ser\"),digits = 2,digits.extra = 4,omit.yes.no = c(\"Constant\",\"\"),dep.var.caption=\"\",dep.var.labels.include = FALSE,style = \"qje\")\n",
    "\n",
    "betas<-coef(M2)\n",
    "r2 <- summary(M2)$r.squared"
   ]
  },
  {
   "cell_type": "code",
   "execution_count": 11,
   "metadata": {},
   "outputs": [
    {
     "name": "stdout",
     "output_type": "stream",
     "text": [
      "\n",
      "Regression analysis\n",
      "=======================================\n",
      "           Model 1          Model 2    \n",
      "TENURE     0.05***          0.04***    \n",
      "           (0.001)          (0.001)    \n",
      "UNION                       0.17***    \n",
      "                            (0.01)     \n",
      "N           28,101          19,010     \n",
      "R2           0.14            0.14      \n",
      "=======================================\n",
      "Notes: Standard errors in parentheses. \n"
     ]
    }
   ],
   "source": [
    "stargazer(M1,M2,title = \"Regression analysis\", model.numbers = FALSE,column.labels = c(\"Model 1\", \"Model 2\",\"Model 3\"),label = \"regressions\",table.placement = \"!ht\",notes.append = FALSE,notes.align=\"l\",notes=\"Standard errors in parentheses.\",header = FALSE,no.space = TRUE,covariate.labels = c(\"TENURE\",\"UNION\"),omit = c(\"Constant\"),omit.stat = c(\"adj.rsq\",\"f\",\"ser\"),digits = 2,digits.extra = 4,omit.yes.no = c(\"Constant\",\"\"),dep.var.caption=\"\",dep.var.labels.include = FALSE,style = \"qje\",type=\"text\")"
   ]
  },
  {
   "cell_type": "code",
   "execution_count": 12,
   "metadata": {},
   "outputs": [
    {
     "name": "stdout",
     "output_type": "stream",
     "text": [
      "\n",
      "Call:\n",
      "lm(formula = ln_wage ~ tenure, data = nls2)\n",
      "\n",
      "Coefficients:\n",
      "(Intercept)       tenure  \n",
      "     1.5297       0.0472  \n",
      "\n"
     ]
    }
   ],
   "source": [
    "print(M1)"
   ]
  },
  {
   "cell_type": "code",
   "execution_count": 13,
   "metadata": {},
   "outputs": [
    {
     "data": {
      "text/plain": [
       "\n",
       "Call:\n",
       "lm(formula = ln_wage ~ tenure, data = nls2)\n",
       "\n",
       "Residuals:\n",
       "    Min      1Q  Median      3Q     Max \n",
       "-1.7705 -0.2692 -0.0259  0.2481  3.5927 \n",
       "\n",
       "Coefficients:\n",
       "             Estimate Std. Error t value Pr(>|t|)    \n",
       "(Intercept) 1.5296610  0.0034451  444.02   <2e-16 ***\n",
       "tenure      0.0471994  0.0007057   66.88   <2e-16 ***\n",
       "---\n",
       "Signif. codes:  0 '***' 0.001 '**' 0.01 '*' 0.05 '.' 0.1 ' ' 1\n",
       "\n",
       "Residual standard error: 0.4438 on 28099 degrees of freedom\n",
       "  (433 observations deleted due to missingness)\n",
       "Multiple R-squared:  0.1373,\tAdjusted R-squared:  0.1373 \n",
       "F-statistic:  4473 on 1 and 28099 DF,  p-value: < 2.2e-16\n"
      ]
     },
     "metadata": {},
     "output_type": "display_data"
    }
   ],
   "source": [
    "summary(M1)"
   ]
  },
  {
   "cell_type": "code",
   "execution_count": 14,
   "metadata": {},
   "outputs": [],
   "source": [
    "######"
   ]
  },
  {
   "cell_type": "code",
   "execution_count": 15,
   "metadata": {},
   "outputs": [
    {
     "name": "stderr",
     "output_type": "stream",
     "text": [
      "Installing package into 'C:/Users/mangelo.EEG/Documents/R/win-library/4.0'\n",
      "(as 'lib' is unspecified)\n",
      "\n"
     ]
    },
    {
     "name": "stdout",
     "output_type": "stream",
     "text": [
      "package 'ExPanDaR' successfully unpacked and MD5 sums checked\n",
      "\n",
      "The downloaded binary packages are in\n",
      "\tC:\\Users\\mangelo.EEG\\AppData\\Local\\Temp\\Rtmp8c3qok\\downloaded_packages\n"
     ]
    }
   ],
   "source": [
    "##install.packages(\"ExPanDaR\")"
   ]
  },
  {
   "cell_type": "code",
   "execution_count": 16,
   "metadata": {},
   "outputs": [
    {
     "name": "stderr",
     "output_type": "stream",
     "text": [
      "The following objects are masked from nlswork (pos = 4):\n",
      "\n",
      "    age, birth_yr, c_city, collgrad, grade, hours, idcode, ind_code,\n",
      "    ln_wage, msp, nev_mar, not_smsa, occ_code, race, south, tenure,\n",
      "    ttl_exp, union, wks_ue, wks_work, year\n",
      "\n",
      "\n"
     ]
    },
    {
     "data": {
      "text/html": [
       "<table>\n",
       "<caption>A tibble: 6 × 21</caption>\n",
       "<thead>\n",
       "\t<tr><th scope=col>idcode</th><th scope=col>year</th><th scope=col>birth_yr</th><th scope=col>age</th><th scope=col>race</th><th scope=col>msp</th><th scope=col>nev_mar</th><th scope=col>grade</th><th scope=col>collgrad</th><th scope=col>not_smsa</th><th scope=col>...</th><th scope=col>south</th><th scope=col>ind_code</th><th scope=col>occ_code</th><th scope=col>union</th><th scope=col>wks_ue</th><th scope=col>ttl_exp</th><th scope=col>tenure</th><th scope=col>hours</th><th scope=col>wks_work</th><th scope=col>ln_wage</th></tr>\n",
       "\t<tr><th scope=col>&lt;dbl&gt;</th><th scope=col>&lt;dbl&gt;</th><th scope=col>&lt;dbl&gt;</th><th scope=col>&lt;dbl&gt;</th><th scope=col>&lt;dbl+lbl&gt;</th><th scope=col>&lt;dbl&gt;</th><th scope=col>&lt;dbl&gt;</th><th scope=col>&lt;dbl&gt;</th><th scope=col>&lt;dbl&gt;</th><th scope=col>&lt;dbl&gt;</th><th scope=col>...</th><th scope=col>&lt;dbl&gt;</th><th scope=col>&lt;dbl&gt;</th><th scope=col>&lt;dbl&gt;</th><th scope=col>&lt;dbl&gt;</th><th scope=col>&lt;dbl&gt;</th><th scope=col>&lt;dbl&gt;</th><th scope=col>&lt;dbl&gt;</th><th scope=col>&lt;dbl&gt;</th><th scope=col>&lt;dbl&gt;</th><th scope=col>&lt;dbl&gt;</th></tr>\n",
       "</thead>\n",
       "<tbody>\n",
       "\t<tr><td>1</td><td>70</td><td>51</td><td>18</td><td>2</td><td>0</td><td>1</td><td>12</td><td>0</td><td>0</td><td>...</td><td>0</td><td> 6</td><td>3</td><td>NA</td><td> 2</td><td>1.083333</td><td>0.08333334</td><td>20</td><td>27</td><td>1.451214</td></tr>\n",
       "\t<tr><td>1</td><td>71</td><td>51</td><td>19</td><td>2</td><td>1</td><td>0</td><td>12</td><td>0</td><td>0</td><td>...</td><td>0</td><td> 4</td><td>6</td><td>NA</td><td>22</td><td>1.275641</td><td>0.08333334</td><td>44</td><td>10</td><td>1.028620</td></tr>\n",
       "\t<tr><td>1</td><td>72</td><td>51</td><td>20</td><td>2</td><td>1</td><td>0</td><td>12</td><td>0</td><td>0</td><td>...</td><td>0</td><td> 4</td><td>6</td><td> 1</td><td> 0</td><td>2.256410</td><td>0.91666669</td><td>40</td><td>51</td><td>1.589977</td></tr>\n",
       "\t<tr><td>1</td><td>73</td><td>51</td><td>21</td><td>2</td><td>1</td><td>0</td><td>12</td><td>0</td><td>0</td><td>...</td><td>0</td><td> 4</td><td>6</td><td>NA</td><td> 0</td><td>2.314102</td><td>0.08333334</td><td>40</td><td> 3</td><td>1.780273</td></tr>\n",
       "\t<tr><td>1</td><td>75</td><td>51</td><td>23</td><td>2</td><td>1</td><td>0</td><td>12</td><td>0</td><td>0</td><td>...</td><td>0</td><td> 5</td><td>6</td><td>NA</td><td> 0</td><td>2.775641</td><td>0.16666667</td><td>10</td><td>24</td><td>1.777012</td></tr>\n",
       "\t<tr><td>1</td><td>77</td><td>51</td><td>25</td><td>2</td><td>0</td><td>0</td><td>12</td><td>0</td><td>0</td><td>...</td><td>0</td><td>12</td><td>8</td><td> 0</td><td> 0</td><td>3.775641</td><td>1.50000000</td><td>32</td><td>52</td><td>1.778681</td></tr>\n",
       "</tbody>\n",
       "</table>\n"
      ],
      "text/latex": [
       "A tibble: 6 × 21\n",
       "\\begin{tabular}{lllllllllllllllllllll}\n",
       " idcode & year & birth\\_yr & age & race & msp & nev\\_mar & grade & collgrad & not\\_smsa & ... & south & ind\\_code & occ\\_code & union & wks\\_ue & ttl\\_exp & tenure & hours & wks\\_work & ln\\_wage\\\\\n",
       " <dbl> & <dbl> & <dbl> & <dbl> & <dbl+lbl> & <dbl> & <dbl> & <dbl> & <dbl> & <dbl> & ... & <dbl> & <dbl> & <dbl> & <dbl> & <dbl> & <dbl> & <dbl> & <dbl> & <dbl> & <dbl>\\\\\n",
       "\\hline\n",
       "\t 1 & 70 & 51 & 18 & 2 & 0 & 1 & 12 & 0 & 0 & ... & 0 &  6 & 3 & NA &  2 & 1.083333 & 0.08333334 & 20 & 27 & 1.451214\\\\\n",
       "\t 1 & 71 & 51 & 19 & 2 & 1 & 0 & 12 & 0 & 0 & ... & 0 &  4 & 6 & NA & 22 & 1.275641 & 0.08333334 & 44 & 10 & 1.028620\\\\\n",
       "\t 1 & 72 & 51 & 20 & 2 & 1 & 0 & 12 & 0 & 0 & ... & 0 &  4 & 6 &  1 &  0 & 2.256410 & 0.91666669 & 40 & 51 & 1.589977\\\\\n",
       "\t 1 & 73 & 51 & 21 & 2 & 1 & 0 & 12 & 0 & 0 & ... & 0 &  4 & 6 & NA &  0 & 2.314102 & 0.08333334 & 40 &  3 & 1.780273\\\\\n",
       "\t 1 & 75 & 51 & 23 & 2 & 1 & 0 & 12 & 0 & 0 & ... & 0 &  5 & 6 & NA &  0 & 2.775641 & 0.16666667 & 10 & 24 & 1.777012\\\\\n",
       "\t 1 & 77 & 51 & 25 & 2 & 0 & 0 & 12 & 0 & 0 & ... & 0 & 12 & 8 &  0 &  0 & 3.775641 & 1.50000000 & 32 & 52 & 1.778681\\\\\n",
       "\\end{tabular}\n"
      ],
      "text/markdown": [
       "\n",
       "A tibble: 6 × 21\n",
       "\n",
       "| idcode &lt;dbl&gt; | year &lt;dbl&gt; | birth_yr &lt;dbl&gt; | age &lt;dbl&gt; | race &lt;dbl+lbl&gt; | msp &lt;dbl&gt; | nev_mar &lt;dbl&gt; | grade &lt;dbl&gt; | collgrad &lt;dbl&gt; | not_smsa &lt;dbl&gt; | ... ... | south &lt;dbl&gt; | ind_code &lt;dbl&gt; | occ_code &lt;dbl&gt; | union &lt;dbl&gt; | wks_ue &lt;dbl&gt; | ttl_exp &lt;dbl&gt; | tenure &lt;dbl&gt; | hours &lt;dbl&gt; | wks_work &lt;dbl&gt; | ln_wage &lt;dbl&gt; |\n",
       "|---|---|---|---|---|---|---|---|---|---|---|---|---|---|---|---|---|---|---|---|---|\n",
       "| 1 | 70 | 51 | 18 | 2 | 0 | 1 | 12 | 0 | 0 | ... | 0 |  6 | 3 | NA |  2 | 1.083333 | 0.08333334 | 20 | 27 | 1.451214 |\n",
       "| 1 | 71 | 51 | 19 | 2 | 1 | 0 | 12 | 0 | 0 | ... | 0 |  4 | 6 | NA | 22 | 1.275641 | 0.08333334 | 44 | 10 | 1.028620 |\n",
       "| 1 | 72 | 51 | 20 | 2 | 1 | 0 | 12 | 0 | 0 | ... | 0 |  4 | 6 |  1 |  0 | 2.256410 | 0.91666669 | 40 | 51 | 1.589977 |\n",
       "| 1 | 73 | 51 | 21 | 2 | 1 | 0 | 12 | 0 | 0 | ... | 0 |  4 | 6 | NA |  0 | 2.314102 | 0.08333334 | 40 |  3 | 1.780273 |\n",
       "| 1 | 75 | 51 | 23 | 2 | 1 | 0 | 12 | 0 | 0 | ... | 0 |  5 | 6 | NA |  0 | 2.775641 | 0.16666667 | 10 | 24 | 1.777012 |\n",
       "| 1 | 77 | 51 | 25 | 2 | 0 | 0 | 12 | 0 | 0 | ... | 0 | 12 | 8 |  0 |  0 | 3.775641 | 1.50000000 | 32 | 52 | 1.778681 |\n",
       "\n"
      ],
      "text/plain": [
       "  idcode year birth_yr age race msp nev_mar grade collgrad not_smsa ... south\n",
       "1 1      70   51       18  2    0   1       12    0        0        ... 0    \n",
       "2 1      71   51       19  2    1   0       12    0        0        ... 0    \n",
       "3 1      72   51       20  2    1   0       12    0        0        ... 0    \n",
       "4 1      73   51       21  2    1   0       12    0        0        ... 0    \n",
       "5 1      75   51       23  2    1   0       12    0        0        ... 0    \n",
       "6 1      77   51       25  2    0   0       12    0        0        ... 0    \n",
       "  ind_code occ_code union wks_ue ttl_exp  tenure     hours wks_work ln_wage \n",
       "1  6       3        NA     2     1.083333 0.08333334 20    27       1.451214\n",
       "2  4       6        NA    22     1.275641 0.08333334 44    10       1.028620\n",
       "3  4       6         1     0     2.256410 0.91666669 40    51       1.589977\n",
       "4  4       6        NA     0     2.314102 0.08333334 40     3       1.780273\n",
       "5  5       6        NA     0     2.775641 0.16666667 10    24       1.777012\n",
       "6 12       8         0     0     3.775641 1.50000000 32    52       1.778681"
      ]
     },
     "metadata": {},
     "output_type": "display_data"
    },
    {
     "name": "stdout",
     "output_type": "stream",
     "text": [
      "\n",
      "\\begin{table}[ht] \\centering \n",
      "  \\caption{Summary statistics} \n",
      "  \\label{tab1} \n",
      "\\begin{tabular}{@{\\extracolsep{5pt}}lccccccc} \n",
      "\\\\[-1.8ex]\\hline \n",
      "\\hline \\\\[-1.8ex] \n",
      "Statistic & \\multicolumn{1}{c}{N} & \\multicolumn{1}{c}{Mean} & \\multicolumn{1}{c}{St. Dev.} & \\multicolumn{1}{c}{Min} & \\multicolumn{1}{c}{Pctl(25)} & \\multicolumn{1}{c}{Pctl(75)} & \\multicolumn{1}{c}{Max} \\\\ \n",
      "\\hline \\\\[-1.8ex] \n",
      "idcode & 28,534 & 2,601.284 & 1,487.359 & 1 & 1,327 & 3,881 & 5,159 \\\\ \n",
      "year & 28,534 & 77.959 & 6.384 & 68 & 72 & 83 & 88 \\\\ \n",
      "birth\\_yr & 28,534 & 48.085 & 3.013 & 41 & 46 & 51 & 54 \\\\ \n",
      "age & 28,510 & 29.045 & 6.701 & 14.000 & 23.000 & 34.000 & 46.000 \\\\ \n",
      "race & 28,534 & 1.303 & 0.482 & 1 & 1 & 2 & 3 \\\\ \n",
      "msp & 28,518 & 0.603 & 0.489 & 0.000 & 0.000 & 1.000 & 1.000 \\\\ \n",
      "nev\\_mar & 28,518 & 0.230 & 0.421 & 0.000 & 0.000 & 0.000 & 1.000 \\\\ \n",
      "grade & 28,532 & 12.533 & 2.324 & 0.000 & 12.000 & 14.000 & 18.000 \\\\ \n",
      "collgrad & 28,534 & 0.168 & 0.374 & 0 & 0 & 0 & 1 \\\\ \n",
      "not\\_smsa & 28,526 & 0.282 & 0.450 & 0.000 & 0.000 & 1.000 & 1.000 \\\\ \n",
      "c\\_city & 28,526 & 0.357 & 0.479 & 0.000 & 0.000 & 1.000 & 1.000 \\\\ \n",
      "south & 28,526 & 0.410 & 0.492 & 0.000 & 0.000 & 1.000 & 1.000 \\\\ \n",
      "ind\\_code & 28,193 & 7.693 & 2.994 & 1.000 & 5.000 & 11.000 & 12.000 \\\\ \n",
      "occ\\_code & 28,413 & 4.778 & 3.065 & 1.000 & 3.000 & 6.000 & 13.000 \\\\ \n",
      "union & 19,238 & 0.234 & 0.424 & 0.000 & 0.000 & 0.000 & 1.000 \\\\ \n",
      "wks\\_ue & 22,830 & 2.548 & 7.294 & 0.000 & 0.000 & 0.000 & 76.000 \\\\ \n",
      "ttl\\_exp & 28,534 & 6.215 & 4.652 & 0.000 & 2.462 & 9.128 & 28.885 \\\\ \n",
      "tenure & 28,101 & 3.124 & 3.751 & 0.000 & 0.500 & 4.167 & 25.917 \\\\ \n",
      "hours & 28,467 & 36.560 & 9.870 & 1.000 & 35.000 & 40.000 & 168.000 \\\\ \n",
      "wks\\_work & 27,831 & 53.989 & 29.032 & 0.000 & 36.000 & 72.000 & 104.000 \\\\ \n",
      "ln\\_wage & 28,534 & 1.675 & 0.478 & 0.000 & 1.361 & 1.964 & 5.264 \\\\ \n",
      "\\hline \\\\[-1.8ex] \n",
      "\\end{tabular} \n",
      "\\end{table} \n"
     ]
    }
   ],
   "source": [
    "## ExPanDaR: Explore Panel Data Interactively\n",
    "\n",
    "  library(ExPanDaR)\n",
    "\n",
    "    ## type ExPanD() in the Console\n",
    "\n",
    "#setwd(\"/Users/miguelportela/Documents/GitHub/prjs/logs\")\n",
    "setwd(\"C:\\\\Users\\\\mangelo.EEG\\\\Documents\\\\GitHub\\\\R_Training\\\\jupyter\")\n",
    "\n",
    "library(haven)\n",
    "library(ggplot2)\n",
    "\n",
    "nlswork <- read_dta(\"data/nlswork.dta\")\n",
    "\n",
    "nls<-data.frame(nlswork)\n",
    "\n",
    "attach(nlswork)\n",
    "\n",
    "head(nlswork)\n",
    "\n",
    "library(stargazer)\n",
    "stargazer(nls,\n",
    "          title = \"Summary statistics\",\n",
    "          label=\"tab1\",\n",
    "          table.placement = \"ht\",\n",
    "          header=FALSE)"
   ]
  },
  {
   "cell_type": "code",
   "execution_count": null,
   "metadata": {},
   "outputs": [
    {
     "name": "stderr",
     "output_type": "stream",
     "text": [
      "Warning message:\n",
      "\"Unquoting language objects with `!!!` is deprecated as of rlang 0.4.0.\n",
      "Please use `!!` instead.\n",
      "\n",
      "  # Bad:\n",
      "  dplyr::select(data, !!!enquo(x))\n",
      "\n",
      "  # Good:\n",
      "  dplyr::select(data, !!enquo(x))    # Unquote single quosure\n",
      "  dplyr::select(data, !!!enquos(x))  # Splice list of quosures\n",
      "\n",
      "\u001b[90mThis warning is displayed once per session.\u001b[39m\"\n",
      "\n",
      "\n",
      "processing file: C:\\Users\\mangelo.EEG\\Documents\\GitHub\\R_Training\\jupyter\\reports\\/EDA_Report.Rnw\n",
      "\n"
     ]
    },
    {
     "name": "stdout",
     "output_type": "stream",
     "text": [
      "  |.......................                                               |  33%\n",
      "  ordinary text without R code\n",
      "\n",
      "  |...............................................                       |  67%\n",
      "label: child-section-application (with options) \n",
      "List of 1\n",
      " $ child: chr \"02_RunEDA.Rnw\"\n",
      "\n"
     ]
    },
    {
     "name": "stderr",
     "output_type": "stream",
     "text": [
      "\n",
      "\n",
      "processing file: C:/Users/mangelo.EEG/Documents/GitHub/R_Training/jupyter/reports/02_RunEDA.Rnw\n",
      "\n"
     ]
    },
    {
     "name": "stdout",
     "output_type": "stream",
     "text": [
      "  |...                                                                   |   4%\n",
      "  ordinary text without R code\n",
      "\n",
      "  |......                                                                |   8%\n",
      "label: enrironment (with options) \n",
      "List of 3\n",
      " $ echo   : logi FALSE\n",
      " $ warning: logi FALSE\n",
      " $ message: logi FALSE\n",
      "\n"
     ]
    },
    {
     "name": "stderr",
     "output_type": "stream",
     "text": [
      "\n",
      "Attaching package: 'gridExtra'\n",
      "\n",
      "\n",
      "The following object is masked from 'package:dplyr':\n",
      "\n",
      "    combine\n",
      "\n",
      "\n",
      "\n",
      "Attaching package: 'kableExtra'\n",
      "\n",
      "\n",
      "The following object is masked from 'package:dplyr':\n",
      "\n",
      "    group_rows\n",
      "\n",
      "\n"
     ]
    },
    {
     "name": "stdout",
     "output_type": "stream",
     "text": [
      "  |........                                                              |  12%\n",
      "  ordinary text without R code\n",
      "\n",
      "  |...........                                                           |  16%\n",
      "label: check_variables (with options) \n",
      "List of 1\n",
      " $ echo: logi FALSE\n",
      "\n",
      "  |..............                                                        |  20%\n",
      "   inline R code fragments\n",
      "\n",
      "  |.................                                                     |  24%\n",
      "label: info_variables (with options) \n",
      "List of 2\n",
      " $ echo   : logi FALSE\n",
      " $ results: chr \"asis\"\n",
      "\n",
      "  |....................                                                  |  28%\n",
      "   inline R code fragments\n",
      "\n",
      "  |......................                                                |  32%\n",
      "label: describe_univariate (with options) \n",
      "List of 3\n",
      " $ echo   : logi FALSE\n",
      " $ comment: chr \"\"\n",
      " $ results: chr \"asis\"\n",
      "\n",
      "  |.........................                                             |  36%\n",
      "  ordinary text without R code\n",
      "\n",
      "  |............................                                          |  40%\n",
      "label: normality (with options) \n",
      "List of 2\n",
      " $ echo   : logi FALSE\n",
      " $ results: chr \"asis\"\n",
      "\n",
      "  |...............................                                       |  44%\n",
      "  ordinary text without R code\n",
      "\n",
      "  |..................................                                    |  48%\n",
      "label: correlations (with options) \n",
      "List of 2\n",
      " $ echo   : logi FALSE\n",
      " $ results: chr \"asis\"\n",
      "\n",
      "  |....................................                                  |  52%\n",
      "  ordinary text without R code\n",
      "\n",
      "  |.......................................                               |  56%\n",
      "label: plot_correlations (with options) \n",
      "List of 2\n",
      " $ echo   : logi FALSE\n",
      " $ results: chr \"asis\"\n",
      "\n",
      "  |..........................................                            |  60%\n",
      "  ordinary text without R code\n",
      "\n",
      "  |.............................................                         |  64%\n",
      "label: numeric_variables (with options) \n",
      "List of 2\n",
      " $ echo   : logi FALSE\n",
      " $ results: chr \"asis\"\n",
      "\n",
      "  |................................................                      |  68%\n",
      "  ordinary text without R code\n",
      "\n",
      "  |..................................................                    |  72%\n",
      "label: category_variables (with options) \n",
      "List of 2\n",
      " $ echo   : logi FALSE\n",
      " $ results: chr \"asis\"\n",
      "\n",
      "  |.....................................................                 |  76%\n",
      "  ordinary text without R code\n",
      "\n",
      "  |........................................................              |  80%\n",
      "label: group_correlations (with options) \n",
      "List of 2\n",
      " $ echo   : logi FALSE\n",
      " $ results: chr \"asis\"\n",
      "\n",
      "  |...........................................................           |  84%\n",
      "  ordinary text without R code\n",
      "\n",
      "  |..............................................................        |  88%\n",
      "label: plot_group_correlations (with options) \n",
      "List of 2\n",
      " $ echo   : logi FALSE\n",
      " $ results: chr \"asis\"\n",
      "\n",
      "  |................................................................      |  92%\n",
      "  ordinary text without R code\n",
      "\n",
      "  |...................................................................   |  96%\n",
      "label: option_undo (with options) \n",
      "List of 1\n",
      " $ echo: logi FALSE\n",
      "\n",
      "  |......................................................................| 100%\n",
      "  ordinary text without R code\n",
      "\n",
      "\n",
      "  |......................................................................| 100%\n",
      "  ordinary text without R code\n",
      "\n",
      "\n"
     ]
    },
    {
     "name": "stderr",
     "output_type": "stream",
     "text": [
      "output file: C:\\Users\\mangelo.EEG\\Documents\\GitHub\\R_Training\\jupyter\\reports\\/eda_report.tex\n",
      "\n",
      "\n"
     ]
    }
   ],
   "source": [
    "library(dplyr)\n",
    "library(dlookr)\n",
    "library(ggplot2)\n",
    "\n",
    "## https://cran.r-project.org/web/packages/dlookr/vignettes/EDA.html\n",
    "\n",
    "##eda_report(nlswork,output_dir = \"/Users/miguelportela/Documents/GitHub/prjs/reports/\",output_file = \"eda_report.pdf\")\n",
    "\n",
    "eda_report(nlswork,output_dir = \"C:\\\\Users\\\\mangelo.EEG\\\\Documents\\\\GitHub\\\\R_Training\\\\jupyter\\\\reports\\\\\",output_file = \"eda_report.pdf\")\n",
    "\n",
    "## The data\n",
    "\n",
    "names(nlswork)\n",
    "##summary(nlswork)\n",
    "\n",
    "## Missing values\n",
    "\n",
    "library(\"visdat\")\n",
    "\n",
    "  vis_dat(nlswork)\n",
    "\n",
    "## https://cran.r-project.org/web/packages/naniar/vignettes/naniar-visualisation.html\n",
    "\n",
    "library(naniar)\n",
    "\n",
    "  vis_miss(nlswork)\n",
    "\n",
    "  gg_miss_upset(nlswork)\n",
    "\n",
    "## GRAPHS\n",
    "dplyr::glimpse(nlswork$ln_wage)\n",
    "d <- density(ln_wage)\n",
    "plot(d)\n",
    "\n",
    "plot(nls$ln_wage,nls$ttl_exp)\n",
    "\n",
    "ggplot(nlswork,\n",
    "       aes(x = hours,\n",
    "           y = year)) +\n",
    "geom_miss_point()\n",
    "\n",
    "ggplot(nlswork,\n",
    "       aes(x = hours,\n",
    "           y = year)) +\n",
    "geom_miss_point() +\n",
    "facet_wrap(race)\n",
    "\n",
    "stats <- summary(nlswork$age)\n"
   ]
  },
  {
   "cell_type": "code",
   "execution_count": 18,
   "metadata": {},
   "outputs": [
    {
     "name": "stdout",
     "output_type": "stream",
     "text": [
      "\n",
      "\\begin{table}[H] \\centering \n",
      "  \\caption{Summary table with stargazer} \n",
      "  \\label{tab1cars} \n",
      "\\begin{tabular}{@{\\extracolsep{5pt}}lccccccc} \n",
      "\\\\[-1.8ex]\\hline \n",
      "\\hline \\\\[-1.8ex] \n",
      "Statistic & \\multicolumn{1}{c}{N} & \\multicolumn{1}{c}{Mean} & \\multicolumn{1}{c}{St. Dev.} & \\multicolumn{1}{c}{Min} & \\multicolumn{1}{c}{Pctl(25)} & \\multicolumn{1}{c}{Pctl(75)} & \\multicolumn{1}{c}{Max} \\\\ \n",
      "\\hline \\\\[-1.8ex] \n",
      "speed & 50 & 15.400 & 5.288 & 4 & 12 & 19 & 25 \\\\ \n",
      "dist & 50 & 42.980 & 25.769 & 2 & 26 & 56 & 120 \\\\ \n",
      "\\hline \\\\[-1.8ex] \n",
      "\\end{tabular} \n",
      "\\end{table} \n"
     ]
    }
   ],
   "source": [
    "library(stargazer)\n",
    "stargazer(cars,\n",
    "          title = \"Summary table with stargazer\",\n",
    "          label=\"tab1cars\",\n",
    "          table.placement = \"H\",\n",
    "          header=FALSE)"
   ]
  },
  {
   "cell_type": "code",
   "execution_count": 19,
   "metadata": {},
   "outputs": [
    {
     "name": "stdout",
     "output_type": "stream",
     "text": [
      "\n",
      "Regression table with stargazer\n",
      "===========================================================\n",
      "                                   Dependent variable:     \n",
      "                              -----------------------------\n",
      "                                     speed          dist   \n",
      "                                 M1        M2        M3    \n",
      "-----------------------------------------------------------\n",
      "dist                          0.166***  0.166***           \n",
      "                               (0.017)   (0.017)           \n",
      "                                                           \n",
      "speed                                             3.932*** \n",
      "                                                   (0.416) \n",
      "                                                           \n",
      "Constant                      8.284***  8.284***  -17.579**\n",
      "                               (0.874)   (0.874)   (6.758) \n",
      "                                                           \n",
      "-----------------------------------------------------------\n",
      "Observations                     50        50        50    \n",
      "R2                              0.651     0.651     0.651  \n",
      "Adjusted R2                     0.644     0.644     0.644  \n",
      "Residual Std. Error (df = 48)   3.156     3.156    15.380  \n",
      "F Statistic (df = 1; 48)      89.567*** 89.567*** 89.567***\n",
      "===========================================================\n",
      "Note:                           *p<0.1; **p<0.05; ***p<0.01\n"
     ]
    }
   ],
   "source": [
    "library(stargazer)\n",
    "model1 <- lm(speed ~ dist, data = cars)\n",
    "model2 <- lm(speed ~ dist, data = cars)\n",
    "model3 <- lm(dist ~ speed, data = cars)\n",
    "stargazer(model1, model2, model3,\n",
    "          title = \"Regression table with stargazer\",\n",
    "          label=\"tab2\",\n",
    "          table.placement = \"H\",\n",
    "          column.labels = c(\"M1\", \"M2\", \"M3\"),\n",
    "          model.numbers = FALSE,\n",
    "          header=FALSE,type=\"text\")\n"
   ]
  },
  {
   "cell_type": "code",
   "execution_count": 20,
   "metadata": {},
   "outputs": [
    {
     "data": {
      "image/png": "[encoded data removed]",
      "text/plain": [
       "plot without title"
      ]
     },
     "metadata": {
      "image/png": {
       "height": 420,
       "width": 420
      }
     },
     "output_type": "display_data"
    }
   ],
   "source": [
    "plot(cars$speed, cars$dist)"
   ]
  },
  {
   "cell_type": "code",
   "execution_count": 21,
   "metadata": {},
   "outputs": [
    {
     "data": {
      "image/png": "[encoded data removed]",
      "text/plain": [
       "plot without title"
      ]
     },
     "metadata": {
      "image/png": {
       "height": 420,
       "width": 420
      }
     },
     "output_type": "display_data"
    }
   ],
   "source": [
    "mtcars$cyl <- as.factor(mtcars$cyl) # Convert cyl to factor\n",
    "library(ggplot2)\n",
    "ggplot(mtcars, aes(x=wt, y=mpg, shape=cyl)) + geom_point() +\n",
    "  labs(x=\"Weight (lb/1000)\", y = \"Miles/(US) gallon\",\n",
    "       shape=\"Number of \\n Cylinders\") + theme_classic()"
   ]
  },
  {
   "cell_type": "code",
   "execution_count": 22,
   "metadata": {},
   "outputs": [
    {
     "name": "stderr",
     "output_type": "stream",
     "text": [
      "\n",
      "Attaching package: 'plotly'\n",
      "\n",
      "\n",
      "The following object is masked from 'package:ggplot2':\n",
      "\n",
      "    last_plot\n",
      "\n",
      "\n",
      "The following object is masked from 'package:stats':\n",
      "\n",
      "    filter\n",
      "\n",
      "\n",
      "The following object is masked from 'package:graphics':\n",
      "\n",
      "    layout\n",
      "\n",
      "\n"
     ]
    },
    {
     "ename": "ERROR",
     "evalue": "Error: The orca command-line utility is required for this functionality.\n\nPlease follow the installation instructions here -- https://github.com/plotly/orca#installation\n",
     "output_type": "error",
     "traceback": [
      "Error: The orca command-line utility is required for this functionality.\n\nPlease follow the installation instructions here -- https://github.com/plotly/orca#installation\nTraceback:\n",
      "1. orca(p, \"logs/plotly-plot.pdf\")",
      "2. orca_available()",
      "3. stop(\"The orca command-line utility is required for this functionality.\\n\\n\", \n .     \"Please follow the installation instructions here -- https://github.com/plotly/orca#installation\", \n .     call. = FALSE)"
     ]
    }
   ],
   "source": [
    "library(plotly)\n",
    "p <- plot_ly(cars, type = \"scatter\", mode=\"markers\",\n",
    "        x=~speed,\n",
    "        y=~dist)\n",
    "Sys.setenv('MAPBOX_TOKEN' = '12423423') # set arbitrary token\n",
    "orca(p, \"logs/plotly-plot.pdf\")"
   ]
  },
  {
   "cell_type": "code",
   "execution_count": null,
   "metadata": {},
   "outputs": [],
   "source": []
  }
 ],
 "metadata": {
  "kernelspec": {
   "display_name": "R",
   "language": "R",
   "name": "ir"
  },
  "language_info": {
   "codemirror_mode": "r",
   "file_extension": ".r",
   "mimetype": "text/x-r-source",
   "name": "R",
   "pygments_lexer": "r",
   "version": "4.0.3"
  },
  "latex_envs": {
   "LaTeX_envs_menu_present": true,
   "autoclose": false,
   "autocomplete": true,
   "bibliofile": "biblio.bib",
   "cite_by": "apalike",
   "current_citInitial": 1,
   "eqLabelWithNumbers": true,
   "eqNumInitial": 1,
   "hotkeys": {
    "equation": "Ctrl-E",
    "itemize": "Ctrl-I"
   },
   "labels_anchors": false,
   "latex_user_defs": false,
   "report_style_numbering": false,
   "user_envs_cfg": false
  }
 },
 "nbformat": 4,
 "nbformat_minor": 4
}
