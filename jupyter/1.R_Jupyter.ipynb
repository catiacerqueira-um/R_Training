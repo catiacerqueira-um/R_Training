{
 "cells": [
  {
   "cell_type": "code",
   "execution_count": 2,
   "metadata": {},
   "outputs": [
    {
     "data": {
      "text/plain": [
       "               _                           \n",
       "platform       x86_64-apple-darwin17.0     \n",
       "arch           x86_64                      \n",
       "os             darwin17.0                  \n",
       "system         x86_64, darwin17.0          \n",
       "status                                     \n",
       "major          4                           \n",
       "minor          0.0                         \n",
       "year           2020                        \n",
       "month          04                          \n",
       "day            24                          \n",
       "svn rev        78286                       \n",
       "language       R                           \n",
       "version.string R version 4.0.0 (2020-04-24)\n",
       "nickname       Arbor Day                   "
      ]
     },
     "metadata": {},
     "output_type": "display_data"
    }
   ],
   "source": [
    "version"
   ]
  },
  {
   "cell_type": "code",
   "execution_count": 4,
   "metadata": {},
   "outputs": [
    {
     "data": {
      "text/html": [
       "'/Users/miguelportela/Documents/GitHub/BPLIM-Academy/jupyter'"
      ],
      "text/latex": [
       "'/Users/miguelportela/Documents/GitHub/BPLIM-Academy/jupyter'"
      ],
      "text/markdown": [
       "'/Users/miguelportela/Documents/GitHub/BPLIM-Academy/jupyter'"
      ],
      "text/plain": [
       "[1] \"/Users/miguelportela/Documents/GitHub/BPLIM-Academy/jupyter\""
      ]
     },
     "metadata": {},
     "output_type": "display_data"
    }
   ],
   "source": [
    "getwd()"
   ]
  },
  {
   "cell_type": "code",
   "execution_count": 6,
   "metadata": {},
   "outputs": [
    {
     "name": "stdout",
     "output_type": "stream",
     "text": [
      "\n",
      "The downloaded binary packages are in\n",
      "\t/var/folders/qm/b13ytkc15ks2kdxtvs4gcgcc0000gn/T//RtmpL29N9d/downloaded_packages\n"
     ]
    }
   ],
   "source": [
    "install.packages(\"RStata\")"
   ]
  },
  {
   "cell_type": "code",
   "execution_count": null,
   "metadata": {},
   "outputs": [],
   "source": []
  }
 ],
 "metadata": {
  "kernelspec": {
   "display_name": "R",
   "language": "R",
   "name": "ir"
  },
  "language_info": {
   "codemirror_mode": "r",
   "file_extension": ".r",
   "mimetype": "text/x-r-source",
   "name": "R",
   "pygments_lexer": "r",
   "version": "4.0.2"
  }
 },
 "nbformat": 4,
 "nbformat_minor": 4
}
