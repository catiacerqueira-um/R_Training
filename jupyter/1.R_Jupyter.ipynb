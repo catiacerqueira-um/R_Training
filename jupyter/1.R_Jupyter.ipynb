{
 "cells": [
  {
   "cell_type": "code",
   "execution_count": 1,
   "metadata": {},
   "outputs": [
    {
     "data": {
      "text/plain": [
       "               _                           \n",
       "platform       x86_64-w64-mingw32          \n",
       "arch           x86_64                      \n",
       "os             mingw32                     \n",
       "system         x86_64, mingw32             \n",
       "status                                     \n",
       "major          4                           \n",
       "minor          0.3                         \n",
       "year           2020                        \n",
       "month          10                          \n",
       "day            10                          \n",
       "svn rev        79318                       \n",
       "language       R                           \n",
       "version.string R version 4.0.3 (2020-10-10)\n",
       "nickname       Bunny-Wunnies Freak Out     "
      ]
     },
     "metadata": {},
     "output_type": "display_data"
    }
   ],
   "source": [
    "version"
   ]
  },
  {
   "cell_type": "code",
   "execution_count": 2,
   "metadata": {},
   "outputs": [
    {
     "data": {
      "text/html": [
       "'C:/Users/mangelo.EEG/Documents/GitHub/R_Training/jupyter'"
      ],
      "text/latex": [
       "'C:/Users/mangelo.EEG/Documents/GitHub/R\\_Training/jupyter'"
      ],
      "text/markdown": [
       "'C:/Users/mangelo.EEG/Documents/GitHub/R_Training/jupyter'"
      ],
      "text/plain": [
       "[1] \"C:/Users/mangelo.EEG/Documents/GitHub/R_Training/jupyter\""
      ]
     },
     "metadata": {},
     "output_type": "display_data"
    }
   ],
   "source": [
    "rm(list = ls())\n",
    "getwd()"
   ]
  },
  {
   "cell_type": "code",
   "execution_count": 3,
   "metadata": {},
   "outputs": [
    {
     "name": "stderr",
     "output_type": "stream",
     "text": [
      "-- \u001b[1mAttaching packages\u001b[22m --------------------------------------- tidyverse 1.3.0 --\n",
      "\n",
      "\u001b[32mv\u001b[39m \u001b[34mggplot2\u001b[39m 3.3.2     \u001b[32mv\u001b[39m \u001b[34mpurrr  \u001b[39m 0.3.4\n",
      "\u001b[32mv\u001b[39m \u001b[34mtibble \u001b[39m 3.0.3     \u001b[32mv\u001b[39m \u001b[34mdplyr  \u001b[39m 1.0.2\n",
      "\u001b[32mv\u001b[39m \u001b[34mtidyr  \u001b[39m 1.1.0     \u001b[32mv\u001b[39m \u001b[34mstringr\u001b[39m 1.4.0\n",
      "\u001b[32mv\u001b[39m \u001b[34mreadr  \u001b[39m 1.3.1     \u001b[32mv\u001b[39m \u001b[34mforcats\u001b[39m 0.5.0\n",
      "\n",
      "-- \u001b[1mConflicts\u001b[22m ------------------------------------------ tidyverse_conflicts() --\n",
      "\u001b[31mx\u001b[39m \u001b[34mdplyr\u001b[39m::\u001b[32mfilter()\u001b[39m masks \u001b[34mstats\u001b[39m::filter()\n",
      "\u001b[31mx\u001b[39m \u001b[34mdplyr\u001b[39m::\u001b[32mlag()\u001b[39m    masks \u001b[34mstats\u001b[39m::lag()\n",
      "\n",
      "\n",
      "Please cite as: \n",
      "\n",
      "\n",
      " Hlavac, Marek (2018). stargazer: Well-Formatted Regression and Summary Statistics Tables.\n",
      "\n",
      " R package version 5.2.2. https://CRAN.R-project.org/package=stargazer \n",
      "\n",
      "\n",
      "Loading required package: mice\n",
      "\n",
      "\n",
      "Attaching package: 'mice'\n",
      "\n",
      "\n",
      "The following objects are masked from 'package:base':\n",
      "\n",
      "    cbind, rbind\n",
      "\n",
      "\n",
      "Registered S3 method overwritten by 'quantmod':\n",
      "  method            from\n",
      "  as.zoo.data.frame zoo \n",
      "\n",
      "\n",
      "Attaching package: 'dlookr'\n",
      "\n",
      "\n",
      "The following object is masked from 'package:base':\n",
      "\n",
      "    transform\n",
      "\n",
      "\n"
     ]
    }
   ],
   "source": [
    "# setwd(\"/Users/miguelportela/Documents/GitHub/R_Training/examples\")\n",
    "# setwd(\"C:/Users/mangelo.EEG/Documents/GitHub/R_Training/examples\")\n",
    "\n",
    "library(tidyverse)\n",
    "library(ggplot2)\n",
    "library(haven)\n",
    "library(stargazer)\n",
    "library(dplyr)\n",
    "library(dlookr)"
   ]
  },
  {
   "cell_type": "code",
   "execution_count": 4,
   "metadata": {},
   "outputs": [
    {
     "data": {
      "text/plain": [
       "     idcode          year          birth_yr          age             race      \n",
       " Min.   :   1   Min.   :68.00   Min.   :41.00   Min.   :14.00   Min.   :1.000  \n",
       " 1st Qu.:1327   1st Qu.:72.00   1st Qu.:46.00   1st Qu.:23.00   1st Qu.:1.000  \n",
       " Median :2606   Median :78.00   Median :48.00   Median :28.00   Median :1.000  \n",
       " Mean   :2601   Mean   :77.96   Mean   :48.09   Mean   :29.05   Mean   :1.303  \n",
       " 3rd Qu.:3881   3rd Qu.:83.00   3rd Qu.:51.00   3rd Qu.:34.00   3rd Qu.:2.000  \n",
       " Max.   :5159   Max.   :88.00   Max.   :54.00   Max.   :46.00   Max.   :3.000  \n",
       "                                                NA's   :24                     \n",
       "      msp            nev_mar           grade          collgrad    \n",
       " Min.   :0.0000   Min.   :0.0000   Min.   : 0.00   Min.   :0.000  \n",
       " 1st Qu.:0.0000   1st Qu.:0.0000   1st Qu.:12.00   1st Qu.:0.000  \n",
       " Median :1.0000   Median :0.0000   Median :12.00   Median :0.000  \n",
       " Mean   :0.6029   Mean   :0.2297   Mean   :12.53   Mean   :0.168  \n",
       " 3rd Qu.:1.0000   3rd Qu.:0.0000   3rd Qu.:14.00   3rd Qu.:0.000  \n",
       " Max.   :1.0000   Max.   :1.0000   Max.   :18.00   Max.   :1.000  \n",
       " NA's   :16       NA's   :16       NA's   :2                      \n",
       "    not_smsa          c_city           south           ind_code     \n",
       " Min.   :0.0000   Min.   :0.0000   Min.   :0.0000   Min.   : 1.000  \n",
       " 1st Qu.:0.0000   1st Qu.:0.0000   1st Qu.:0.0000   1st Qu.: 5.000  \n",
       " Median :0.0000   Median :0.0000   Median :0.0000   Median : 7.000  \n",
       " Mean   :0.2824   Mean   :0.3572   Mean   :0.4096   Mean   : 7.693  \n",
       " 3rd Qu.:1.0000   3rd Qu.:1.0000   3rd Qu.:1.0000   3rd Qu.:11.000  \n",
       " Max.   :1.0000   Max.   :1.0000   Max.   :1.0000   Max.   :12.000  \n",
       " NA's   :8        NA's   :8        NA's   :8        NA's   :341     \n",
       "    occ_code          union           wks_ue          ttl_exp      \n",
       " Min.   : 1.000   Min.   :0.000   Min.   : 0.000   Min.   : 0.000  \n",
       " 1st Qu.: 3.000   1st Qu.:0.000   1st Qu.: 0.000   1st Qu.: 2.462  \n",
       " Median : 3.000   Median :0.000   Median : 0.000   Median : 5.058  \n",
       " Mean   : 4.778   Mean   :0.234   Mean   : 2.548   Mean   : 6.215  \n",
       " 3rd Qu.: 6.000   3rd Qu.:0.000   3rd Qu.: 0.000   3rd Qu.: 9.128  \n",
       " Max.   :13.000   Max.   :1.000   Max.   :76.000   Max.   :28.885  \n",
       " NA's   :121      NA's   :9296    NA's   :5704                     \n",
       "     tenure           hours           wks_work         ln_wage     \n",
       " Min.   : 0.000   Min.   :  1.00   Min.   :  0.00   Min.   :0.000  \n",
       " 1st Qu.: 0.500   1st Qu.: 35.00   1st Qu.: 36.00   1st Qu.:1.361  \n",
       " Median : 1.667   Median : 40.00   Median : 52.00   Median :1.641  \n",
       " Mean   : 3.124   Mean   : 36.56   Mean   : 53.99   Mean   :1.675  \n",
       " 3rd Qu.: 4.167   3rd Qu.: 40.00   3rd Qu.: 72.00   3rd Qu.:1.964  \n",
       " Max.   :25.917   Max.   :168.00   Max.   :104.00   Max.   :5.264  \n",
       " NA's   :433      NA's   :67       NA's   :703                     "
      ]
     },
     "metadata": {},
     "output_type": "display_data"
    },
    {
     "data": {
      "text/plain": [
       "   Min. 1st Qu.  Median    Mean 3rd Qu.    Max. \n",
       "  0.000   1.397   1.690   1.714   2.001   5.264 "
      ]
     },
     "metadata": {},
     "output_type": "display_data"
    }
   ],
   "source": [
    "# data()\n",
    "##attach(mtcars)\n",
    "nlswork <- read_dta(\"../data/nlswork.dta\")\n",
    "nls<-na.omit(as.data.frame(nlswork))\n",
    "summary(nlswork)\n",
    "attach(nls)\n",
    "summary(ln_wage)"
   ]
  },
  {
   "cell_type": "code",
   "execution_count": 5,
   "metadata": {},
   "outputs": [
    {
     "data": {
      "text/html": [
       "<table>\n",
       "<caption>A data.frame: 6 × 21</caption>\n",
       "<thead>\n",
       "\t<tr><th></th><th scope=col>idcode</th><th scope=col>year</th><th scope=col>birth_yr</th><th scope=col>age</th><th scope=col>race</th><th scope=col>msp</th><th scope=col>nev_mar</th><th scope=col>grade</th><th scope=col>collgrad</th><th scope=col>not_smsa</th><th scope=col>...</th><th scope=col>south</th><th scope=col>ind_code</th><th scope=col>occ_code</th><th scope=col>union</th><th scope=col>wks_ue</th><th scope=col>ttl_exp</th><th scope=col>tenure</th><th scope=col>hours</th><th scope=col>wks_work</th><th scope=col>ln_wage</th></tr>\n",
       "\t<tr><th></th><th scope=col>&lt;dbl&gt;</th><th scope=col>&lt;dbl&gt;</th><th scope=col>&lt;dbl&gt;</th><th scope=col>&lt;dbl&gt;</th><th scope=col>&lt;dbl+lbl&gt;</th><th scope=col>&lt;dbl&gt;</th><th scope=col>&lt;dbl&gt;</th><th scope=col>&lt;dbl&gt;</th><th scope=col>&lt;dbl&gt;</th><th scope=col>&lt;dbl&gt;</th><th scope=col>...</th><th scope=col>&lt;dbl&gt;</th><th scope=col>&lt;dbl&gt;</th><th scope=col>&lt;dbl&gt;</th><th scope=col>&lt;dbl&gt;</th><th scope=col>&lt;dbl&gt;</th><th scope=col>&lt;dbl&gt;</th><th scope=col>&lt;dbl&gt;</th><th scope=col>&lt;dbl&gt;</th><th scope=col>&lt;dbl&gt;</th><th scope=col>&lt;dbl&gt;</th></tr>\n",
       "</thead>\n",
       "<tbody>\n",
       "\t<tr><th scope=row>3</th><td>1</td><td>72</td><td>51</td><td>20</td><td>2</td><td>1</td><td>0</td><td>12</td><td>0</td><td>0</td><td>...</td><td>0</td><td> 4</td><td>6</td><td>1</td><td>0</td><td> 2.256410</td><td>0.9166667</td><td>40</td><td>51</td><td>1.589977</td></tr>\n",
       "\t<tr><th scope=row>6</th><td>1</td><td>77</td><td>51</td><td>25</td><td>2</td><td>0</td><td>0</td><td>12</td><td>0</td><td>0</td><td>...</td><td>0</td><td>12</td><td>8</td><td>0</td><td>0</td><td> 3.775641</td><td>1.5000000</td><td>32</td><td>52</td><td>1.778681</td></tr>\n",
       "\t<tr><th scope=row>8</th><td>1</td><td>80</td><td>51</td><td>28</td><td>2</td><td>0</td><td>0</td><td>12</td><td>0</td><td>0</td><td>...</td><td>0</td><td> 5</td><td>6</td><td>1</td><td>0</td><td> 5.294872</td><td>1.8333334</td><td>45</td><td>75</td><td>2.551715</td></tr>\n",
       "\t<tr><th scope=row>10</th><td>1</td><td>85</td><td>51</td><td>33</td><td>2</td><td>0</td><td>0</td><td>12</td><td>0</td><td>0</td><td>...</td><td>0</td><td> 5</td><td>6</td><td>1</td><td>0</td><td> 7.160256</td><td>1.9166666</td><td>42</td><td>97</td><td>2.614172</td></tr>\n",
       "\t<tr><th scope=row>11</th><td>1</td><td>87</td><td>51</td><td>35</td><td>2</td><td>0</td><td>0</td><td>12</td><td>0</td><td>0</td><td>...</td><td>0</td><td> 5</td><td>6</td><td>1</td><td>0</td><td> 8.987180</td><td>3.9166667</td><td>45</td><td>95</td><td>2.536374</td></tr>\n",
       "\t<tr><th scope=row>12</th><td>1</td><td>88</td><td>51</td><td>37</td><td>2</td><td>0</td><td>0</td><td>12</td><td>0</td><td>0</td><td>...</td><td>0</td><td> 5</td><td>6</td><td>1</td><td>0</td><td>10.333334</td><td>5.3333335</td><td>48</td><td>70</td><td>2.462927</td></tr>\n",
       "</tbody>\n",
       "</table>\n"
      ],
      "text/latex": [
       "A data.frame: 6 × 21\n",
       "\\begin{tabular}{r|lllllllllllllllllllll}\n",
       "  & idcode & year & birth\\_yr & age & race & msp & nev\\_mar & grade & collgrad & not\\_smsa & ... & south & ind\\_code & occ\\_code & union & wks\\_ue & ttl\\_exp & tenure & hours & wks\\_work & ln\\_wage\\\\\n",
       "  & <dbl> & <dbl> & <dbl> & <dbl> & <dbl+lbl> & <dbl> & <dbl> & <dbl> & <dbl> & <dbl> & ... & <dbl> & <dbl> & <dbl> & <dbl> & <dbl> & <dbl> & <dbl> & <dbl> & <dbl> & <dbl>\\\\\n",
       "\\hline\n",
       "\t3 & 1 & 72 & 51 & 20 & 2 & 1 & 0 & 12 & 0 & 0 & ... & 0 &  4 & 6 & 1 & 0 &  2.256410 & 0.9166667 & 40 & 51 & 1.589977\\\\\n",
       "\t6 & 1 & 77 & 51 & 25 & 2 & 0 & 0 & 12 & 0 & 0 & ... & 0 & 12 & 8 & 0 & 0 &  3.775641 & 1.5000000 & 32 & 52 & 1.778681\\\\\n",
       "\t8 & 1 & 80 & 51 & 28 & 2 & 0 & 0 & 12 & 0 & 0 & ... & 0 &  5 & 6 & 1 & 0 &  5.294872 & 1.8333334 & 45 & 75 & 2.551715\\\\\n",
       "\t10 & 1 & 85 & 51 & 33 & 2 & 0 & 0 & 12 & 0 & 0 & ... & 0 &  5 & 6 & 1 & 0 &  7.160256 & 1.9166666 & 42 & 97 & 2.614172\\\\\n",
       "\t11 & 1 & 87 & 51 & 35 & 2 & 0 & 0 & 12 & 0 & 0 & ... & 0 &  5 & 6 & 1 & 0 &  8.987180 & 3.9166667 & 45 & 95 & 2.536374\\\\\n",
       "\t12 & 1 & 88 & 51 & 37 & 2 & 0 & 0 & 12 & 0 & 0 & ... & 0 &  5 & 6 & 1 & 0 & 10.333334 & 5.3333335 & 48 & 70 & 2.462927\\\\\n",
       "\\end{tabular}\n"
      ],
      "text/markdown": [
       "\n",
       "A data.frame: 6 × 21\n",
       "\n",
       "| <!--/--> | idcode &lt;dbl&gt; | year &lt;dbl&gt; | birth_yr &lt;dbl&gt; | age &lt;dbl&gt; | race &lt;dbl+lbl&gt; | msp &lt;dbl&gt; | nev_mar &lt;dbl&gt; | grade &lt;dbl&gt; | collgrad &lt;dbl&gt; | not_smsa &lt;dbl&gt; | ... ... | south &lt;dbl&gt; | ind_code &lt;dbl&gt; | occ_code &lt;dbl&gt; | union &lt;dbl&gt; | wks_ue &lt;dbl&gt; | ttl_exp &lt;dbl&gt; | tenure &lt;dbl&gt; | hours &lt;dbl&gt; | wks_work &lt;dbl&gt; | ln_wage &lt;dbl&gt; |\n",
       "|---|---|---|---|---|---|---|---|---|---|---|---|---|---|---|---|---|---|---|---|---|---|\n",
       "| 3 | 1 | 72 | 51 | 20 | 2 | 1 | 0 | 12 | 0 | 0 | ... | 0 |  4 | 6 | 1 | 0 |  2.256410 | 0.9166667 | 40 | 51 | 1.589977 |\n",
       "| 6 | 1 | 77 | 51 | 25 | 2 | 0 | 0 | 12 | 0 | 0 | ... | 0 | 12 | 8 | 0 | 0 |  3.775641 | 1.5000000 | 32 | 52 | 1.778681 |\n",
       "| 8 | 1 | 80 | 51 | 28 | 2 | 0 | 0 | 12 | 0 | 0 | ... | 0 |  5 | 6 | 1 | 0 |  5.294872 | 1.8333334 | 45 | 75 | 2.551715 |\n",
       "| 10 | 1 | 85 | 51 | 33 | 2 | 0 | 0 | 12 | 0 | 0 | ... | 0 |  5 | 6 | 1 | 0 |  7.160256 | 1.9166666 | 42 | 97 | 2.614172 |\n",
       "| 11 | 1 | 87 | 51 | 35 | 2 | 0 | 0 | 12 | 0 | 0 | ... | 0 |  5 | 6 | 1 | 0 |  8.987180 | 3.9166667 | 45 | 95 | 2.536374 |\n",
       "| 12 | 1 | 88 | 51 | 37 | 2 | 0 | 0 | 12 | 0 | 0 | ... | 0 |  5 | 6 | 1 | 0 | 10.333334 | 5.3333335 | 48 | 70 | 2.462927 |\n",
       "\n"
      ],
      "text/plain": [
       "   idcode year birth_yr age race msp nev_mar grade collgrad not_smsa ... south\n",
       "3  1      72   51       20  2    1   0       12    0        0        ... 0    \n",
       "6  1      77   51       25  2    0   0       12    0        0        ... 0    \n",
       "8  1      80   51       28  2    0   0       12    0        0        ... 0    \n",
       "10 1      85   51       33  2    0   0       12    0        0        ... 0    \n",
       "11 1      87   51       35  2    0   0       12    0        0        ... 0    \n",
       "12 1      88   51       37  2    0   0       12    0        0        ... 0    \n",
       "   ind_code occ_code union wks_ue ttl_exp   tenure    hours wks_work ln_wage \n",
       "3   4       6        1     0       2.256410 0.9166667 40    51       1.589977\n",
       "6  12       8        0     0       3.775641 1.5000000 32    52       1.778681\n",
       "8   5       6        1     0       5.294872 1.8333334 45    75       2.551715\n",
       "10  5       6        1     0       7.160256 1.9166666 42    97       2.614172\n",
       "11  5       6        1     0       8.987180 3.9166667 45    95       2.536374\n",
       "12  5       6        1     0      10.333334 5.3333335 48    70       2.462927"
      ]
     },
     "metadata": {},
     "output_type": "display_data"
    }
   ],
   "source": [
    "head(nls)"
   ]
  },
  {
   "cell_type": "code",
   "execution_count": 6,
   "metadata": {},
   "outputs": [
    {
     "name": "stdout",
     "output_type": "stream",
     "text": [
      "\n",
      "\\begin{table}[ht] \\centering \n",
      "  \\caption{Summary table with stargazer} \n",
      "  \\label{table1} \n",
      "\\begin{tabular}{@{\\extracolsep{5pt}}lccccccc} \n",
      "\\\\[-1.8ex]\\hline \n",
      "\\hline \\\\[-1.8ex] \n",
      "Statistic & \\multicolumn{1}{c}{N} & \\multicolumn{1}{c}{Mean} & \\multicolumn{1}{c}{St. Dev.} & \\multicolumn{1}{c}{Min} & \\multicolumn{1}{c}{Pctl(25)} & \\multicolumn{1}{c}{Pctl(75)} & \\multicolumn{1}{c}{Max} \\\\ \n",
      "\\hline \\\\[-1.8ex] \n",
      "idcode & 13,452 & 2,588.740 & 1,493.488 & 1 & 1,280 & 3,859 & 5,159 \\\\ \n",
      "year & 13,452 & 79.117 & 5.894 & 70 & 73 & 83 & 88 \\\\ \n",
      "birth\\_yr & 13,452 & 48.107 & 3.033 & 41 & 46 & 51 & 54 \\\\ \n",
      "age & 13,452 & 30.203 & 6.414 & 16 & 25 & 35 & 46 \\\\ \n",
      "race & 13,452 & 1.296 & 0.479 & 1 & 1 & 2 & 3 \\\\ \n",
      "msp & 13,452 & 0.626 & 0.484 & 0 & 0 & 1 & 1 \\\\ \n",
      "nev\\_mar & 13,452 & 0.208 & 0.406 & 0 & 0 & 0 & 1 \\\\ \n",
      "grade & 13,452 & 12.682 & 2.373 & 0 & 12 & 14 & 18 \\\\ \n",
      "collgrad & 13,452 & 0.189 & 0.391 & 0 & 0 & 0 & 1 \\\\ \n",
      "not\\_smsa & 13,452 & 0.284 & 0.451 & 0 & 0 & 1 & 1 \\\\ \n",
      "c\\_city & 13,452 & 0.342 & 0.474 & 0 & 0 & 1 & 1 \\\\ \n",
      "south & 13,452 & 0.408 & 0.492 & 0 & 0 & 1 & 1 \\\\ \n",
      "ind\\_code & 13,452 & 7.842 & 3.016 & 1 & 5 & 11 & 12 \\\\ \n",
      "occ\\_code & 13,452 & 4.839 & 3.223 & 1 & 3 & 6 & 13 \\\\ \n",
      "union & 13,452 & 0.229 & 0.420 & 0 & 0 & 0 & 1 \\\\ \n",
      "wks\\_ue & 13,452 & 2.112 & 7.001 & 0 & 0 & 0 & 75 \\\\ \n",
      "ttl\\_exp & 13,452 & 6.773 & 4.409 & 0.000 & 3.417 & 9.263 & 28.885 \\\\ \n",
      "tenure & 13,452 & 3.448 & 3.770 & 0.000 & 0.833 & 4.500 & 25.917 \\\\ \n",
      "hours & 13,452 & 36.199 & 10.034 & 1 & 35 & 40 & 168 \\\\ \n",
      "wks\\_work & 13,452 & 50.728 & 21.332 & 0 & 43 & 58 & 103 \\\\ \n",
      "ln\\_wage & 13,452 & 1.714 & 0.460 & 0.000 & 1.397 & 2.001 & 5.264 \\\\ \n",
      "\\hline \\\\[-1.8ex] \n",
      "\\end{tabular} \n",
      "\\end{table} \n"
     ]
    }
   ],
   "source": [
    "stargazer(nls,\n",
    "          title = \"Summary table with stargazer\",\n",
    "          label = \"table1\",\n",
    "          table.placement = \"ht\",\n",
    "          header=FALSE)"
   ]
  },
  {
   "cell_type": "code",
   "execution_count": 7,
   "metadata": {},
   "outputs": [
    {
     "name": "stdout",
     "output_type": "stream",
     "text": [
      "\n",
      "Short statistics\n",
      "==============================================================\n",
      "Statistic   N    Mean  St. Dev.  Min  Pctl(25) Pctl(75)  Max  \n",
      "--------------------------------------------------------------\n",
      "tenure    13,452 3.448  3.770   0.000  0.833    4.500   25.917\n",
      "ln_wage   13,452 1.714  0.460   0.000  1.397    2.001   5.264 \n",
      "--------------------------------------------------------------\n"
     ]
    }
   ],
   "source": [
    "nls %>%\n",
    "  select(tenure,ln_wage) %>%\n",
    "  stargazer(title = \"Short statistics\",\n",
    "          label = \"table:short\",\n",
    "          table.placement = \"ht\",\n",
    "          header=FALSE,type=\"text\")"
   ]
  },
  {
   "cell_type": "code",
   "execution_count": 8,
   "metadata": {},
   "outputs": [
    {
     "data": {
      "image/png": "[encoded data removed]",
      "text/plain": [
       "plot without title"
      ]
     },
     "metadata": {
      "image/png": {
       "height": 420,
       "width": 420
      }
     },
     "output_type": "display_data"
    }
   ],
   "source": [
    "#names(nlswork)\n",
    "ggplot(data=nlswork)+\n",
    "    geom_histogram(mapping=aes(x=ln_wage),binwidth=0.5)"
   ]
  },
  {
   "cell_type": "code",
   "execution_count": 9,
   "metadata": {},
   "outputs": [
    {
     "data": {
      "text/plain": [
       "    0    1\n",
       "          \n",
       " 9964 1719"
      ]
     },
     "metadata": {},
     "output_type": "display_data"
    },
    {
     "data": {
      "image/png": "[encoded data removed]",
      "text/plain": [
       "plot without title"
      ]
     },
     "metadata": {
      "image/png": {
       "height": 420,
       "width": 420
      }
     },
     "output_type": "display_data"
    }
   ],
   "source": [
    "south <- nlswork %>%\n",
    "    filter(south==1)\n",
    "\n",
    "ftable(south$collgrad)\n",
    "\n",
    "south$wage <- exp(south$ln_wage)\n",
    "\n",
    "ggplot(data=south,mapping=aes(x=wage)) +\n",
    "    geom_histogram(binwidth=0.1)"
   ]
  },
  {
   "cell_type": "code",
   "execution_count": 10,
   "metadata": {},
   "outputs": [
    {
     "data": {
      "image/png": "[encoded data removed]",
      "text/plain": [
       "plot without title"
      ]
     },
     "metadata": {
      "image/png": {
       "height": 420,
       "width": 420
      }
     },
     "output_type": "display_data"
    }
   ],
   "source": [
    "ggplot(data=nlswork,mapping=aes(x=ln_wage)) +\n",
    "    geom_histogram(binwidth=0.1)"
   ]
  },
  {
   "cell_type": "code",
   "execution_count": 11,
   "metadata": {},
   "outputs": [
    {
     "data": {
      "text/plain": [
       "   Min. 1st Qu.  Median    Mean 3rd Qu.    Max. \n",
       "  0.000   1.361   1.641   1.675   1.964   5.264 "
      ]
     },
     "metadata": {},
     "output_type": "display_data"
    }
   ],
   "source": [
    "summary(nlswork$ln_wage)"
   ]
  },
  {
   "cell_type": "code",
   "execution_count": 12,
   "metadata": {},
   "outputs": [
    {
     "data": {
      "image/png": "[encoded data removed]",
      "text/plain": [
       "plot without title"
      ]
     },
     "metadata": {
      "image/png": {
       "height": 420,
       "width": 420
      }
     },
     "output_type": "display_data"
    }
   ],
   "source": [
    "plot(x=tenure,y=ln_wage)"
   ]
  },
  {
   "cell_type": "code",
   "execution_count": 13,
   "metadata": {},
   "outputs": [
    {
     "data": {
      "image/png": "[encoded data removed]",
      "text/plain": [
       "plot without title"
      ]
     },
     "metadata": {
      "image/png": {
       "height": 420,
       "width": 420
      }
     },
     "output_type": "display_data"
    }
   ],
   "source": [
    "nls2 <- as.data.frame(nlswork)\n",
    "\n",
    "nls2 %>%\n",
    "  select(tenure,ln_wage) %>%\n",
    "  na.omit() %>%\n",
    "  ggplot(aes(tenure,ln_wage)) + geom_point()\n",
    "\n",
    "#ggsave(\"images/wages.png\")"
   ]
  },
  {
   "cell_type": "code",
   "execution_count": 14,
   "metadata": {},
   "outputs": [
    {
     "name": "stdout",
     "output_type": "stream",
     "text": [
      " num [1:28534] 1.45 1.03 1.59 1.78 1.78 ...\n",
      " - attr(*, \"label\")= chr \"ln(wage/GNP deflator)\"\n",
      " - attr(*, \"format.stata\")= chr \"%9.0g\"\n"
     ]
    },
    {
     "data": {
      "image/png": "[encoded data removed]",
      "text/plain": [
       "Plot with title \"density.default(x = ln_wage)\""
      ]
     },
     "metadata": {
      "image/png": {
       "height": 420,
       "width": 420
      }
     },
     "output_type": "display_data"
    }
   ],
   "source": [
    "dplyr::glimpse(nlswork$ln_wage)\n",
    "d <- density(ln_wage)\n",
    "plot(d)"
   ]
  },
  {
   "cell_type": "code",
   "execution_count": 15,
   "metadata": {},
   "outputs": [],
   "source": [
    "## <<>> --- ExPanDaR: Explore Panel Data Interactively --- <<>> ##"
   ]
  },
  {
   "cell_type": "code",
   "execution_count": 16,
   "metadata": {},
   "outputs": [],
   "source": [
    "## install.packages(\"ExPanDaR\")\n",
    "library(ExPanDaR)"
   ]
  },
  {
   "cell_type": "code",
   "execution_count": null,
   "metadata": {},
   "outputs": [],
   "source": [
    "## Missing values\n",
    "\n",
    "library(\"visdat\")\n",
    "\n",
    "vis_dat(nlswork)"
   ]
  },
  {
   "cell_type": "code",
   "execution_count": null,
   "metadata": {},
   "outputs": [],
   "source": [
    "## https://cran.r-project.org/web/packages/naniar/vignettes/naniar-visualisation.html\n",
    "\n",
    "library(naniar)\n",
    "\n",
    "  vis_miss(nlswork)\n",
    "\n",
    "  gg_miss_upset(nlswork)"
   ]
  },
  {
   "cell_type": "code",
   "execution_count": null,
   "metadata": {},
   "outputs": [],
   "source": [
    "names(nlswork)"
   ]
  },
  {
   "cell_type": "code",
   "execution_count": null,
   "metadata": {},
   "outputs": [],
   "source": [
    "ggplot(nlswork,\n",
    "       aes(x = hours,\n",
    "           y = year)) +\n",
    "geom_miss_point()"
   ]
  },
  {
   "cell_type": "code",
   "execution_count": null,
   "metadata": {},
   "outputs": [],
   "source": [
    "attach(nlswork)\n",
    "ggplot(nlswork,\n",
    "       aes(x = hours,\n",
    "           y = year)) +\n",
    "geom_miss_point() +\n",
    "facet_wrap(race)"
   ]
  },
  {
   "cell_type": "code",
   "execution_count": null,
   "metadata": {},
   "outputs": [],
   "source": [
    "## ADDITIONAL TOOLS"
   ]
  },
  {
   "cell_type": "code",
   "execution_count": null,
   "metadata": {},
   "outputs": [],
   "source": [
    "#install.packages(\"SmartEDA\")\n",
    "library(SmartEDA)\n"
   ]
  },
  {
   "cell_type": "code",
   "execution_count": null,
   "metadata": {},
   "outputs": [],
   "source": [
    "ExpData(nlswork,type=1)"
   ]
  },
  {
   "cell_type": "code",
   "execution_count": null,
   "metadata": {},
   "outputs": [],
   "source": [
    "ExpData(nls2,type=2)"
   ]
  },
  {
   "cell_type": "code",
   "execution_count": null,
   "metadata": {},
   "outputs": [],
   "source": [
    "summary(nls[,\"age\"])"
   ]
  },
  {
   "cell_type": "code",
   "execution_count": null,
   "metadata": {},
   "outputs": [],
   "source": [
    "ExpNumStat(nls,by =\"A\",Outlier=TRUE,round= 2,Qnt=c(0.1,0.20,0.5))"
   ]
  },
  {
   "cell_type": "code",
   "execution_count": null,
   "metadata": {},
   "outputs": [],
   "source": [
    "ExpCTable(nls)"
   ]
  },
  {
   "cell_type": "code",
   "execution_count": null,
   "metadata": {},
   "outputs": [],
   "source": [
    "ExpCatViz(nls)"
   ]
  },
  {
   "cell_type": "code",
   "execution_count": null,
   "metadata": {},
   "outputs": [],
   "source": [
    "#ExpCatStat(union)\n",
    "ExpNumViz(nls)"
   ]
  },
  {
   "cell_type": "code",
   "execution_count": null,
   "metadata": {},
   "outputs": [],
   "source": [
    "ExpNumViz(nls,target=\"ln_wage\")[11:13]"
   ]
  },
  {
   "cell_type": "code",
   "execution_count": null,
   "metadata": {},
   "outputs": [],
   "source": [
    "ExpNumViz(data=nls,target=\"collgrad\",)[c(3,4,14)]"
   ]
  },
  {
   "cell_type": "code",
   "execution_count": null,
   "metadata": {},
   "outputs": [],
   "source": [
    "ExpCatViz(data=nls, margin = 2, target = \"union\", \n",
    "          col = c(\"red\",\"green\"))[c(1)]"
   ]
  },
  {
   "cell_type": "code",
   "execution_count": null,
   "metadata": {},
   "outputs": [],
   "source": [
    "ExpCatViz(data=nls, margin = 2, target = \"union\", \n",
    "          col = c(\"red\",\"green\"))[c(4:5)]"
   ]
  },
  {
   "cell_type": "code",
   "execution_count": null,
   "metadata": {},
   "outputs": [],
   "source": [
    "ExpOutliers(nls,varlist=c(\"tenure\"))"
   ]
  },
  {
   "cell_type": "code",
   "execution_count": null,
   "metadata": {},
   "outputs": [],
   "source": [
    "## SUMMARY PLOTS"
   ]
  },
  {
   "cell_type": "code",
   "execution_count": 19,
   "metadata": {},
   "outputs": [],
   "source": [
    "## library(summarytools)"
   ]
  },
  {
   "cell_type": "code",
   "execution_count": null,
   "metadata": {},
   "outputs": [],
   "source": [
    "## explore (R)"
   ]
  },
  {
   "cell_type": "code",
   "execution_count": 21,
   "metadata": {},
   "outputs": [
    {
     "ename": "ERROR",
     "evalue": "Error in explore_shiny(nlswork): This function can only be used in an interactive R session\n",
     "output_type": "error",
     "traceback": [
      "Error in explore_shiny(nlswork): This function can only be used in an interactive R session\nTraceback:\n",
      "1. explore_shiny(nlswork)",
      "2. stop(\"This function can only be used in an interactive R session\")"
     ]
    }
   ],
   "source": [
    "library(explore)\n",
    "\n",
    "## use an interactive R session\n",
    "## explore(nls)\n"
   ]
  },
  {
   "cell_type": "code",
   "execution_count": 34,
   "metadata": {},
   "outputs": [],
   "source": [
    "library('dataMaid') \n",
    "sample <- nls[c(\"age\",\"tenure\",\"ln_wage\")]\n",
    "makeDataReport(sample,                \n",
    "               render = FALSE,\n",
    "               file = \"sample.Rmd\",\n",
    "               replace = TRUE)"
   ]
  },
  {
   "cell_type": "code",
   "execution_count": 17,
   "metadata": {},
   "outputs": [
    {
     "name": "stderr",
     "output_type": "stream",
     "text": [
      "Warning message:\n",
      "\"Unquoting language objects with `!!!` is deprecated as of rlang 0.4.0.\n",
      "Please use `!!` instead.\n",
      "\n",
      "  # Bad:\n",
      "  dplyr::select(data, !!!enquo(x))\n",
      "\n",
      "  # Good:\n",
      "  dplyr::select(data, !!enquo(x))    # Unquote single quosure\n",
      "  dplyr::select(data, !!!enquos(x))  # Splice list of quosures\n",
      "\n",
      "\u001b[90mThis warning is displayed once per session.\u001b[39m\"\n",
      "\n",
      "\n",
      "processing file: reports/EDA_Report.Rnw\n",
      "\n"
     ]
    },
    {
     "name": "stdout",
     "output_type": "stream",
     "text": [
      "  |.......................                                               |  33%\n",
      "  ordinary text without R code\n",
      "\n",
      "  |...............................................                       |  67%\n",
      "label: child-section-application (with options) \n",
      "List of 1\n",
      " $ child: chr \"02_RunEDA.Rnw\"\n",
      "\n"
     ]
    },
    {
     "name": "stderr",
     "output_type": "stream",
     "text": [
      "\n",
      "\n",
      "processing file: reports/02_RunEDA.Rnw\n",
      "\n"
     ]
    },
    {
     "name": "stdout",
     "output_type": "stream",
     "text": [
      "  |...                                                                   |   4%\n",
      "  ordinary text without R code\n",
      "\n",
      "  |......                                                                |   8%\n",
      "label: enrironment (with options) \n",
      "List of 3\n",
      " $ echo   : logi FALSE\n",
      " $ warning: logi FALSE\n",
      " $ message: logi FALSE\n",
      "\n"
     ]
    },
    {
     "name": "stderr",
     "output_type": "stream",
     "text": [
      "\n",
      "Attaching package: 'gridExtra'\n",
      "\n",
      "\n",
      "The following object is masked from 'package:dplyr':\n",
      "\n",
      "    combine\n",
      "\n",
      "\n",
      "\n",
      "Attaching package: 'kableExtra'\n",
      "\n",
      "\n",
      "The following object is masked from 'package:dplyr':\n",
      "\n",
      "    group_rows\n",
      "\n",
      "\n"
     ]
    },
    {
     "name": "stdout",
     "output_type": "stream",
     "text": [
      "  |........                                                              |  12%\n",
      "  ordinary text without R code\n",
      "\n",
      "  |...........                                                           |  16%\n",
      "label: check_variables (with options) \n",
      "List of 1\n",
      " $ echo: logi FALSE\n",
      "\n",
      "  |..............                                                        |  20%\n",
      "   inline R code fragments\n",
      "\n",
      "  |.................                                                     |  24%\n",
      "label: info_variables (with options) \n",
      "List of 2\n",
      " $ echo   : logi FALSE\n",
      " $ results: chr \"asis\"\n",
      "\n",
      "  |....................                                                  |  28%\n",
      "   inline R code fragments\n",
      "\n",
      "  |......................                                                |  32%\n",
      "label: describe_univariate (with options) \n",
      "List of 3\n",
      " $ echo   : logi FALSE\n",
      " $ comment: chr \"\"\n",
      " $ results: chr \"asis\"\n",
      "\n",
      "  |.........................                                             |  36%\n",
      "  ordinary text without R code\n",
      "\n",
      "  |............................                                          |  40%\n",
      "label: normality (with options) \n",
      "List of 2\n",
      " $ echo   : logi FALSE\n",
      " $ results: chr \"asis\"\n",
      "\n",
      "  |...............................                                       |  44%\n",
      "  ordinary text without R code\n",
      "\n",
      "  |..................................                                    |  48%\n",
      "label: correlations (with options) \n",
      "List of 2\n",
      " $ echo   : logi FALSE\n",
      " $ results: chr \"asis\"\n",
      "\n",
      "  |....................................                                  |  52%\n",
      "  ordinary text without R code\n",
      "\n",
      "  |.......................................                               |  56%\n",
      "label: plot_correlations (with options) \n",
      "List of 2\n",
      " $ echo   : logi FALSE\n",
      " $ results: chr \"asis\"\n",
      "\n",
      "  |..........................................                            |  60%\n",
      "  ordinary text without R code\n",
      "\n",
      "  |.............................................                         |  64%\n",
      "label: numeric_variables (with options) \n",
      "List of 2\n",
      " $ echo   : logi FALSE\n",
      " $ results: chr \"asis\"\n",
      "\n",
      "  |................................................                      |  68%\n",
      "  ordinary text without R code\n",
      "\n",
      "  |..................................................                    |  72%\n",
      "label: category_variables (with options) \n",
      "List of 2\n",
      " $ echo   : logi FALSE\n",
      " $ results: chr \"asis\"\n",
      "\n",
      "  |.....................................................                 |  76%\n",
      "  ordinary text without R code\n",
      "\n",
      "  |........................................................              |  80%\n",
      "label: group_correlations (with options) \n",
      "List of 2\n",
      " $ echo   : logi FALSE\n",
      " $ results: chr \"asis\"\n",
      "\n",
      "  |...........................................................           |  84%\n",
      "  ordinary text without R code\n",
      "\n",
      "  |..............................................................        |  88%\n",
      "label: plot_group_correlations (with options) \n",
      "List of 2\n",
      " $ echo   : logi FALSE\n",
      " $ results: chr \"asis\"\n",
      "\n",
      "  |................................................................      |  92%\n",
      "  ordinary text without R code\n",
      "\n",
      "  |...................................................................   |  96%\n",
      "label: option_undo (with options) \n",
      "List of 1\n",
      " $ echo: logi FALSE\n",
      "\n",
      "  |......................................................................| 100%\n",
      "  ordinary text without R code\n",
      "\n",
      "\n",
      "  |......................................................................| 100%\n",
      "  ordinary text without R code\n",
      "\n",
      "\n"
     ]
    },
    {
     "name": "stderr",
     "output_type": "stream",
     "text": [
      "output file: reports/eda_report.tex\n",
      "\n",
      "\n",
      "Warning message:\n",
      "\"Package xcolor Warning: Incompatible color definition on input line 206.\n",
      "Package xcolor Warning: Incompatible color definition on input line 209.\n",
      "Package xcolor Warning: Incompatible color definition on input line 211.\n",
      "Package xcolor Warning: Incompatible color definition on input line 211.\n",
      "Package xcolor Warning: Incompatible color definition on input line 211.\"\n"
     ]
    },
    {
     "ename": "ERROR",
     "evalue": "Error in shell.exec(url): 'reports/eda_report.pdf' not found\n",
     "output_type": "error",
     "traceback": [
      "Error in shell.exec(url): 'reports/eda_report.pdf' not found\nTraceback:\n",
      "1. eda_report(nlswork, output_dir = \"reports\", output_file = \"eda_report.pdf\")",
      "2. eda_report.data.frame(nlswork, output_dir = \"reports\", output_file = \"eda_report.pdf\")",
      "3. browseURL(paste(path, output_file, sep = \"/\"))",
      "4. shell.exec(url)"
     ]
    }
   ],
   "source": [
    "## https://cran.r-project.org/web/packages/dlookr/vignettes/EDA.html\n",
    "\n",
    "##eda_report(nlswork,output_dir = \"/Users/miguelportela/Documents/GitHub/prjs/reports/\",output_file = \"eda_report.pdf\")\n",
    "\n",
    "eda_report(nlswork,output_dir = \"reports\",output_file = \"eda_report.pdf\")"
   ]
  },
  {
   "cell_type": "code",
   "execution_count": null,
   "metadata": {},
   "outputs": [],
   "source": [
    "## REGRESSIONS"
   ]
  },
  {
   "cell_type": "code",
   "execution_count": null,
   "metadata": {
    "scrolled": true
   },
   "outputs": [],
   "source": [
    "M1 <- lm(data = nls2,ln_wage ~ tenure)\n",
    "\n",
    "# plot(nls2)\n",
    "# abline(M1)\n",
    "\n",
    "M2 <- lm(data=nls2,ln_wage ~ tenure + union)\n",
    "\n",
    "M3 <- lm(data=filter(nls2,year==80),ln_wage ~ tenure + union)\n",
    "\n",
    "\n",
    "# stargazer(M1,M2,M3,title = \"First set of regressions\",column.labels = c(\"M1\", \"M2\",\"M3\"),label = \"regressions\",table.placement = \"ht\",notes.append = FALSE,notes.align=\"l\",notes=\"Standard errors in parentheses.\",header = FALSE,no.space = TRUE,covariate.labels = c(\"TENURE\",\"UNION\"),omit = c(\"Constant\"),omit.stat = c(\"ser\"),digits = 2,digits.extra = 4,omit.yes.no = c(\"Constant\",\"\"),type = \"text\",style = \"qje\")\n",
    "\n",
    "# Stargazer manual\n",
    "# https://cran.r-project.org/web/packages/stargazer/stargazer.pdf\n",
    "\n",
    "stargazer(M1,M2,M3,title = \"Regression analysis\", model.numbers = FALSE,column.labels = c(\"Model 1\", \"Model 2\",\"Model 3\"),label = \"regressions\",table.placement = \"!ht\",notes.append = FALSE,notes.align=\"l\",notes=\"Standard errors in parentheses.\",header = FALSE,no.space = TRUE,covariate.labels = c(\"TENURE\",\"UNION\"),omit = c(\"Constant\"),omit.stat = c(\"adj.rsq\",\"f\",\"ser\"),digits = 2,digits.extra = 4,omit.yes.no = c(\"Constant\",\"\"),dep.var.caption=\"\",dep.var.labels.include = FALSE,style = \"qje\")\n",
    "\n",
    "betas<-coef(M2)\n",
    "r2 <- summary(M2)$r.squared"
   ]
  },
  {
   "cell_type": "code",
   "execution_count": null,
   "metadata": {},
   "outputs": [],
   "source": [
    "summary(M1)"
   ]
  },
  {
   "cell_type": "code",
   "execution_count": null,
   "metadata": {},
   "outputs": [],
   "source": [
    "stargazer(M1,M2,title = \"Regression analysis\", model.numbers = FALSE,column.labels = c(\"Model 1\", \"Model 2\",\"Model 3\"),label = \"regressions\",table.placement = \"!ht\",notes.append = FALSE,notes.align=\"l\",notes=\"Standard errors in parentheses.\",header = FALSE,no.space = TRUE,covariate.labels = c(\"TENURE\",\"UNION\"),omit = c(\"Constant\"),omit.stat = c(\"adj.rsq\",\"f\",\"ser\"),digits = 2,digits.extra = 4,omit.yes.no = c(\"Constant\",\"\"),dep.var.caption=\"\",dep.var.labels.include = FALSE,style = \"qje\",type=\"text\")"
   ]
  },
  {
   "cell_type": "code",
   "execution_count": null,
   "metadata": {},
   "outputs": [],
   "source": []
  }
 ],
 "metadata": {
  "kernelspec": {
   "display_name": "R",
   "language": "R",
   "name": "ir"
  },
  "language_info": {
   "codemirror_mode": "r",
   "file_extension": ".r",
   "mimetype": "text/x-r-source",
   "name": "R",
   "pygments_lexer": "r",
   "version": "4.0.3"
  },
  "latex_envs": {
   "LaTeX_envs_menu_present": true,
   "autoclose": false,
   "autocomplete": true,
   "bibliofile": "biblio.bib",
   "cite_by": "apalike",
   "current_citInitial": 1,
   "eqLabelWithNumbers": true,
   "eqNumInitial": 1,
   "hotkeys": {
    "equation": "Ctrl-E",
    "itemize": "Ctrl-I"
   },
   "labels_anchors": false,
   "latex_user_defs": false,
   "report_style_numbering": false,
   "user_envs_cfg": false
  }
 },
 "nbformat": 4,
 "nbformat_minor": 4
}
