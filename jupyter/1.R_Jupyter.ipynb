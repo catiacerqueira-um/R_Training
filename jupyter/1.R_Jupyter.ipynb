{
 "cells": [
  {
   "cell_type": "code",
   "execution_count": null,
   "metadata": {},
   "outputs": [],
   "source": [
    "version"
   ]
  },
  {
   "cell_type": "code",
   "execution_count": null,
   "metadata": {},
   "outputs": [],
   "source": [
    "getwd()"
   ]
  },
  {
   "cell_type": "code",
   "execution_count": null,
   "metadata": {},
   "outputs": [],
   "source": [
    "rm(list = ls())\n",
    "\n",
    "# setwd(\"/Users/miguelportela/Documents/GitHub/R_Training/examples\")\n",
    "setwd(\"C:/Users/mangelo.EEG/Documents/GitHub/R_Training/examples\")\n",
    "\n",
    "library(tidyverse)\n",
    "library(ggplot2)\n",
    "library(haven)\n",
    "library(stargazer)\n",
    "library(rticles)"
   ]
  },
  {
   "cell_type": "code",
   "execution_count": null,
   "metadata": {},
   "outputs": [],
   "source": [
    "# data()\n",
    "attach(mtcars)\n",
    "nlswork <- read_dta(\"../data/nlswork.dta\")\n",
    "nls<-data.frame(nlswork)\n",
    "summary(nlswork)\n",
    "attach(nlswork)\n",
    "summary(ln_wage)"
   ]
  },
  {
   "cell_type": "code",
   "execution_count": null,
   "metadata": {},
   "outputs": [],
   "source": [
    "summary(ln_wage)\n",
    "ii <- 4*9"
   ]
  },
  {
   "cell_type": "code",
   "execution_count": null,
   "metadata": {},
   "outputs": [],
   "source": [
    "stargazer(nls,\n",
    "          title = \"Summary table with stargazer\",\n",
    "          label = \"table1\",\n",
    "          table.placement = \"ht\",\n",
    "          header=FALSE)"
   ]
  },
  {
   "cell_type": "code",
   "execution_count": null,
   "metadata": {},
   "outputs": [],
   "source": [
    "nls %>%\n",
    "  select(tenure,ln_wage) %>%\n",
    "  stargazer(title = \"Short statistics\",\n",
    "          label = \"table:short\",\n",
    "          table.placement = \"ht\",\n",
    "          header=FALSE)"
   ]
  },
  {
   "cell_type": "code",
   "execution_count": null,
   "metadata": {},
   "outputs": [],
   "source": [
    "plot(x=tenure,y=ln_wage)"
   ]
  },
  {
   "cell_type": "code",
   "execution_count": null,
   "metadata": {},
   "outputs": [],
   "source": [
    "nls2 <- as.data.frame(nlswork)\n",
    "\n",
    "nls2 %>%\n",
    "  select(tenure,ln_wage) %>%\n",
    "  na.omit() %>%\n",
    "  ggplot(aes(tenure,ln_wage)) + geom_point()\n",
    "\n",
    "ggsave(\"images/wages.png\")"
   ]
  },
  {
   "cell_type": "code",
   "execution_count": null,
   "metadata": {
    "scrolled": true
   },
   "outputs": [],
   "source": [
    "M1 <- lm(data = nls2,ln_wage ~ tenure)\n",
    "\n",
    "# plot(nls2)\n",
    "# abline(M1)\n",
    "\n",
    "M2 <- lm(data=nls2,ln_wage ~ tenure + union)\n",
    "\n",
    "M3 <- lm(data=filter(nls2,year==80),ln_wage ~ tenure + union)\n",
    "\n",
    "\n",
    "# stargazer(M1,M2,M3,title = \"First set of regressions\",column.labels = c(\"M1\", \"M2\",\"M3\"),label = \"regressions\",table.placement = \"ht\",notes.append = FALSE,notes.align=\"l\",notes=\"Standard errors in parentheses.\",header = FALSE,no.space = TRUE,covariate.labels = c(\"TENURE\",\"UNION\"),omit = c(\"Constant\"),omit.stat = c(\"ser\"),digits = 2,digits.extra = 4,omit.yes.no = c(\"Constant\",\"\"),type = \"text\",style = \"qje\")\n",
    "\n",
    "# Stargazer manual\n",
    "# https://cran.r-project.org/web/packages/stargazer/stargazer.pdf\n",
    "\n",
    "stargazer(M1,M2,M3,title = \"Regression analysis\", model.numbers = FALSE,column.labels = c(\"Model 1\", \"Model 2\",\"Model 3\"),label = \"regressions\",table.placement = \"!ht\",notes.append = FALSE,notes.align=\"l\",notes=\"Standard errors in parentheses.\",header = FALSE,no.space = TRUE,covariate.labels = c(\"TENURE\",\"UNION\"),omit = c(\"Constant\"),omit.stat = c(\"adj.rsq\",\"f\",\"ser\"),digits = 2,digits.extra = 4,omit.yes.no = c(\"Constant\",\"\"),dep.var.caption=\"\",dep.var.labels.include = FALSE,style = \"qje\")\n",
    "\n",
    "betas<-coef(M2)\n",
    "r2 <- summary(M2)$r.squared"
   ]
  },
  {
   "cell_type": "code",
   "execution_count": null,
   "metadata": {},
   "outputs": [],
   "source": [
    "stargazer(M1,M2,title = \"Regression analysis\", model.numbers = FALSE,column.labels = c(\"Model 1\", \"Model 2\",\"Model 3\"),label = \"regressions\",table.placement = \"!ht\",notes.append = FALSE,notes.align=\"l\",notes=\"Standard errors in parentheses.\",header = FALSE,no.space = TRUE,covariate.labels = c(\"TENURE\",\"UNION\"),omit = c(\"Constant\"),omit.stat = c(\"adj.rsq\",\"f\",\"ser\"),digits = 2,digits.extra = 4,omit.yes.no = c(\"Constant\",\"\"),dep.var.caption=\"\",dep.var.labels.include = FALSE,style = \"qje\",type=\"text\")"
   ]
  },
  {
   "cell_type": "code",
   "execution_count": null,
   "metadata": {},
   "outputs": [],
   "source": [
    "print(M1)"
   ]
  },
  {
   "cell_type": "code",
   "execution_count": null,
   "metadata": {},
   "outputs": [],
   "source": [
    "summary(M1)"
   ]
  },
  {
   "cell_type": "code",
   "execution_count": null,
   "metadata": {},
   "outputs": [],
   "source": [
    "######"
   ]
  },
  {
   "cell_type": "code",
   "execution_count": null,
   "metadata": {},
   "outputs": [],
   "source": [
    "##install.packages(\"ExPanDaR\")"
   ]
  },
  {
   "cell_type": "code",
   "execution_count": null,
   "metadata": {},
   "outputs": [],
   "source": [
    "## ExPanDaR: Explore Panel Data Interactively\n",
    "\n",
    "  library(ExPanDaR)\n",
    "\n",
    "    ## type ExPanD() in the Console\n",
    "\n",
    "#setwd(\"/Users/miguelportela/Documents/GitHub/prjs/logs\")\n",
    "setwd(\"C:\\\\Users\\\\mangelo.EEG\\\\Documents\\\\GitHub\\\\R_Training\\\\jupyter\")\n",
    "\n",
    "library(haven)\n",
    "library(ggplot2)\n",
    "\n",
    "nlswork <- read_dta(\"data/nlswork.dta\")\n",
    "\n",
    "nls<-data.frame(nlswork)\n",
    "\n",
    "attach(nlswork)\n",
    "\n",
    "head(nlswork)\n",
    "\n",
    "library(stargazer)\n",
    "stargazer(nls,\n",
    "          title = \"Summary statistics\",\n",
    "          label=\"tab1\",\n",
    "          table.placement = \"ht\",\n",
    "          header=FALSE)"
   ]
  },
  {
   "cell_type": "code",
   "execution_count": null,
   "metadata": {},
   "outputs": [],
   "source": [
    "library(dplyr)\n",
    "library(dlookr)\n",
    "library(ggplot2)\n",
    "\n",
    "## https://cran.r-project.org/web/packages/dlookr/vignettes/EDA.html\n",
    "\n",
    "##eda_report(nlswork,output_dir = \"/Users/miguelportela/Documents/GitHub/prjs/reports/\",output_file = \"eda_report.pdf\")\n",
    "\n",
    "eda_report(nlswork,output_dir = \"C:\\\\Users\\\\mangelo.EEG\\\\Documents\\\\GitHub\\\\R_Training\\\\jupyter\\\\reports\\\\\",output_file = \"eda_report.pdf\")\n",
    "\n",
    "## The data\n",
    "\n",
    "names(nlswork)\n",
    "##summary(nlswork)\n",
    "\n",
    "## Missing values\n",
    "\n",
    "library(\"visdat\")\n",
    "\n",
    "  vis_dat(nlswork)\n",
    "\n",
    "## https://cran.r-project.org/web/packages/naniar/vignettes/naniar-visualisation.html\n",
    "\n",
    "library(naniar)\n",
    "\n",
    "  vis_miss(nlswork)\n",
    "\n",
    "  gg_miss_upset(nlswork)\n",
    "\n",
    "## GRAPHS\n",
    "dplyr::glimpse(nlswork$ln_wage)\n",
    "d <- density(ln_wage)\n",
    "plot(d)\n",
    "\n",
    "plot(nls$ln_wage,nls$ttl_exp)\n",
    "\n",
    "ggplot(nlswork,\n",
    "       aes(x = hours,\n",
    "           y = year)) +\n",
    "geom_miss_point()\n",
    "\n",
    "ggplot(nlswork,\n",
    "       aes(x = hours,\n",
    "           y = year)) +\n",
    "geom_miss_point() +\n",
    "facet_wrap(race)\n",
    "\n",
    "stats <- summary(nlswork$age)\n"
   ]
  },
  {
   "cell_type": "code",
   "execution_count": null,
   "metadata": {},
   "outputs": [],
   "source": [
    "library(stargazer)\n",
    "stargazer(cars,\n",
    "          title = \"Summary table with stargazer\",\n",
    "          label=\"tab1cars\",\n",
    "          table.placement = \"H\",\n",
    "          header=FALSE)"
   ]
  },
  {
   "cell_type": "code",
   "execution_count": null,
   "metadata": {},
   "outputs": [],
   "source": [
    "library(stargazer)\n",
    "model1 <- lm(speed ~ dist, data = cars)\n",
    "model2 <- lm(speed ~ dist, data = cars)\n",
    "model3 <- lm(dist ~ speed, data = cars)\n",
    "stargazer(model1, model2, model3,\n",
    "          title = \"Regression table with stargazer\",\n",
    "          label=\"tab2\",\n",
    "          table.placement = \"H\",\n",
    "          column.labels = c(\"M1\", \"M2\", \"M3\"),\n",
    "          model.numbers = FALSE,\n",
    "          header=FALSE,type=\"text\")\n"
   ]
  },
  {
   "cell_type": "code",
   "execution_count": null,
   "metadata": {},
   "outputs": [],
   "source": [
    "plot(cars$speed, cars$dist)"
   ]
  },
  {
   "cell_type": "code",
   "execution_count": null,
   "metadata": {},
   "outputs": [],
   "source": [
    "mtcars$cyl <- as.factor(mtcars$cyl) # Convert cyl to factor\n",
    "library(ggplot2)\n",
    "ggplot(mtcars, aes(x=wt, y=mpg, shape=cyl)) + geom_point() +\n",
    "  labs(x=\"Weight (lb/1000)\", y = \"Miles/(US) gallon\",\n",
    "       shape=\"Number of \\n Cylinders\") + theme_classic()"
   ]
  },
  {
   "cell_type": "code",
   "execution_count": null,
   "metadata": {},
   "outputs": [],
   "source": [
    "library(plotly)\n",
    "p <- plot_ly(cars, type = \"scatter\", mode=\"markers\",\n",
    "        x=~speed,\n",
    "        y=~dist)\n",
    "Sys.setenv('MAPBOX_TOKEN' = '12423423') # set arbitrary token\n",
    "orca(p, \"logs/plotly-plot.pdf\")"
   ]
  },
  {
   "cell_type": "code",
   "execution_count": null,
   "metadata": {},
   "outputs": [],
   "source": []
  }
 ],
 "metadata": {
  "kernelspec": {
   "display_name": "R",
   "language": "R",
   "name": "ir"
  },
  "language_info": {
   "codemirror_mode": "r",
   "file_extension": ".r",
   "mimetype": "text/x-r-source",
   "name": "R",
   "pygments_lexer": "r",
   "version": "4.0.3"
  },
  "latex_envs": {
   "LaTeX_envs_menu_present": true,
   "autoclose": false,
   "autocomplete": true,
   "bibliofile": "biblio.bib",
   "cite_by": "apalike",
   "current_citInitial": 1,
   "eqLabelWithNumbers": true,
   "eqNumInitial": 1,
   "hotkeys": {
    "equation": "Ctrl-E",
    "itemize": "Ctrl-I"
   },
   "labels_anchors": false,
   "latex_user_defs": false,
   "report_style_numbering": false,
   "user_envs_cfg": false
  }
 },
 "nbformat": 4,
 "nbformat_minor": 4
}
