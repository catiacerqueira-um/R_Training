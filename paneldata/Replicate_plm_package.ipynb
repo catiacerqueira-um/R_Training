{
 "cells": [
  {
   "cell_type": "code",
   "execution_count": null,
   "metadata": {},
   "outputs": [],
   "source": []
  },
  {
   "cell_type": "code",
   "execution_count": 1,
   "metadata": {},
   "outputs": [],
   "source": [
    "rm(list = ls())"
   ]
  },
  {
   "cell_type": "code",
   "execution_count": 2,
   "metadata": {},
   "outputs": [],
   "source": [
    "library(\"plm\")"
   ]
  },
  {
   "cell_type": "code",
   "execution_count": 3,
   "metadata": {},
   "outputs": [],
   "source": [
    "data(\"EmplUK\", package=\"plm\")\n",
    "data(\"Produc\", package=\"plm\")\n",
    "data(\"Grunfeld\", package=\"plm\")\n",
    "data(\"Wages\", package=\"plm\")"
   ]
  },
  {
   "cell_type": "code",
   "execution_count": 4,
   "metadata": {},
   "outputs": [
    {
     "data": {
      "text/html": [
       "<table>\n",
       "<caption>A data.frame: 6 × 5</caption>\n",
       "<thead>\n",
       "\t<tr><th></th><th scope=col>firm</th><th scope=col>year</th><th scope=col>inv</th><th scope=col>value</th><th scope=col>capital</th></tr>\n",
       "\t<tr><th></th><th scope=col>&lt;int&gt;</th><th scope=col>&lt;int&gt;</th><th scope=col>&lt;dbl&gt;</th><th scope=col>&lt;dbl&gt;</th><th scope=col>&lt;dbl&gt;</th></tr>\n",
       "</thead>\n",
       "<tbody>\n",
       "\t<tr><th scope=row>1</th><td>1</td><td>1935</td><td>317.6</td><td>3078.5</td><td>  2.8</td></tr>\n",
       "\t<tr><th scope=row>2</th><td>1</td><td>1936</td><td>391.8</td><td>4661.7</td><td> 52.6</td></tr>\n",
       "\t<tr><th scope=row>3</th><td>1</td><td>1937</td><td>410.6</td><td>5387.1</td><td>156.9</td></tr>\n",
       "\t<tr><th scope=row>4</th><td>1</td><td>1938</td><td>257.7</td><td>2792.2</td><td>209.2</td></tr>\n",
       "\t<tr><th scope=row>5</th><td>1</td><td>1939</td><td>330.8</td><td>4313.2</td><td>203.4</td></tr>\n",
       "\t<tr><th scope=row>6</th><td>1</td><td>1940</td><td>461.2</td><td>4643.9</td><td>207.2</td></tr>\n",
       "</tbody>\n",
       "</table>\n"
      ],
      "text/latex": [
       "A data.frame: 6 × 5\n",
       "\\begin{tabular}{r|lllll}\n",
       "  & firm & year & inv & value & capital\\\\\n",
       "  & <int> & <int> & <dbl> & <dbl> & <dbl>\\\\\n",
       "\\hline\n",
       "\t1 & 1 & 1935 & 317.6 & 3078.5 &   2.8\\\\\n",
       "\t2 & 1 & 1936 & 391.8 & 4661.7 &  52.6\\\\\n",
       "\t3 & 1 & 1937 & 410.6 & 5387.1 & 156.9\\\\\n",
       "\t4 & 1 & 1938 & 257.7 & 2792.2 & 209.2\\\\\n",
       "\t5 & 1 & 1939 & 330.8 & 4313.2 & 203.4\\\\\n",
       "\t6 & 1 & 1940 & 461.2 & 4643.9 & 207.2\\\\\n",
       "\\end{tabular}\n"
      ],
      "text/markdown": [
       "\n",
       "A data.frame: 6 × 5\n",
       "\n",
       "| <!--/--> | firm &lt;int&gt; | year &lt;int&gt; | inv &lt;dbl&gt; | value &lt;dbl&gt; | capital &lt;dbl&gt; |\n",
       "|---|---|---|---|---|---|\n",
       "| 1 | 1 | 1935 | 317.6 | 3078.5 |   2.8 |\n",
       "| 2 | 1 | 1936 | 391.8 | 4661.7 |  52.6 |\n",
       "| 3 | 1 | 1937 | 410.6 | 5387.1 | 156.9 |\n",
       "| 4 | 1 | 1938 | 257.7 | 2792.2 | 209.2 |\n",
       "| 5 | 1 | 1939 | 330.8 | 4313.2 | 203.4 |\n",
       "| 6 | 1 | 1940 | 461.2 | 4643.9 | 207.2 |\n",
       "\n"
      ],
      "text/plain": [
       "  firm year inv   value  capital\n",
       "1 1    1935 317.6 3078.5   2.8  \n",
       "2 1    1936 391.8 4661.7  52.6  \n",
       "3 1    1937 410.6 5387.1 156.9  \n",
       "4 1    1938 257.7 2792.2 209.2  \n",
       "5 1    1939 330.8 4313.2 203.4  \n",
       "6 1    1940 461.2 4643.9 207.2  "
      ]
     },
     "metadata": {},
     "output_type": "display_data"
    }
   ],
   "source": [
    "head(Grunfeld)"
   ]
  },
  {
   "cell_type": "code",
   "execution_count": null,
   "metadata": {},
   "outputs": [],
   "source": []
  }
 ],
 "metadata": {
  "kernelspec": {
   "display_name": "R",
   "language": "R",
   "name": "ir"
  },
  "language_info": {
   "codemirror_mode": "r",
   "file_extension": ".r",
   "mimetype": "text/x-r-source",
   "name": "R",
   "pygments_lexer": "r",
   "version": "4.0.3"
  },
  "latex_envs": {
   "LaTeX_envs_menu_present": true,
   "autoclose": false,
   "autocomplete": true,
   "bibliofile": "biblio.bib",
   "cite_by": "apalike",
   "current_citInitial": 1,
   "eqLabelWithNumbers": true,
   "eqNumInitial": 1,
   "hotkeys": {
    "equation": "Ctrl-E",
    "itemize": "Ctrl-I"
   },
   "labels_anchors": false,
   "latex_user_defs": false,
   "report_style_numbering": false,
   "user_envs_cfg": false
  }
 },
 "nbformat": 4,
 "nbformat_minor": 4
}
