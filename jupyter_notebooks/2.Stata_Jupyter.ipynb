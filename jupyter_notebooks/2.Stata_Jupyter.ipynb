{
 "cells": [
  {
   "cell_type": "markdown",
   "metadata": {},
   "source": [
    "# Stata sample exercise using Jupyter Notebook"
   ]
  },
  {
   "cell_type": "markdown",
   "metadata": {},
   "source": [
    "**M Portela**"
   ]
  },
  {
   "cell_type": "markdown",
   "metadata": {},
   "source": [
    "### Here are some notes on the configuration on the stata kernel\n",
    "\n",
    "The main source of information of information is available [here](https://kylebarron.dev/stata_kernel/)\n",
    "\n",
    "You will nedd to have both Python and Stata installed. In the current exercise I am using macOS Catalina + Python 3.8 + Stata 16.0.\n",
    "\n",
    "My configuration file is located in my home folder, ~, .stata_kernel.conf, and reads\n",
    "\n",
    "![stata_kernel.conf](figures/fig_stata_kernel_conf.png)\n",
    "\n"
   ]
  },
  {
   "cell_type": "markdown",
   "metadata": {},
   "source": [
    "## 1. Configuration"
   ]
  },
  {
   "cell_type": "code",
   "execution_count": 1,
   "metadata": {},
   "outputs": [],
   "source": [
    "%set execution_mode console"
   ]
  },
  {
   "cell_type": "code",
   "execution_count": 2,
   "metadata": {},
   "outputs": [],
   "source": [
    "%set graph_format svg --permanently"
   ]
  },
  {
   "cell_type": "code",
   "execution_count": 3,
   "metadata": {},
   "outputs": [],
   "source": [
    "%set autocomplete_closing_symbol True"
   ]
  },
  {
   "cell_type": "markdown",
   "metadata": {},
   "source": [
    "## 2. Change working directory"
   ]
  },
  {
   "cell_type": "code",
   "execution_count": null,
   "metadata": {},
   "outputs": [],
   "source": [
    "cd D:\\miguel\\Dropbox\\1.miguel\\1.formacao\\jupyter\\stata_full_exercise\\logs"
   ]
  },
  {
   "cell_type": "markdown",
   "metadata": {},
   "source": [
    "## 3. Some *magics*"
   ]
  },
  {
   "cell_type": "code",
   "execution_count": null,
   "metadata": {},
   "outputs": [],
   "source": [
    "//%help magics"
   ]
  },
  {
   "cell_type": "code",
   "execution_count": null,
   "metadata": {},
   "outputs": [],
   "source": [
    "//%help histogram"
   ]
  },
  {
   "cell_type": "markdown",
   "metadata": {},
   "source": [
    "## 4. Read data"
   ]
  },
  {
   "cell_type": "code",
   "execution_count": null,
   "metadata": {},
   "outputs": [],
   "source": [
    "//webuse nlswork\n",
    "//save ../data/nlswork, replace\n",
    "\n",
    "di \"Stata Version\"\n",
    "\n",
    "version\n",
    "\n",
    "python\n",
    "import pandas as pd\n",
    "2+2\n",
    "\n",
    "pd.__version__\n",
    "\n",
    "end\n"
   ]
  },
  {
   "cell_type": "markdown",
   "metadata": {},
   "source": [
    "## 5. Explore the data"
   ]
  },
  {
   "cell_type": "markdown",
   "metadata": {},
   "source": [
    "** olá **"
   ]
  },
  {
   "cell_type": "code",
   "execution_count": null,
   "metadata": {},
   "outputs": [],
   "source": [
    "clear all\n",
    "set rmsg off\n",
    "sysuse nlsw88, clear"
   ]
  },
  {
   "cell_type": "code",
   "execution_count": null,
   "metadata": {},
   "outputs": [],
   "source": [
    "version"
   ]
  },
  {
   "cell_type": "code",
   "execution_count": null,
   "metadata": {},
   "outputs": [],
   "source": [
    "%head 5"
   ]
  },
  {
   "cell_type": "code",
   "execution_count": null,
   "metadata": {},
   "outputs": [],
   "source": [
    "codebook, compact"
   ]
  },
  {
   "cell_type": "code",
   "execution_count": null,
   "metadata": {},
   "outputs": [],
   "source": [
    "ren ttl_exp exper\n",
    "gen exper2 = exper^2"
   ]
  },
  {
   "cell_type": "code",
   "execution_count": null,
   "metadata": {},
   "outputs": [],
   "source": [
    "label var exper \"Experience sqr.\""
   ]
  },
  {
   "cell_type": "code",
   "execution_count": null,
   "metadata": {},
   "outputs": [],
   "source": [
    "gen ln_wage = ln(wage)"
   ]
  },
  {
   "cell_type": "markdown",
   "metadata": {},
   "source": [
    "### 5.2 Summary statistics"
   ]
  },
  {
   "cell_type": "code",
   "execution_count": null,
   "metadata": {},
   "outputs": [],
   "source": [
    "sum ln_wage, detail"
   ]
  },
  {
   "cell_type": "code",
   "execution_count": null,
   "metadata": {},
   "outputs": [],
   "source": [
    "tab south union"
   ]
  },
  {
   "cell_type": "code",
   "execution_count": null,
   "metadata": {},
   "outputs": [],
   "source": [
    "tabstat wage,by(union) stat(N mean sd p1 p50 p99)"
   ]
  },
  {
   "cell_type": "markdown",
   "metadata": {},
   "source": [
    "### 5.3 Graphs"
   ]
  },
  {
   "cell_type": "code",
   "execution_count": null,
   "metadata": {},
   "outputs": [],
   "source": [
    "histogram exper,scheme(economist)"
   ]
  },
  {
   "cell_type": "code",
   "execution_count": null,
   "metadata": {},
   "outputs": [],
   "source": [
    "twoway (kdensity ln_wage if union == 0) (kdensity ln_wage if union == 1),scheme(sj) graphregion(color(white)) legen(region(color(white)) order(1 \"Non-Unionized\" 2 \"Unionized\"))"
   ]
  },
  {
   "cell_type": "markdown",
   "metadata": {},
   "source": [
    "## 6. Regression analysis"
   ]
  },
  {
   "cell_type": "markdown",
   "metadata": {},
   "source": [
    "The model to be estimated is defined by\n",
    "\n",
    "$Ln \\_ Wage_i = \\beta_0 + \\beta_1 Union_i + \\beta_2 Collgrad_i + \\beta_3 Exper_i + \\beta_4 Exper^{2}_i + \\varepsilon_i$\n",
    "\n",
    "where $Ln \\_ Wage_i$ stands for log wage, $\\ldots$"
   ]
  },
  {
   "cell_type": "code",
   "execution_count": null,
   "metadata": {},
   "outputs": [],
   "source": [
    "eststo m1: regress ln_wage union\n",
    "local b_union = _b[union]"
   ]
  },
  {
   "cell_type": "code",
   "execution_count": null,
   "metadata": {},
   "outputs": [],
   "source": [
    "%locals"
   ]
  },
  {
   "cell_type": "code",
   "execution_count": null,
   "metadata": {},
   "outputs": [],
   "source": [
    "quiet eststo m2: regress ln_wage collgrad exper exper2 union"
   ]
  },
  {
   "cell_type": "code",
   "execution_count": null,
   "metadata": {},
   "outputs": [],
   "source": [
    "quiet eststo m3: regress ln_wage collgrad exper exper2 union south"
   ]
  },
  {
   "cell_type": "code",
   "execution_count": null,
   "metadata": {},
   "outputs": [],
   "source": [
    "esttab m1 m2 m3,b(%4.3f) se(%4.3f) nocons r2 aic(%5.0f)"
   ]
  },
  {
   "cell_type": "markdown",
   "metadata": {},
   "source": [
    "Estimations from model (3) indicate that, conditional on Education, Experience and Location, Unionized workers have a premium of about 13%."
   ]
  },
  {
   "cell_type": "markdown",
   "metadata": {},
   "source": [
    "# A complete exercise"
   ]
  },
  {
   "cell_type": "markdown",
   "metadata": {},
   "source": [
    "## First specifications"
   ]
  },
  {
   "cell_type": "code",
   "execution_count": null,
   "metadata": {},
   "outputs": [],
   "source": [
    "version\n",
    "clear all // CLEAR STATA'S MEMORY; START A NEW SESSION\n",
    "set more off // ALLOW SCREENS TO PASS BY\n",
    "set rmsg on // CONTROL THE TIME NEEDED TO RUN EACH COMMAND\n",
    "\n",
    "capture restore\n",
    "\n",
    "timer on 1\n",
    "\n",
    "capture cd \"/Users/miguelportela/Dropbox/1.miguel/1.formacao/jupyter/stata_full_exercise/logs\""
   ]
  },
  {
   "cell_type": "markdown",
   "metadata": {},
   "source": [
    "## Start a command log to register everything you type interactively"
   ]
  },
  {
   "cell_type": "code",
   "execution_count": null,
   "metadata": {},
   "outputs": [],
   "source": [
    "capture cmdlog close\n",
    "capture cmdlog using commands.txt, replace"
   ]
  },
  {
   "cell_type": "markdown",
   "metadata": {},
   "source": [
    "## Start a log file for the output"
   ]
  },
  {
   "cell_type": "code",
   "execution_count": null,
   "metadata": {},
   "outputs": [],
   "source": [
    "capture log close\n",
    "log using exercise_complete_output.txt, text replace"
   ]
  },
  {
   "cell_type": "markdown",
   "metadata": {},
   "source": [
    "## Build the data"
   ]
  },
  {
   "cell_type": "markdown",
   "metadata": {},
   "source": [
    "We will use the 3 datasets discussed under section \"handling data\", namely income, education and capital data at the country level"
   ]
  },
  {
   "cell_type": "markdown",
   "metadata": {},
   "source": [
    "### Explore the three data files"
   ]
  },
  {
   "cell_type": "markdown",
   "metadata": {},
   "source": [
    "#### INCOME"
   ]
  },
  {
   "cell_type": "code",
   "execution_count": null,
   "metadata": {},
   "outputs": [],
   "source": [
    "use ../data/income, clear\n",
    "describe\n",
    "codebook, compact\n",
    "inspect openk\n",
    "sum\n",
    "sum rgdpwok, detail\n",
    "\n",
    "lookfor GDP\n",
    "\n",
    "order isocode,before(year)\n",
    "des\n",
    "list country isocode year in 1/10\n",
    "assert (year >= 1950 & year <= 2010)\n",
    "// assert pop >0 & pop ~= .\n",
    "// ssc install unique\n",
    "unique year\n",
    "unique country"
   ]
  },
  {
   "cell_type": "markdown",
   "metadata": {},
   "source": [
    "#### EDUCATION"
   ]
  },
  {
   "cell_type": "code",
   "execution_count": null,
   "metadata": {},
   "outputs": [],
   "source": [
    "use ../data/education, clear\n",
    "describe\n",
    "codebook, compact\n",
    "inspect education\n",
    "sum education, detail\n",
    "\n",
    "unique year\n",
    "unique country\n",
    "\n",
    "// IDENTIFY DUPLICATES\n",
    "\n",
    "duplicates tag country,gen(dup)\n",
    "tab dup\n",
    "list if dup == 0\n",
    "drop dup\n",
    "\n",
    "tabstat education,by(country) stat(mean sd min p10 p50 p90 p99)\n",
    "\n",
    "logout, save(tabstat_education_country) excel word replace: tabstat education,by(country) stat(mean sd min p10 p50 p90 p99)\n",
    "\n",
    "// the command logout closes the log, so one has to open it with the option append\n",
    "log using exercise_complete_output.txt, text append"
   ]
  },
  {
   "cell_type": "markdown",
   "metadata": {},
   "source": [
    "#### CAPITAL"
   ]
  },
  {
   "cell_type": "code",
   "execution_count": null,
   "metadata": {},
   "outputs": [],
   "source": [
    "use ../data/capital, clear\n",
    "describe\n",
    "\n",
    "// browse the data using the command 'browse' to explore its features\n",
    "// key conclusion: one needs to reshape the data\n",
    "\n",
    "reshape long k,i(country) j(year)\n",
    "describe\n",
    "\n",
    "// as k, for capital, is a string, one needs to make it a number\n",
    "\n",
    "destring k, replace force // type 'help destring' to understand the option force\n",
    "\n",
    "rename k capital\n",
    "\n",
    "label var capital \"Total capital per country\"\n",
    "\n",
    "codebook, compact\n",
    "inspect capital\n",
    "sum capital, detail\n",
    "unique year\n",
    "unique country\n",
    "\n",
    "sort country year\n",
    "\n",
    "preserve\n",
    "drop if capital == . // drop observations that satisfy the condition\n",
    "list in 1/10\n",
    "tab country\n",
    "restore\n",
    "\n",
    "save ../data/data_capital_long, replace\n"
   ]
  },
  {
   "cell_type": "markdown",
   "metadata": {},
   "source": [
    "### combine the three data sets and save the data for the following analysis"
   ]
  },
  {
   "cell_type": "code",
   "execution_count": null,
   "metadata": {},
   "outputs": [],
   "source": [
    "use ../data/income\n",
    "merge 1:1 country year using ../data/education\n",
    "drop _merge\n",
    "\n",
    "merge 1:1 country year using ../data/data_capital_long\n",
    "drop _merge\n",
    "\n",
    "egen rmiss = rowmiss(rgdpwok education)\n",
    "tab rmiss\n",
    "keep if rmiss == 0\n",
    "drop rmiss\n",
    "\n",
    "save ../data/data_full, replace\n",
    "\n",
    "// if your co-author uses Stata version 13 you need to save the data file in the old format\n",
    "\n",
    "saveold ../data/data_full_stata_version13, replace version(13)"
   ]
  },
  {
   "cell_type": "markdown",
   "metadata": {},
   "source": [
    "## 2. explore the data"
   ]
  },
  {
   "cell_type": "markdown",
   "metadata": {},
   "source": [
    "### 2.1 Exploratory Data Analysis"
   ]
  },
  {
   "cell_type": "code",
   "execution_count": null,
   "metadata": {},
   "outputs": [],
   "source": [
    "use ../data/data_full, clear\n",
    "describe\n",
    "codebook, compact\n",
    "inspect rgdpwok education capital\n",
    "tab country year if year >= 1990 & year <= 2000\n",
    "tab country year if year >= 1990 & year <= 2000,sum(education)"
   ]
  },
  {
   "cell_type": "markdown",
   "metadata": {},
   "source": [
    "### 2.2 generate variables, label values, etc."
   ]
  },
  {
   "cell_type": "code",
   "execution_count": null,
   "metadata": {},
   "outputs": [],
   "source": [
    "generate lngdp = ln(rgdpwok)\n",
    "ge lnk = ln(capital)\n",
    "\n",
    "label var rgdpwok \"Real GDP per worker\"\n",
    "label var education \"Education (in years)\"\n",
    "label var capital \"Capital\"\n",
    "label var open \"Degree of openness\"\n",
    "\n",
    "sum open, detail\n",
    "return list\n",
    "\n",
    "format %5.2f open\n",
    "l open in 1/10\n",
    "\n",
    "format %5.3f open\n",
    "sum open\n",
    "sum open, format\n",
    "\n",
    "gen high_open = (open > r(p50) & open ~= .)\n",
    "label define lbl_openh 0 \"Low openness\"  1 \"High openness\"\n",
    "label values high_open lbl_openh\n",
    "tab high_open\n",
    "\n",
    "// one could replace the values under 'high_open' with 10 & 20\n",
    "\n",
    "clonevar high_open_tmp = high_open\n",
    "recode high_open_tmp 0 = 10 1 = 20\n",
    "tab high_open_tmp\n",
    "drop high_open_tmp\n",
    "\n",
    "encode country, gen(country_n)\n",
    "tab country_n if high_open == 1\n",
    "tab country_n if high_open == 1, nolabel\n",
    "\n",
    "label dir\n",
    "label list country_n\n",
    "\n",
    "bysort country: gen nobs_1 = _N\n",
    "egen nobs_2 = count(year),by(country)\n",
    "\n",
    "compare nobs_1 nobs_2\n",
    "drop nobs*\n",
    "\n",
    "foreach nn of numlist 1985(5)2000 {\n",
    "\n",
    "display _new _new \"YEAR: `nn'\" _new\n",
    "preserve\n",
    "keep if year == `nn'\n",
    "tabstat education,by(high_open) stat(mean sd p10 p50 p90 p99)\n",
    "restore\n",
    "\n",
    "}\n",
    "\n",
    "// within variable transformation/correction\n",
    "replace country = proper(country) // replace within variable 'country' all country names with caps in the first letter\n",
    "\n",
    "preserve\n",
    "\n",
    "contract country\n",
    "drop _freq\n",
    "list in 1/10\n",
    "\n",
    "restore\n",
    "\n",
    "// explore Stata's functions, type help functions\n",
    "// play with string functions, substr, word, regexr\n",
    "\n",
    "replace country = regexr(country,\"Spain\",\"Espanha\")\n",
    "\n",
    "local cc = \"Portugal Espanha\"\n",
    "\n",
    "foreach asd of local cc {\n",
    "\n",
    "di _new _new \"COUNTRY:`asd'\" _new\n",
    "\n",
    "preserve\n",
    "keep if country == \"`asd'\"\n",
    "sum education if year >= 1990, detail\n",
    "restore\n",
    "\n",
    "}\n",
    "\n",
    "preserve\n",
    "\n",
    "// use just one data point per country\n",
    "\n",
    "collapse (mean) lngdp education,by(country)\n",
    "count\n",
    "codebook, compact\n",
    "\n",
    "scatter lngdp education || lfit lngdp education, scheme(economist)\n",
    "//graph export ../text/gdp_education.png, replace\n",
    "\n",
    "restore\n",
    "\n",
    "// sort the data\n",
    "\n",
    "gsort -country +year\n",
    "list country year in 1/20\n",
    "\n",
    "sort country year\n",
    "list country year if _n <15\n",
    "\n",
    "// create a variable that tracks changes in gdp over time within\n",
    "\n",
    "bysort country (year): gen delta_gdp = lngdp - lngdp[_n - 1]\n",
    "list country year lngdp delta_gdp in 1/15\n",
    "\n",
    "// this is not the efficient/correct way to do it; latter we will use 'tsset'"
   ]
  },
  {
   "cell_type": "markdown",
   "metadata": {},
   "source": [
    "### 2.3 export the descriptive statistics"
   ]
  },
  {
   "cell_type": "markdown",
   "metadata": {},
   "source": [
    "#### 2.3.a logout"
   ]
  },
  {
   "cell_type": "code",
   "execution_count": null,
   "metadata": {},
   "outputs": [],
   "source": [
    "//ssc install outreg2\n",
    "\n",
    "replace capital = capital/1000000\n",
    "\n",
    "preserve\n",
    "    keep rgdpwok education capital open\n",
    "    order rgdpwok education capital open\n",
    "    outreg2 using ../text/summary_statistics_table.doc, auto(4) sum(detail) word tex eqkeep(N mean p99 sd min max) dec(3) replace label\n",
    "restore"
   ]
  },
  {
   "cell_type": "markdown",
   "metadata": {},
   "source": [
    "#### 2.3.b logout"
   ]
  },
  {
   "cell_type": "code",
   "execution_count": null,
   "metadata": {},
   "outputs": [],
   "source": [
    "logout, save(tabstat_education_country) tex replace: tabstat education,by(country) stat(mean sd min p5 p50 p90 p99)\n",
    "\n",
    "// the command logout closes the log, so one has to open it with the option append\n",
    "log using exercise_complete_output.txt, text append"
   ]
  },
  {
   "cell_type": "markdown",
   "metadata": {},
   "source": [
    "#### 2.3.c estout"
   ]
  },
  {
   "cell_type": "code",
   "execution_count": null,
   "metadata": {},
   "outputs": [],
   "source": [
    "label var year \"Year\"\n",
    "tabout year using ../text/summary_statistics_2.tex, ///\n",
    "cells(N pop mean pop mean openk mean rgdpwok mean education mean lngdp median lnk median delta_gdp) ///\n",
    "sum style(tex) replace ptotal(single) oneway f(0c 1c 1c 1c 1c 1p 1c 2p) ///\n",
    "h1(nil) h2( & & \\multicolumn{5}{c}{Means} & \\multicolumn{2}{|c}{Medians} \\\\ \\hline) ///\n",
    "h3(& Obs. & Pop. & OpenK & GDP & Education & ln GDP & ln Capital & $\\Delta_{GDP}$ \\\\) botf() botstr(\"Source: own computations.\")"
   ]
  },
  {
   "cell_type": "markdown",
   "metadata": {},
   "source": [
    "### 2.4 export key graphs"
   ]
  },
  {
   "cell_type": "markdown",
   "metadata": {},
   "source": [
    "#### 2.4.a densities"
   ]
  },
  {
   "cell_type": "code",
   "execution_count": null,
   "metadata": {},
   "outputs": [],
   "source": [
    "twoway (kdensity lngdp if year == 1970) || (kdensity lngdp if year == 1990, lpattern(dash_dot_dot)), ///\n",
    "legend(label(1 \"Year: 1960\") label(2 \"Year: 2000\") region(lwidth(none))) title(Income: 1960 vs. 2000) ///\n",
    "xtitle(\"Log (Income)\") ytitle(\"Density\") scheme(sj) graphregion(color(white)) bgcolor(white)\n",
    "\n",
    "//graph export ../text/income_density.png, replace"
   ]
  },
  {
   "cell_type": "markdown",
   "metadata": {},
   "source": [
    "#### 2.4.b 'dots'"
   ]
  },
  {
   "cell_type": "code",
   "execution_count": null,
   "metadata": {},
   "outputs": [],
   "source": [
    "sum education if year == 2000,detail\n",
    "\n",
    "global a = r(p50)\n",
    "global b = r(p10)\n",
    "local c = r(p90)\n",
    "\n",
    "graph dot (mean) education if (country == \"Denmark\" | country == \"Portugal\" | country == \"United States\" | country == \"Italy\" | country == \"Spain\"),over(country, sort((max) lngdp)) ///\n",
    "title(\"Maximum level of education between 1960 and 2000\", span) ///\n",
    "note(\"Notes: Countries are ordered by maximum GDP.\" \"Values in the axis are percentiles 10, 50 and 90 of education, respectively, in 2000.\") ///\n",
    "ytitle(\"Education\") yline($a $b `c') ylabel($a $b `c',format(%3.1g)) ///\n",
    "graphregion(color(white)) bgcolor(white) scheme(s2color)\n",
    "\n",
    "graph export ../text/example1.eps, replace"
   ]
  },
  {
   "cell_type": "markdown",
   "metadata": {},
   "source": [
    "## 3. regression analysis"
   ]
  },
  {
   "cell_type": "markdown",
   "metadata": {},
   "source": [
    "### 3.1 Regressions"
   ]
  },
  {
   "cell_type": "code",
   "execution_count": null,
   "metadata": {},
   "outputs": [],
   "source": [
    "encode country,ge(cty_id)\n",
    "\n",
    "xtset cty_id year\n",
    "\n",
    "reg lngdp education\n",
    "estimates store r1\n",
    "\n",
    "reg lngdp education lnk\n",
    "est store r2\n",
    "\n",
    "reg lngdp education lnk openk i.year // use the operator i. to produce time dummies\n",
    "est store r3\n",
    "\n",
    "xtreg lngdp education lnk openk i.year, fe\n",
    "est store fe\n",
    "\n",
    "xtreg lngdp education lnk openk i.year, be\n",
    "est store be\n",
    "\n",
    "xtreg lngdp education lnk openk i.year,re\n",
    "est store re"
   ]
  },
  {
   "cell_type": "markdown",
   "metadata": {},
   "source": [
    "### 3.2 export the regression output"
   ]
  },
  {
   "cell_type": "markdown",
   "metadata": {},
   "source": [
    "#### 3.2.a export the output to word with 'outreg'"
   ]
  },
  {
   "cell_type": "code",
   "execution_count": null,
   "metadata": {},
   "outputs": [],
   "source": [
    "outreg, clear\n",
    "estimates restore r1\n",
    "outreg using ../text/growth_analysis, replace rtitles(\"Education\" \\ \"\" \\ \"Capital\" \\ \"\" \\ \"Openness degree\" \\ \"\")  /*\n",
    "*/ drop(_cons) /*\n",
    "*/ ctitle(\"\",\"Simple model\") /*\n",
    "*/ nodisplay varlabels bdec(3) se starlevels(10 5 1) starloc(1) summstat(r2\\rmse \\ N) summtitle(\"R2\"\\\"RMSE\" \\ \"N\")\n",
    "\n",
    "estimates restore r2\n",
    "outreg using ../text/growth_analysis, merge rtitles(\"Education\" \\ \"\" \\ \"Capital\" \\ \"\" \\ \"Openness degree\" \\ \"\")  /*\n",
    "*/ drop(_cons) /*\n",
    "*/ ctitle(\"\",\"Include capital\") /*\n",
    "*/ nodisplay varlabels bdec(4) se starlevels(10 5 1) starloc(1) summstat(r2\\rmse \\ N) summtitle(\"R2\"\\\"RMSE\" \\ \"N\")\n",
    "\n",
    "estimates restore r3\n",
    "outreg using ../text/growth_analysis, merge rtitles(\"Education\" \\ \"\" \\ \"Capital\" \\ \"\" \\ \"Openness degree\" \\ \"\")  /*\n",
    "*/ drop(_cons 1975.year 1980.year 1985.year 1990.year) /*\n",
    "*/ ctitle(\"\",\"Full model\") /*\n",
    "*/ varlabels bdec(4) se starlevels(10 5 1) starloc(1) summstat(r2\\rmse \\ N) summtitle(\"R2\"\\\"RMSE\" \\ \"N\")"
   ]
  },
  {
   "cell_type": "markdown",
   "metadata": {},
   "source": [
    "#### 3.2.b export the output to word using 'esttab'"
   ]
  },
  {
   "cell_type": "code",
   "execution_count": null,
   "metadata": {},
   "outputs": [],
   "source": [
    "// ssc install estout\n",
    "\n",
    "esttab r1 r2 r3 fe re using ../text/growth_analysis_esttab.doc, replace ///\n",
    "keep(education lnk openk) ///\n",
    "mtitle(\"Model # 1\" \"Model (2)\" \"Model (3)\") nonumbers ///\n",
    "coeflabel (education \"Average education\" lnk \"Log capital\" openk \"Openness\") ///\n",
    "b(%5.3f) se(%5.3f) sfmt(%5.2f) star(* 0.1 ** 0.05 *** 0.01) ///\n",
    "scalars(\"N Observations\" \"r2 R$^2$\" \"rmse RMSE\") ///\n",
    "nonotes addnotes(\"Notes: standard errors in parenthesis. Significance levels: *, 10\\%;\" \"**, 5\\%; ***, 1\\%. The dependent variable is ln real GDP per workers.\" \"Source: own computations.\")"
   ]
  },
  {
   "cell_type": "markdown",
   "metadata": {},
   "source": [
    "### 3.3 export to LATEX, 3 options"
   ]
  },
  {
   "cell_type": "markdown",
   "metadata": {},
   "source": [
    "#### 3.3.a export the output to latex using 'esttab'"
   ]
  },
  {
   "cell_type": "code",
   "execution_count": null,
   "metadata": {},
   "outputs": [],
   "source": [
    "esttab r1 r2 r3 fe be re using ../text/growth_analysis_esttab.tex, replace ///\n",
    "keep(education lnk openk) ///\n",
    "mtitle(\"OLS (1)\" \"OLS (2)\" \"OLS (3)\" \"FE\" \"BE\" \"RE\") nonumbers ///\n",
    "coeflabel (education \"Average education\" lnk \"Log capital\" openk \"Openness\") ///\n",
    "b(%5.3f) se(%5.3f) sfmt(%7.2f) star(* 0.1 ** 0.05 *** 0.01) ///\n",
    "scalars(\"N Observations\" \"r2 R$^2$\" \"rmse RMSE\") ///\n",
    "nonotes addnotes(\"Notes: standard errors in parenthesis. Significance levels: *, 10\\%; **, 5\\%; ***, 1\\%.\" \"The dependent variable is ln real GDP per worker. All models include a constant.\" \"Models OLS (3) till RE include time dummies.\" \"Source: own computations.\")"
   ]
  },
  {
   "cell_type": "markdown",
   "metadata": {},
   "source": [
    "#### 3.3.b export the output to latex FRAGMENT: use \\input{growth_analysis_frag} to include it in your tex file"
   ]
  },
  {
   "cell_type": "code",
   "execution_count": null,
   "metadata": {},
   "outputs": [],
   "source": [
    "outreg, clear\n",
    "estimates restore r1\n",
    "outreg using ../text/growth_analysis_frag, tex fragment replace rtitles(\"Education\" \\ \"\" \\ \"Capital\" \\ \"\" \\ \"Openness degree\" \\ \"\")  /*\n",
    "*/ drop(_cons) /*\n",
    "*/ ctitle(\"\",\"Simple model\") /*\n",
    "*/ nodisplay varlabels bdec(4) se starlevels(10 5 1) starloc(1) summstat(r2\\rmse \\ N) summtitle(\"R2\"\\\"RMSE\" \\ \"N\")\n",
    "\n",
    "estimates restore r2\n",
    "outreg using ../text/growth_analysis_frag, tex fragment merge rtitles(\"Education\" \\ \"\" \\ \"Capital\" \\ \"\" \\ \"Openness degree\" \\ \"\")  /*\n",
    "*/ drop(_cons) /*\n",
    "*/ ctitle(\"\",\"Include capital\") /*\n",
    "*/ nodisplay varlabels bdec(3) se starlevels(10 5 1) starloc(1) summstat(r2\\rmse \\ N) summtitle(\"R2\"\\\"RMSE\" \\ \"N\")\n",
    "\n",
    "estimates restore r3\n",
    "outreg using ../text/growth_analysis_frag, tex fragment merge rtitles(\"Education\" \\ \"\" \\ \"Capital\" \\ \"\" \\ \"Openness degree\" \\ \"\")  /*\n",
    "*/ drop(_cons 1975.year 1980.year 1985.year 1990.year) /*\n",
    "*/ ctitle(\"\",\"Full model\") /*\n",
    "*/ nodisplay varlabels bdec(1) se starlevels(10 5 1) starloc(1) summstat(r2\\rmse \\ N) summtitle(\"R2\"\\\"RMSE\" \\ \"N\")"
   ]
  },
  {
   "cell_type": "markdown",
   "metadata": {},
   "source": [
    "#### 3.3.c export the output to latex FULL DOC"
   ]
  },
  {
   "cell_type": "code",
   "execution_count": null,
   "metadata": {},
   "outputs": [],
   "source": [
    "outreg, clear\n",
    "estimates restore r1\n",
    "outreg using ../text/growth_analysis, tex replace rtitles(\"Education\" \\ \"\" \\ \"Capital\" \\ \"\" \\ \"Openness degree\" \\ \"\")  /*\n",
    "*/ drop(_cons) /*\n",
    "*/ ctitle(\"\",\"Simple model\") /*\n",
    "*/ nodisplay varlabels bdec(4) se starlevels(10 5 1) starloc(1) summstat(r2\\rmse \\ N) summtitle(\"R2\"\\\"RMSE\" \\ \"N\")\n",
    "\n",
    "estimates restore r2\n",
    "outreg using ../text/growth_analysis, tex merge rtitles(\"Education\" \\ \"\" \\ \"Capital\" \\ \"\" \\ \"Openness degree\" \\ \"\")  /*\n",
    "*/ drop(_cons) /*\n",
    "*/ ctitle(\"\",\"Include capital\") /*\n",
    "*/ nodisplay varlabels bdec(4) se starlevels(10 5 1) starloc(1) summstat(r2\\rmse \\ N) summtitle(\"R2\"\\\"RMSE\" \\ \"N\")\n",
    "\n",
    "estimates restore r3\n",
    "outreg using ../text/growth_analysis, tex merge rtitles(\"Education\" \\ \"\" \\ \"Capital\" \\ \"\" \\ \"Openness degree\" \\ \"\")  /*\n",
    "*/ drop(_cons 1975.year 1980.year 1985.year 1990.year) /*\n",
    "*/ ctitle(\"\",\"Full model\") /*\n",
    "*/ nodisplay varlabels bdec(4) se starlevels(10 5 1) starloc(1) summstat(r2\\rmse \\ N) summtitle(\"R2\"\\\"RMSE\" \\ \"N\")"
   ]
  },
  {
   "cell_type": "code",
   "execution_count": null,
   "metadata": {},
   "outputs": [],
   "source": [
    "timer off 1\n",
    "timer list 1\n",
    "\n",
    "log close"
   ]
  },
  {
   "cell_type": "code",
   "execution_count": null,
   "metadata": {},
   "outputs": [],
   "source": [
    "python\n",
    "import sys\n",
    "print(sys.version)\n",
    "end\n"
   ]
  },
  {
   "cell_type": "markdown",
   "metadata": {},
   "source": [
    "beta"
   ]
  }
 ],
 "metadata": {
  "kernelspec": {
   "display_name": "Stata",
   "language": "stata",
   "name": "stata"
  },
  "language_info": {
   "codemirror_mode": "stata",
   "file_extension": ".do",
   "mimetype": "text/x-stata",
   "name": "stata",
   "version": "15.1"
  },
  "latex_envs": {
   "LaTeX_envs_menu_present": true,
   "autoclose": false,
   "autocomplete": true,
   "bibliofile": "biblio.bib",
   "cite_by": "apalike",
   "current_citInitial": 1,
   "eqLabelWithNumbers": true,
   "eqNumInitial": 1,
   "hotkeys": {
    "equation": "Ctrl-E",
    "itemize": "Ctrl-I"
   },
   "labels_anchors": false,
   "latex_user_defs": false,
   "report_style_numbering": false,
   "user_envs_cfg": false
  }
 },
 "nbformat": 4,
 "nbformat_minor": 4
}
