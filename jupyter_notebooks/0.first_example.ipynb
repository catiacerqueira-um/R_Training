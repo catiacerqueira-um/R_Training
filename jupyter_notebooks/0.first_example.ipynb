{
 "cells": [
  {
   "cell_type": "code",
   "execution_count": 1,
   "metadata": {
    "ExecuteTime": {
     "end_time": "2020-11-12T00:02:38.209084Z",
     "start_time": "2020-11-12T00:02:38.189Z"
    },
    "scrolled": false
   },
   "outputs": [
    {
     "data": {
      "text/plain": [
       "               _                           \n",
       "platform       x86_64-w64-mingw32          \n",
       "arch           x86_64                      \n",
       "os             mingw32                     \n",
       "system         x86_64, mingw32             \n",
       "status                                     \n",
       "major          4                           \n",
       "minor          1.1                         \n",
       "year           2021                        \n",
       "month          08                          \n",
       "day            10                          \n",
       "svn rev        80725                       \n",
       "language       R                           \n",
       "version.string R version 4.1.1 (2021-08-10)\n",
       "nickname       Kick Things                 "
      ]
     },
     "metadata": {},
     "output_type": "display_data"
    }
   ],
   "source": [
    "version"
   ]
  },
  {
   "cell_type": "code",
   "execution_count": 2,
   "metadata": {},
   "outputs": [],
   "source": [
    "# install.packages(\"here\")\n",
    "# install.package(\"devtools\")\n",
    "# devtools::install_github(\"gadenbuie/lorem\")\n",
    "# lorem::ipsum(paragraphs = 2)"
   ]
  },
  {
   "cell_type": "code",
   "execution_count": 3,
   "metadata": {},
   "outputs": [
    {
     "name": "stderr",
     "output_type": "stream",
     "text": [
      "here() starts at C:/Users/mangelo.EEG/Documents/GitHub/R_Training\n",
      "\n"
     ]
    }
   ],
   "source": [
    "library(here)"
   ]
  },
  {
   "cell_type": "code",
   "execution_count": 4,
   "metadata": {
    "ExecuteTime": {
     "end_time": "2020-11-12T00:02:39.282644Z",
     "start_time": "2020-11-12T00:02:39.264Z"
    }
   },
   "outputs": [
    {
     "data": {
      "text/html": [
       "'C:/Users/mangelo.EEG/Documents/GitHub/R_Training'"
      ],
      "text/latex": [
       "'C:/Users/mangelo.EEG/Documents/GitHub/R\\_Training'"
      ],
      "text/markdown": [
       "'C:/Users/mangelo.EEG/Documents/GitHub/R_Training'"
      ],
      "text/plain": [
       "[1] \"C:/Users/mangelo.EEG/Documents/GitHub/R_Training\""
      ]
     },
     "metadata": {},
     "output_type": "display_data"
    }
   ],
   "source": [
    "rm(list = ls())\n",
    "here()"
   ]
  },
  {
   "cell_type": "markdown",
   "metadata": {},
   "source": [
    "# Load your packages here"
   ]
  },
  {
   "cell_type": "code",
   "execution_count": 5,
   "metadata": {
    "ExecuteTime": {
     "end_time": "2020-11-12T00:02:44.170098Z",
     "start_time": "2020-11-12T00:02:40.379Z"
    },
    "scrolled": true
   },
   "outputs": [
    {
     "name": "stderr",
     "output_type": "stream",
     "text": [
      "-- \u001b[1mAttaching packages\u001b[22m --------------------------------------- tidyverse 1.3.1 --\n",
      "\n",
      "\u001b[32mv\u001b[39m \u001b[34mggplot2\u001b[39m 3.3.3     \u001b[32mv\u001b[39m \u001b[34mpurrr  \u001b[39m 0.3.4\n",
      "\u001b[32mv\u001b[39m \u001b[34mtibble \u001b[39m 3.1.2     \u001b[32mv\u001b[39m \u001b[34mdplyr  \u001b[39m 1.0.6\n",
      "\u001b[32mv\u001b[39m \u001b[34mtidyr  \u001b[39m 1.1.3     \u001b[32mv\u001b[39m \u001b[34mstringr\u001b[39m 1.4.0\n",
      "\u001b[32mv\u001b[39m \u001b[34mreadr  \u001b[39m 1.4.0     \u001b[32mv\u001b[39m \u001b[34mforcats\u001b[39m 0.5.1\n",
      "\n",
      "-- \u001b[1mConflicts\u001b[22m ------------------------------------------ tidyverse_conflicts() --\n",
      "\u001b[31mx\u001b[39m \u001b[34mdplyr\u001b[39m::\u001b[32mfilter()\u001b[39m masks \u001b[34mstats\u001b[39m::filter()\n",
      "\u001b[31mx\u001b[39m \u001b[34mdplyr\u001b[39m::\u001b[32mlag()\u001b[39m    masks \u001b[34mstats\u001b[39m::lag()\n",
      "\n",
      "\n",
      "Please cite as: \n",
      "\n",
      "\n",
      " Hlavac, Marek (2018). stargazer: Well-Formatted Regression and Summary Statistics Tables.\n",
      "\n",
      " R package version 5.2.2. https://CRAN.R-project.org/package=stargazer \n",
      "\n",
      "\n",
      "\n",
      "Attaching package: 'dlookr'\n",
      "\n",
      "\n",
      "The following object is masked from 'package:tidyr':\n",
      "\n",
      "    extract\n",
      "\n",
      "\n",
      "The following object is masked from 'package:base':\n",
      "\n",
      "    transform\n",
      "\n",
      "\n"
     ]
    }
   ],
   "source": [
    "# setwd(\"/Users/miguelportela/Documents/GitHub/R_Training/examples\")\n",
    "# setwd(\"C:/Users/mangelo.EEG/Documents/GitHub/R_Training/examples\")\n",
    "\n",
    "library(tidyverse)\n",
    "library(ggplot2)\n",
    "library(haven)\n",
    "library(stargazer)\n",
    "library(dplyr)\n",
    "library(dlookr)"
   ]
  },
  {
   "cell_type": "code",
   "execution_count": 6,
   "metadata": {
    "scrolled": true
   },
   "outputs": [
    {
     "ename": "ERROR",
     "evalue": "Error: 'nlswork.dta' does not exist in current working directory ('C:/Users/mangelo.EEG/Documents/GitHub/R_Training/jupyter_notebooks').\n",
     "output_type": "error",
     "traceback": [
      "Error: 'nlswork.dta' does not exist in current working directory ('C:/Users/mangelo.EEG/Documents/GitHub/R_Training/jupyter_notebooks').\nTraceback:\n",
      "1. read_dta(\"nlswork.dta\")",
      "2. readr::datasource(file)",
      "3. standardise_path(file)",
      "4. check_path(path)",
      "5. stop(\"'\", path, \"' does not exist\", if (!is_absolute_path(path)) paste0(\" in current working directory ('\", \n .     getwd(), \"')\"), \".\", call. = FALSE)"
     ]
    }
   ],
   "source": [
    "# data()\n",
    "##attach(mtcars)\n",
    "nlswork <- read_dta(\"nlswork.dta\")\n",
    "\n",
    "nls <- na.omit(as.data.frame(nlswork))\n",
    "\n",
    "summary(nlswork)\n",
    "\n",
    "attach(nls)\n",
    "summary(ln_wage)\n"
   ]
  },
  {
   "cell_type": "code",
   "execution_count": null,
   "metadata": {},
   "outputs": [],
   "source": [
    "names(nls)\n",
    "head(nls)"
   ]
  },
  {
   "cell_type": "code",
   "execution_count": null,
   "metadata": {
    "scrolled": true
   },
   "outputs": [],
   "source": [
    "stargazer(nls,\n",
    "          title = \"Summary table with stargazer\",\n",
    "          label = \"table1\",\n",
    "          table.placement = \"ht\",\n",
    "          header=FALSE,type=\"text\")"
   ]
  },
  {
   "cell_type": "code",
   "execution_count": null,
   "metadata": {
    "scrolled": true
   },
   "outputs": [],
   "source": [
    "nls %>%\n",
    "  select(tenure,ln_wage) %>%\n",
    "  stargazer(title = \"Short statistics\",\n",
    "          label = \"table:short\",\n",
    "          table.placement = \"ht\",\n",
    "          header=FALSE,type=\"text\")"
   ]
  },
  {
   "cell_type": "code",
   "execution_count": null,
   "metadata": {
    "scrolled": false
   },
   "outputs": [],
   "source": [
    "#names(nlswork)\n",
    "ggplot(data=nlswork)+\n",
    "    geom_histogram(mapping=aes(x=ln_wage),binwidth=0.5)"
   ]
  },
  {
   "cell_type": "markdown",
   "metadata": {},
   "source": [
    "The wage distribution is skewed to the right. We will now estimate the model $$y_i = \\beta_0 + \\alpha_1x_i+\\varepsilon_i$$"
   ]
  },
  {
   "cell_type": "code",
   "execution_count": null,
   "metadata": {},
   "outputs": [],
   "source": [
    "south <- nlswork %>%\n",
    "    filter(south==1)\n",
    "\n",
    "ftable(south$collgrad)\n",
    "\n",
    "south$wage <- exp(south$ln_wage)\n",
    "\n",
    "ggplot(data=south,mapping=aes(x=wage)) +\n",
    "    geom_histogram(binwidth=0.1)"
   ]
  },
  {
   "cell_type": "code",
   "execution_count": null,
   "metadata": {},
   "outputs": [],
   "source": [
    "ggplot(data=nlswork,mapping=aes(x=ln_wage)) +\n",
    "    geom_histogram(binwidth=0.1)"
   ]
  },
  {
   "cell_type": "code",
   "execution_count": null,
   "metadata": {},
   "outputs": [],
   "source": [
    "summary(nlswork$ln_wage)"
   ]
  },
  {
   "cell_type": "code",
   "execution_count": null,
   "metadata": {
    "scrolled": true
   },
   "outputs": [],
   "source": [
    "plot(x=tenure,y=ln_wage)"
   ]
  },
  {
   "cell_type": "code",
   "execution_count": null,
   "metadata": {},
   "outputs": [],
   "source": [
    "nls2 <- as.data.frame(nlswork)\n",
    "\n",
    "nls2 %>%\n",
    "  select(tenure,ln_wage) %>%\n",
    "  na.omit() %>%\n",
    "  ggplot(aes(tenure,ln_wage)) + geom_point()\n",
    "\n",
    "ggsave(\"wages.png\")"
   ]
  },
  {
   "cell_type": "code",
   "execution_count": null,
   "metadata": {},
   "outputs": [],
   "source": [
    "dplyr::glimpse(nlswork$ln_wage)\n",
    "d <- density(ln_wage)\n",
    "plot(d)"
   ]
  },
  {
   "cell_type": "code",
   "execution_count": null,
   "metadata": {},
   "outputs": [],
   "source": [
    "## <<>> --- ExPanDaR: Explore Panel Data Interactively --- <<>> ##"
   ]
  },
  {
   "cell_type": "code",
   "execution_count": null,
   "metadata": {},
   "outputs": [],
   "source": [
    "##install.packages(\"ExPanDaR\")\n",
    "library(ExPanDaR)"
   ]
  },
  {
   "cell_type": "code",
   "execution_count": null,
   "metadata": {},
   "outputs": [],
   "source": [
    "## Missing values\n",
    "##install.packages(\"visdat\")\n",
    "library(\"visdat\")\n",
    "\n",
    "vis_dat(nlswork)"
   ]
  },
  {
   "cell_type": "code",
   "execution_count": null,
   "metadata": {},
   "outputs": [],
   "source": [
    "## https://cran.r-project.org/web/packages/naniar/vignettes/naniar-visualisation.html\n",
    "\n",
    "##install.packages(\"naniar\")\n",
    "\n",
    "library(naniar)\n",
    "\n",
    "  vis_miss(nlswork)\n",
    "\n",
    "  gg_miss_upset(nlswork)"
   ]
  },
  {
   "cell_type": "code",
   "execution_count": null,
   "metadata": {},
   "outputs": [],
   "source": [
    "names(nlswork)"
   ]
  },
  {
   "cell_type": "code",
   "execution_count": null,
   "metadata": {},
   "outputs": [],
   "source": [
    "ggplot(nlswork,\n",
    "       aes(x = hours,\n",
    "           y = year)) +\n",
    "geom_miss_point()"
   ]
  },
  {
   "cell_type": "code",
   "execution_count": null,
   "metadata": {},
   "outputs": [],
   "source": [
    "attach(nlswork)\n",
    "ggplot(nlswork,\n",
    "       aes(x = hours,\n",
    "           y = year)) +\n",
    "geom_miss_point() +\n",
    "facet_wrap(race)"
   ]
  },
  {
   "cell_type": "code",
   "execution_count": null,
   "metadata": {},
   "outputs": [],
   "source": [
    "## ADDITIONAL TOOLS"
   ]
  },
  {
   "cell_type": "code",
   "execution_count": null,
   "metadata": {},
   "outputs": [],
   "source": [
    "#install.packages(\"SmartEDA\")\n",
    "library(SmartEDA)\n"
   ]
  },
  {
   "cell_type": "code",
   "execution_count": null,
   "metadata": {},
   "outputs": [],
   "source": [
    "ExpData(nlswork,type=1)"
   ]
  },
  {
   "cell_type": "code",
   "execution_count": null,
   "metadata": {},
   "outputs": [],
   "source": [
    "ExpData(nls2,type=2)"
   ]
  },
  {
   "cell_type": "code",
   "execution_count": null,
   "metadata": {},
   "outputs": [],
   "source": [
    "summary(nls[,\"age\"])"
   ]
  },
  {
   "cell_type": "code",
   "execution_count": null,
   "metadata": {},
   "outputs": [],
   "source": [
    "ExpNumStat(nls,by =\"A\",Outlier=TRUE,round= 2,Qnt=c(0.1,0.20,0.5))"
   ]
  },
  {
   "cell_type": "code",
   "execution_count": null,
   "metadata": {},
   "outputs": [],
   "source": [
    "ExpCTable(nls)"
   ]
  },
  {
   "cell_type": "code",
   "execution_count": null,
   "metadata": {},
   "outputs": [],
   "source": [
    "ExpCatViz(nls)"
   ]
  },
  {
   "cell_type": "code",
   "execution_count": null,
   "metadata": {},
   "outputs": [],
   "source": [
    "#ExpCatStat(union)\n",
    "ExpNumViz(nls)"
   ]
  },
  {
   "cell_type": "code",
   "execution_count": null,
   "metadata": {},
   "outputs": [],
   "source": [
    "ExpNumViz(nls,target=\"ln_wage\")[11:13]"
   ]
  },
  {
   "cell_type": "code",
   "execution_count": null,
   "metadata": {
    "scrolled": true
   },
   "outputs": [],
   "source": [
    "ExpNumViz(data=nls,target=\"collgrad\",)[c(3,4,14)]"
   ]
  },
  {
   "cell_type": "code",
   "execution_count": null,
   "metadata": {},
   "outputs": [],
   "source": [
    "ExpCatViz(data=nls, margin = 2, target = \"union\", \n",
    "          col = c(\"red\",\"green\"))[c(1)]"
   ]
  },
  {
   "cell_type": "code",
   "execution_count": null,
   "metadata": {},
   "outputs": [],
   "source": [
    "ExpCatViz(data=nls, margin = 2, target = \"union\", \n",
    "          col = c(\"red\",\"green\"))[c(4:5)]"
   ]
  },
  {
   "cell_type": "code",
   "execution_count": null,
   "metadata": {},
   "outputs": [],
   "source": [
    "ExpOutliers(nls,varlist=c(\"tenure\"))"
   ]
  },
  {
   "cell_type": "code",
   "execution_count": null,
   "metadata": {},
   "outputs": [],
   "source": [
    "## SUMMARY PLOTS"
   ]
  },
  {
   "cell_type": "code",
   "execution_count": null,
   "metadata": {},
   "outputs": [],
   "source": [
    "## library(summarytools)"
   ]
  },
  {
   "cell_type": "code",
   "execution_count": null,
   "metadata": {},
   "outputs": [],
   "source": [
    "## explore (R)"
   ]
  },
  {
   "cell_type": "code",
   "execution_count": null,
   "metadata": {},
   "outputs": [],
   "source": [
    "##install.packages(\"explore\")\n",
    "library(explore)\n",
    "\n",
    "## use an interactive R session\n",
    "## explore(nls)\n"
   ]
  },
  {
   "cell_type": "code",
   "execution_count": null,
   "metadata": {},
   "outputs": [],
   "source": [
    "##install.packages(\"dataMaid\")\n",
    "library('dataMaid') \n",
    "sample <- nlswork[c(\"age\",\"tenure\",\"ln_wage\")]\n",
    "makeDataReport(sample,                \n",
    "               render = FALSE,\n",
    "               file = \"sample.Rmd\",\n",
    "               replace = TRUE)"
   ]
  },
  {
   "cell_type": "code",
   "execution_count": null,
   "metadata": {},
   "outputs": [],
   "source": [
    "## https://cran.r-project.org/web/packages/dlookr/vignettes/EDA.html\n",
    "\n",
    "##eda_report(nlswork,output_dir = \"/Users/miguelportela/Documents/GitHub/prjs/reports/\",output_file = \"eda_report.pdf\")\n",
    "\n",
    "library(dplyr)\n",
    "library(dlookr)\n",
    "library(ExPanDaR)\n",
    "\n",
    "eda_report(nlswork,output_dir = \"reports\",output_file = \"eda_report.pdf\")\n"
   ]
  },
  {
   "cell_type": "code",
   "execution_count": null,
   "metadata": {},
   "outputs": [],
   "source": [
    "## REGRESSIONS"
   ]
  },
  {
   "cell_type": "code",
   "execution_count": null,
   "metadata": {
    "scrolled": true
   },
   "outputs": [],
   "source": [
    "M1 <- lm(data = nls2,ln_wage ~ tenure)\n",
    "\n",
    "# plot(nls2)\n",
    "# abline(M1)\n",
    "\n",
    "M2 <- lm(data=nls2,ln_wage ~ tenure + union)\n",
    "\n",
    "M3 <- lm(data=filter(nls2,year==80),ln_wage ~ tenure + union)\n",
    "\n",
    "\n",
    "# stargazer(M1,M2,M3,title = \"First set of regressions\",column.labels = c(\"M1\", \"M2\",\"M3\"),label = \"regressions\",table.placement = \"ht\",notes.append = FALSE,notes.align=\"l\",notes=\"Standard errors in parentheses.\",header = FALSE,no.space = TRUE,covariate.labels = c(\"TENURE\",\"UNION\"),omit = c(\"Constant\"),omit.stat = c(\"ser\"),digits = 2,digits.extra = 4,omit.yes.no = c(\"Constant\",\"\"),type = \"text\",style = \"qje\")\n",
    "\n",
    "# Stargazer manual\n",
    "# https://cran.r-project.org/web/packages/stargazer/stargazer.pdf\n",
    "\n",
    "stargazer(M1,M2,M3,title = \"Regression analysis\", model.numbers = FALSE,column.labels = c(\"Model 1\", \"Model 2\",\"Model 3\"),label = \"regressions\",table.placement = \"!ht\",notes.append = FALSE,notes.align=\"l\",notes=\"Standard errors in parentheses.\",header = FALSE,no.space = TRUE,covariate.labels = c(\"TENURE\",\"UNION\"),omit = c(\"Constant\"),omit.stat = c(\"adj.rsq\",\"f\",\"ser\"),digits = 2,digits.extra = 4,omit.yes.no = c(\"Constant\",\"\"),dep.var.caption=\"\",dep.var.labels.include = FALSE,style = \"qje\")\n",
    "\n",
    "betas<-coef(M2)\n",
    "r2 <- summary(M2)$r.squared"
   ]
  },
  {
   "cell_type": "code",
   "execution_count": null,
   "metadata": {},
   "outputs": [],
   "source": [
    "summary(M1)"
   ]
  },
  {
   "cell_type": "code",
   "execution_count": null,
   "metadata": {},
   "outputs": [],
   "source": [
    "stargazer(M1,M2,title = \"Regression analysis\", model.numbers = FALSE,column.labels = c(\"Model 1\", \"Model 2\",\"Model 3\"),label = \"regressions\",table.placement = \"!ht\",notes.append = FALSE,notes.align=\"l\",notes=\"Standard errors in parentheses.\",header = FALSE,no.space = TRUE,covariate.labels = c(\"TENURE\",\"UNION\"),omit = c(\"Constant\"),omit.stat = c(\"adj.rsq\",\"f\",\"ser\"),digits = 2,digits.extra = 4,omit.yes.no = c(\"Constant\",\"\"),dep.var.caption=\"\",dep.var.labels.include = FALSE,style = \"qje\",type=\"text\")"
   ]
  },
  {
   "cell_type": "code",
   "execution_count": null,
   "metadata": {},
   "outputs": [],
   "source": []
  }
 ],
 "metadata": {
  "hide_input": false,
  "kernelspec": {
   "display_name": "R",
   "language": "R",
   "name": "ir"
  },
  "language_info": {
   "codemirror_mode": "r",
   "file_extension": ".r",
   "mimetype": "text/x-r-source",
   "name": "R",
   "pygments_lexer": "r",
   "version": "4.1.1"
  },
  "latex_envs": {
   "LaTeX_envs_menu_present": true,
   "autoclose": false,
   "autocomplete": true,
   "bibliofile": "biblio.bib",
   "cite_by": "apalike",
   "current_citInitial": 1,
   "eqLabelWithNumbers": true,
   "eqNumInitial": 1,
   "hotkeys": {
    "equation": "Ctrl-E",
    "itemize": "Ctrl-I"
   },
   "labels_anchors": false,
   "latex_user_defs": false,
   "report_style_numbering": false,
   "user_envs_cfg": false
  },
  "toc": {
   "base_numbering": 1,
   "nav_menu": {},
   "number_sections": true,
   "sideBar": true,
   "skip_h1_title": false,
   "title_cell": "Table of Contents",
   "title_sidebar": "Contents",
   "toc_cell": false,
   "toc_position": {},
   "toc_section_display": true,
   "toc_window_display": false
  },
  "varInspector": {
   "cols": {
    "lenName": 16,
    "lenType": 16,
    "lenVar": 40
   },
   "kernels_config": {
    "python": {
     "delete_cmd_postfix": "",
     "delete_cmd_prefix": "del ",
     "library": "var_list.py",
     "varRefreshCmd": "print(var_dic_list())"
    },
    "r": {
     "delete_cmd_postfix": ") ",
     "delete_cmd_prefix": "rm(",
     "library": "var_list.r",
     "varRefreshCmd": "cat(var_dic_list()) "
    }
   },
   "types_to_exclude": [
    "module",
    "function",
    "builtin_function_or_method",
    "instance",
    "_Feature"
   ],
   "window_display": false
  }
 },
 "nbformat": 4,
 "nbformat_minor": 4
}
