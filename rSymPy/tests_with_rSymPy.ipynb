{
 "cells": [
  {
   "cell_type": "markdown",
   "metadata": {},
   "source": [
    "# Tests with `rSymPy`"
   ]
  },
  {
   "cell_type": "code",
   "execution_count": null,
   "metadata": {},
   "outputs": [
    {
     "name": "stderr",
     "output_type": "stream",
     "text": [
      "Loading required package: rJython\n",
      "\n",
      "Loading required package: rJava\n",
      "\n"
     ]
    }
   ],
   "source": [
    "# https://rdrr.io/cran/rSymPy/\n",
    "\n",
    "library(rSymPy)\n",
    "\n",
    "## Not run: \n",
    "# These examples are mostly from: http://wiki.sympy.org/wiki/Tutorial\n",
    "\n",
    "# create a SymPy variable called x\n",
    "sympy(\"var('x')\")\n",
    "sympy(\"y = x*x\")\n",
    "sympy(\"y\")\n",
    "\n",
    "sympy(\"limit(1/x, x, oo)\")\n",
    "\n",
    "# the next line fails under jython even without R\n",
    "# and seems to corrupt the rest of the session\n",
    "# sympy(\"(1/cos(x)).series(x, 0, 10)\")\n",
    "\n",
    "sympy(\"diff(sin(2*x), x, 1)\")\n",
    "sympy(\"diff(sin(2*x), x, 2)\")\n",
    "\n",
    "sympy(\"integrate(exp(-x), (x, 0, oo))\")\n",
    "\n",
    "sympy(\"xr = Symbol('xr', real=True)\")\n",
    "sympy(\"exp(I*xr).expand(complex=True)\")\n",
    "\n",
    "# Matrices are stored row by row (unlike R matrices)\n",
    "cat(sympy(\"A = Matrix([[1,x], [y,1]])\"), \"\\n\")\n",
    "cat(sympy(\"A**2\"), \"\\n\")\n",
    "\n",
    "\n",
    "\n",
    "## End(Not run)"
   ]
  },
  {
   "cell_type": "code",
   "execution_count": null,
   "metadata": {},
   "outputs": [
    {
     "name": "stderr",
     "output_type": "stream",
     "text": [
      "Registered S3 method overwritten by 'mosaic':\n",
      "  method                           from   \n",
      "  fortify.SpatialPolygonsDataFrame ggplot2\n",
      "\n",
      "\n",
      "The 'mosaic' package masks several functions from core packages in order to add \n",
      "additional features.  The original behavior of these functions should not be affected by this.\n",
      "\n",
      "\n",
      "Attaching package: ‘mosaic’\n",
      "\n",
      "\n",
      "The following objects are masked from ‘package:dplyr’:\n",
      "\n",
      "    count, do, tally\n",
      "\n",
      "\n",
      "The following object is masked from ‘package:Matrix’:\n",
      "\n",
      "    mean\n",
      "\n",
      "\n",
      "The following object is masked from ‘package:ggplot2’:\n",
      "\n",
      "    stat\n",
      "\n",
      "\n",
      "The following objects are masked from ‘package:stats’:\n",
      "\n",
      "    binom.test, cor, cor.test, cov, fivenum, IQR, median, prop.test,\n",
      "    quantile, sd, t.test, var\n",
      "\n",
      "\n",
      "The following objects are masked from ‘package:base’:\n",
      "\n",
      "    max, mean, min, prod, range, sample, sum\n",
      "\n",
      "\n",
      "Loading required package: mosaicCore\n",
      "\n",
      "\n",
      "Attaching package: ‘mosaicCore’\n",
      "\n",
      "\n",
      "The following objects are masked from ‘package:dplyr’:\n",
      "\n",
      "    count, tally\n",
      "\n",
      "\n",
      "\n",
      "Attaching package: ‘mosaicCalc’\n",
      "\n",
      "\n",
      "The following object is masked from ‘package:stats’:\n",
      "\n",
      "    D\n",
      "\n",
      "\n",
      "Loading required package: rJython\n",
      "\n",
      "Loading required package: rJava\n",
      "\n"
     ]
    }
   ],
   "source": [
    "library(Deriv)\n",
    "library(mosaic)\n",
    "library(mosaicCalc)\n",
    "library(rSymPy)"
   ]
  },
  {
   "cell_type": "code",
   "execution_count": 4,
   "metadata": {},
   "outputs": [
    {
     "name": "stdout",
     "output_type": "stream",
     "text": [
      "\n",
      "The downloaded binary packages are in\n",
      "\t/var/folders/qm/b13ytkc15ks2kdxtvs4gcgcc0000gn/T//Rtmpw7HvVh/downloaded_packages\n"
     ]
    }
   ],
   "source": [
    "install.packages(\"mosaicCalc\")"
   ]
  },
  {
   "cell_type": "code",
   "execution_count": null,
   "metadata": {},
   "outputs": [],
   "source": []
  }
 ],
 "metadata": {
  "kernelspec": {
   "display_name": "R",
   "language": "R",
   "name": "ir"
  },
  "language_info": {
   "codemirror_mode": "r",
   "file_extension": ".r",
   "mimetype": "text/x-r-source",
   "name": "R",
   "pygments_lexer": "r",
   "version": "4.0.3"
  }
 },
 "nbformat": 4,
 "nbformat_minor": 4
}
