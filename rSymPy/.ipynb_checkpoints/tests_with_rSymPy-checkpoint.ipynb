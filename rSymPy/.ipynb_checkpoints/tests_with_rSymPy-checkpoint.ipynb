{
 "cells": [
  {
   "cell_type": "markdown",
   "metadata": {},
   "source": [
    "# Tests with `rSymPy`"
   ]
  },
  {
   "cell_type": "code",
   "execution_count": null,
   "metadata": {},
   "outputs": [
    {
     "name": "stderr",
     "output_type": "stream",
     "text": [
      "Loading required package: rJython\n",
      "\n",
      "Loading required package: rJava\n",
      "\n"
     ]
    }
   ],
   "source": [
    "# https://rdrr.io/cran/rSymPy/\n",
    "\n",
    "library(rSymPy)\n",
    "\n",
    "## Not run: \n",
    "# These examples are mostly from: http://wiki.sympy.org/wiki/Tutorial\n",
    "\n",
    "# create a SymPy variable called x\n",
    "sympy(\"var('x')\")\n",
    "sympy(\"y = x*x\")\n",
    "sympy(\"y\")\n",
    "\n",
    "sympy(\"limit(1/x, x, oo)\")\n",
    "\n",
    "# the next line fails under jython even without R\n",
    "# and seems to corrupt the rest of the session\n",
    "# sympy(\"(1/cos(x)).series(x, 0, 10)\")\n",
    "\n",
    "sympy(\"diff(sin(2*x), x, 1)\")\n",
    "sympy(\"diff(sin(2*x), x, 2)\")\n",
    "\n",
    "sympy(\"integrate(exp(-x), (x, 0, oo))\")\n",
    "\n",
    "sympy(\"xr = Symbol('xr', real=True)\")\n",
    "sympy(\"exp(I*xr).expand(complex=True)\")\n",
    "\n",
    "# Matrices are stored row by row (unlike R matrices)\n",
    "cat(sympy(\"A = Matrix([[1,x], [y,1]])\"), \"\\n\")\n",
    "cat(sympy(\"A**2\"), \"\\n\")\n",
    "\n",
    "\n",
    "\n",
    "## End(Not run)"
   ]
  }
 ],
 "metadata": {
  "kernelspec": {
   "display_name": "R",
   "language": "R",
   "name": "ir"
  },
  "language_info": {
   "codemirror_mode": "r",
   "file_extension": ".r",
   "mimetype": "text/x-r-source",
   "name": "R",
   "pygments_lexer": "r",
   "version": "4.0.3"
  }
 },
 "nbformat": 4,
 "nbformat_minor": 4
}
