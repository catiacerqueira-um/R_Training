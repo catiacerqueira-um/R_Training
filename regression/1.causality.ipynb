{
 "cells": [
  {
   "cell_type": "code",
   "execution_count": 1,
   "metadata": {},
   "outputs": [
    {
     "name": "stderr",
     "output_type": "stream",
     "text": [
      "-- \u001b[1mAttaching packages\u001b[22m --------------------------------------- tidyverse 1.3.0 --\n",
      "\n",
      "\u001b[32mv\u001b[39m \u001b[34mggplot2\u001b[39m 3.3.2     \u001b[32mv\u001b[39m \u001b[34mpurrr  \u001b[39m 0.3.4\n",
      "\u001b[32mv\u001b[39m \u001b[34mtibble \u001b[39m 3.0.3     \u001b[32mv\u001b[39m \u001b[34mdplyr  \u001b[39m 1.0.2\n",
      "\u001b[32mv\u001b[39m \u001b[34mtidyr  \u001b[39m 1.1.0     \u001b[32mv\u001b[39m \u001b[34mstringr\u001b[39m 1.4.0\n",
      "\u001b[32mv\u001b[39m \u001b[34mreadr  \u001b[39m 1.3.1     \u001b[32mv\u001b[39m \u001b[34mforcats\u001b[39m 0.5.0\n",
      "\n",
      "-- \u001b[1mConflicts\u001b[22m ------------------------------------------ tidyverse_conflicts() --\n",
      "\u001b[31mx\u001b[39m \u001b[34mdplyr\u001b[39m::\u001b[32mfilter()\u001b[39m masks \u001b[34mstats\u001b[39m::filter()\n",
      "\u001b[31mx\u001b[39m \u001b[34mdplyr\u001b[39m::\u001b[32mlag()\u001b[39m    masks \u001b[34mstats\u001b[39m::lag()\n",
      "\n",
      "\n",
      "Please cite as: \n",
      "\n",
      "\n",
      " Hlavac, Marek (2018). stargazer: Well-Formatted Regression and Summary Statistics Tables.\n",
      "\n",
      " R package version 5.2.2. https://CRAN.R-project.org/package=stargazer \n",
      "\n",
      "\n",
      "\n",
      "Attaching package: 'kableExtra'\n",
      "\n",
      "\n",
      "The following object is masked from 'package:dplyr':\n",
      "\n",
      "    group_rows\n",
      "\n",
      "\n",
      "Loading required package: mice\n",
      "\n",
      "\n",
      "Attaching package: 'mice'\n",
      "\n",
      "\n",
      "The following objects are masked from 'package:base':\n",
      "\n",
      "    cbind, rbind\n",
      "\n",
      "\n",
      "Registered S3 method overwritten by 'quantmod':\n",
      "  method            from\n",
      "  as.zoo.data.frame zoo \n",
      "\n",
      "\n",
      "Attaching package: 'dlookr'\n",
      "\n",
      "\n",
      "The following object is masked from 'package:base':\n",
      "\n",
      "    transform\n",
      "\n",
      "\n",
      "Registered S3 method overwritten by 'GGally':\n",
      "  method from   \n",
      "  +.gg   ggplot2\n",
      "\n",
      "\n",
      "Attaching package: 'MASS'\n",
      "\n",
      "\n",
      "The following object is masked from 'package:dplyr':\n",
      "\n",
      "    select\n",
      "\n",
      "\n",
      "Loading required package: zoo\n",
      "\n",
      "\n",
      "Attaching package: 'zoo'\n",
      "\n",
      "\n",
      "The following objects are masked from 'package:base':\n",
      "\n",
      "    as.Date, as.Date.numeric\n",
      "\n",
      "\n",
      "Loading required package: carData\n",
      "\n",
      "\n",
      "Attaching package: 'car'\n",
      "\n",
      "\n",
      "The following object is masked from 'package:dplyr':\n",
      "\n",
      "    recode\n",
      "\n",
      "\n",
      "The following object is masked from 'package:purrr':\n",
      "\n",
      "    some\n",
      "\n",
      "\n"
     ]
    }
   ],
   "source": [
    "# Applied Data Analysis School: October/november 2020\n",
    "# 6. REGRESSION ANALYSIS AND CAUSALITY WITH R | By: JoÃ£o Cerejeira | 10 & 12 November\n",
    "# https://www.gades-solutions.com/project/data-analysis-school/\n",
    "\n",
    "# setwd(\"C:\\\\Users\\\\mangelo.EEG\\\\Documents\\\\GitHub\\\\R_Training\\\\regression\")\n",
    "\n",
    "rm(list = ls())\n",
    "\n",
    "# LOG FILE\n",
    "\n",
    "# sink(\"Regression.txt\")\n",
    "\n",
    "# LIBRARIES\n",
    "\n",
    "library(tidyverse)\n",
    "library(ggplot2)\n",
    "library(haven)\n",
    "library(stargazer)\n",
    "library(kableExtra)\n",
    "library(dplyr)\n",
    "library(dlookr)\n",
    "library(visdat)\n",
    "library(naniar)\n",
    "library(ExPanDaR)\n",
    "library(SmartEDA)\n",
    "library(MASS)\n",
    "library(robustbase)\n",
    "library(lmtest)\n",
    "library(sandwich)\n",
    "library(car)\n",
    "library(broom)\n"
   ]
  },
  {
   "cell_type": "code",
   "execution_count": 3,
   "metadata": {},
   "outputs": [
    {
     "data": {
      "text/html": [
       "<style>\n",
       ".list-inline {list-style: none; margin:0; padding: 0}\n",
       ".list-inline>li {display: inline-block}\n",
       ".list-inline>li:not(:last-child)::after {content: \"\\00b7\"; padding: 0 .5ex}\n",
       "</style>\n",
       "<ol class=list-inline><li>'countrycode'</li><li>'logGDPpc2000'</li><li>'logGDPpc2015'</li><li>'growthGDPpc'</li><li>'imalaria2000'</li><li>'imalaria2015'</li><li>'change_malar'</li><li>'educ_sec'</li><li>'life2000'</li><li>'trade2000'</li><li>'gov2000'</li><li>'invest_growth'</li></ol>\n"
      ],
      "text/latex": [
       "\\begin{enumerate*}\n",
       "\\item 'countrycode'\n",
       "\\item 'logGDPpc2000'\n",
       "\\item 'logGDPpc2015'\n",
       "\\item 'growthGDPpc'\n",
       "\\item 'imalaria2000'\n",
       "\\item 'imalaria2015'\n",
       "\\item 'change\\_malar'\n",
       "\\item 'educ\\_sec'\n",
       "\\item 'life2000'\n",
       "\\item 'trade2000'\n",
       "\\item 'gov2000'\n",
       "\\item 'invest\\_growth'\n",
       "\\end{enumerate*}\n"
      ],
      "text/markdown": [
       "1. 'countrycode'\n",
       "2. 'logGDPpc2000'\n",
       "3. 'logGDPpc2015'\n",
       "4. 'growthGDPpc'\n",
       "5. 'imalaria2000'\n",
       "6. 'imalaria2015'\n",
       "7. 'change_malar'\n",
       "8. 'educ_sec'\n",
       "9. 'life2000'\n",
       "10. 'trade2000'\n",
       "11. 'gov2000'\n",
       "12. 'invest_growth'\n",
       "\n",
       "\n"
      ],
      "text/plain": [
       " [1] \"countrycode\"   \"logGDPpc2000\"  \"logGDPpc2015\"  \"growthGDPpc\"  \n",
       " [5] \"imalaria2000\"  \"imalaria2015\"  \"change_malar\"  \"educ_sec\"     \n",
       " [9] \"life2000\"      \"trade2000\"     \"gov2000\"       \"invest_growth\""
      ]
     },
     "metadata": {},
     "output_type": "display_data"
    },
    {
     "data": {
      "text/html": [
       "<table>\n",
       "<caption>A data.frame: 6 × 12</caption>\n",
       "<thead>\n",
       "\t<tr><th></th><th scope=col>countrycode</th><th scope=col>logGDPpc2000</th><th scope=col>logGDPpc2015</th><th scope=col>growthGDPpc</th><th scope=col>imalaria2000</th><th scope=col>imalaria2015</th><th scope=col>change_malar</th><th scope=col>educ_sec</th><th scope=col>life2000</th><th scope=col>trade2000</th><th scope=col>gov2000</th><th scope=col>invest_growth</th></tr>\n",
       "\t<tr><th></th><th scope=col>&lt;chr&gt;</th><th scope=col>&lt;dbl&gt;</th><th scope=col>&lt;dbl&gt;</th><th scope=col>&lt;dbl&gt;</th><th scope=col>&lt;dbl&gt;</th><th scope=col>&lt;dbl&gt;</th><th scope=col>&lt;dbl&gt;</th><th scope=col>&lt;dbl&gt;</th><th scope=col>&lt;dbl&gt;</th><th scope=col>&lt;dbl&gt;</th><th scope=col>&lt;dbl&gt;</th><th scope=col>&lt;dbl&gt;</th></tr>\n",
       "</thead>\n",
       "<tbody>\n",
       "\t<tr><th scope=row>1</th><td>ABW</td><td>10.254756</td><td>10.104492</td><td>-1.0017586</td><td>    NA</td><td>    NA</td><td>    NA</td><td>55.99243</td><td>73.787</td><td>145.07318</td><td>        NA</td><td>      NA</td></tr>\n",
       "\t<tr><th scope=row>2</th><td>AFG</td><td>       NA</td><td> 6.352950</td><td>        NA</td><td> 92.64</td><td> 14.22</td><td>-78.42</td><td>      NA</td><td>55.841</td><td>       NA</td><td>-2.2316511</td><td>      NA</td></tr>\n",
       "\t<tr><th scope=row>3</th><td>AGO</td><td> 7.694224</td><td> 8.229063</td><td> 3.5655911</td><td>222.39</td><td>154.48</td><td>-67.91</td><td>      NA</td><td>46.522</td><td>152.54710</td><td>-1.4623100</td><td>11.79648</td></tr>\n",
       "\t<tr><th scope=row>4</th><td>ALB</td><td> 7.716297</td><td> 8.417237</td><td> 4.6729374</td><td>    NA</td><td>    NA</td><td>    NA</td><td>75.73405</td><td>73.955</td><td> 63.45407</td><td>-0.7551177</td><td>      NA</td></tr>\n",
       "\t<tr><th scope=row>5</th><td>AND</td><td>10.616475</td><td>10.639874</td><td> 0.1559957</td><td>    NA</td><td>    NA</td><td>    NA</td><td>45.88941</td><td>    NA</td><td>       NA</td><td> 1.4462841</td><td>      NA</td></tr>\n",
       "\t<tr><th scope=row>6</th><td>ARE</td><td>11.054874</td><td>10.602809</td><td>-3.0137699</td><td>    NA</td><td>    NA</td><td>    NA</td><td>62.70005</td><td>74.327</td><td>       NA</td><td> 0.7914957</td><td>      NA</td></tr>\n",
       "</tbody>\n",
       "</table>\n"
      ],
      "text/latex": [
       "A data.frame: 6 × 12\n",
       "\\begin{tabular}{r|llllllllllll}\n",
       "  & countrycode & logGDPpc2000 & logGDPpc2015 & growthGDPpc & imalaria2000 & imalaria2015 & change\\_malar & educ\\_sec & life2000 & trade2000 & gov2000 & invest\\_growth\\\\\n",
       "  & <chr> & <dbl> & <dbl> & <dbl> & <dbl> & <dbl> & <dbl> & <dbl> & <dbl> & <dbl> & <dbl> & <dbl>\\\\\n",
       "\\hline\n",
       "\t1 & ABW & 10.254756 & 10.104492 & -1.0017586 &     NA &     NA &     NA & 55.99243 & 73.787 & 145.07318 &         NA &       NA\\\\\n",
       "\t2 & AFG &        NA &  6.352950 &         NA &  92.64 &  14.22 & -78.42 &       NA & 55.841 &        NA & -2.2316511 &       NA\\\\\n",
       "\t3 & AGO &  7.694224 &  8.229063 &  3.5655911 & 222.39 & 154.48 & -67.91 &       NA & 46.522 & 152.54710 & -1.4623100 & 11.79648\\\\\n",
       "\t4 & ALB &  7.716297 &  8.417237 &  4.6729374 &     NA &     NA &     NA & 75.73405 & 73.955 &  63.45407 & -0.7551177 &       NA\\\\\n",
       "\t5 & AND & 10.616475 & 10.639874 &  0.1559957 &     NA &     NA &     NA & 45.88941 &     NA &        NA &  1.4462841 &       NA\\\\\n",
       "\t6 & ARE & 11.054874 & 10.602809 & -3.0137699 &     NA &     NA &     NA & 62.70005 & 74.327 &        NA &  0.7914957 &       NA\\\\\n",
       "\\end{tabular}\n"
      ],
      "text/markdown": [
       "\n",
       "A data.frame: 6 × 12\n",
       "\n",
       "| <!--/--> | countrycode &lt;chr&gt; | logGDPpc2000 &lt;dbl&gt; | logGDPpc2015 &lt;dbl&gt; | growthGDPpc &lt;dbl&gt; | imalaria2000 &lt;dbl&gt; | imalaria2015 &lt;dbl&gt; | change_malar &lt;dbl&gt; | educ_sec &lt;dbl&gt; | life2000 &lt;dbl&gt; | trade2000 &lt;dbl&gt; | gov2000 &lt;dbl&gt; | invest_growth &lt;dbl&gt; |\n",
       "|---|---|---|---|---|---|---|---|---|---|---|---|---|\n",
       "| 1 | ABW | 10.254756 | 10.104492 | -1.0017586 |     NA |     NA |     NA | 55.99243 | 73.787 | 145.07318 |         NA |       NA |\n",
       "| 2 | AFG |        NA |  6.352950 |         NA |  92.64 |  14.22 | -78.42 |       NA | 55.841 |        NA | -2.2316511 |       NA |\n",
       "| 3 | AGO |  7.694224 |  8.229063 |  3.5655911 | 222.39 | 154.48 | -67.91 |       NA | 46.522 | 152.54710 | -1.4623100 | 11.79648 |\n",
       "| 4 | ALB |  7.716297 |  8.417237 |  4.6729374 |     NA |     NA |     NA | 75.73405 | 73.955 |  63.45407 | -0.7551177 |       NA |\n",
       "| 5 | AND | 10.616475 | 10.639874 |  0.1559957 |     NA |     NA |     NA | 45.88941 |     NA |        NA |  1.4462841 |       NA |\n",
       "| 6 | ARE | 11.054874 | 10.602809 | -3.0137699 |     NA |     NA |     NA | 62.70005 | 74.327 |        NA |  0.7914957 |       NA |\n",
       "\n"
      ],
      "text/plain": [
       "  countrycode logGDPpc2000 logGDPpc2015 growthGDPpc imalaria2000 imalaria2015\n",
       "1 ABW         10.254756    10.104492    -1.0017586      NA           NA      \n",
       "2 AFG                NA     6.352950            NA   92.64        14.22      \n",
       "3 AGO          7.694224     8.229063     3.5655911  222.39       154.48      \n",
       "4 ALB          7.716297     8.417237     4.6729374      NA           NA      \n",
       "5 AND         10.616475    10.639874     0.1559957      NA           NA      \n",
       "6 ARE         11.054874    10.602809    -3.0137699      NA           NA      \n",
       "  change_malar educ_sec life2000 trade2000 gov2000    invest_growth\n",
       "1     NA       55.99243 73.787   145.07318         NA       NA     \n",
       "2 -78.42             NA 55.841          NA -2.2316511       NA     \n",
       "3 -67.91             NA 46.522   152.54710 -1.4623100 11.79648     \n",
       "4     NA       75.73405 73.955    63.45407 -0.7551177       NA     \n",
       "5     NA       45.88941     NA          NA  1.4462841       NA     \n",
       "6     NA       62.70005 74.327          NA  0.7914957       NA     "
      ]
     },
     "metadata": {},
     "output_type": "display_data"
    },
    {
     "name": "stdout",
     "output_type": "stream",
     "text": [
      "'data.frame':\t218 obs. of  12 variables:\n",
      " $ countrycode  : chr  \"ABW\" \"AFG\" \"AGO\" \"ALB\" ...\n",
      "  ..- attr(*, \"label\")= chr \"Country Code\"\n",
      "  ..- attr(*, \"format.stata\")= chr \"%9s\"\n",
      " $ logGDPpc2000 : num  10.25 NA 7.69 7.72 10.62 ...\n",
      "  ..- attr(*, \"label\")= chr \"Log GDPpc 2000\"\n",
      "  ..- attr(*, \"format.stata\")= chr \"%9.0g\"\n",
      " $ logGDPpc2015 : num  10.1 6.35 8.23 8.42 10.64 ...\n",
      "  ..- attr(*, \"label\")= chr \"Log GDPpc 2015\"\n",
      "  ..- attr(*, \"format.stata\")= chr \"%9.0g\"\n",
      " $ growthGDPpc  : num  -1.002 NA 3.566 4.673 0.156 ...\n",
      "  ..- attr(*, \"label\")= chr \"Av. GDPpc growth 2015-2000\"\n",
      "  ..- attr(*, \"format.stata\")= chr \"%9.0g\"\n",
      " $ imalaria2000 : num  NA 92.6 222.4 NA NA ...\n",
      "  ..- attr(*, \"label\")= chr \"Malaria incidence rate in 2000\"\n",
      "  ..- attr(*, \"format.stata\")= chr \"%9.0g\"\n",
      " $ imalaria2015 : num  NA 14.2 154.5 NA NA ...\n",
      "  ..- attr(*, \"label\")= chr \"Malaria incidence rate in 2015\"\n",
      "  ..- attr(*, \"format.stata\")= chr \"%9.0g\"\n",
      " $ change_malar : num  NA -78.4 -67.9 NA NA ...\n",
      "  ..- attr(*, \"label\")= chr \"Change in incidence rate 2015-2000\"\n",
      "  ..- attr(*, \"format.stata\")= chr \"%9.0g\"\n",
      " $ educ_sec     : num  56 NA NA 75.7 45.9 ...\n",
      "  ..- attr(*, \"label\")= chr \"% Population 25+ with lower sec. school\"\n",
      "  ..- attr(*, \"format.stata\")= chr \"%9.0g\"\n",
      " $ life2000     : num  73.8 55.8 46.5 74 NA ...\n",
      "  ..- attr(*, \"label\")= chr \"Life expectancy 2000\"\n",
      "  ..- attr(*, \"format.stata\")= chr \"%9.0g\"\n",
      " $ trade2000    : num  145.1 NA 152.5 63.5 NA ...\n",
      "  ..- attr(*, \"label\")= chr \"Trade openess in % GDP 2000\"\n",
      "  ..- attr(*, \"format.stata\")= chr \"%9.0g\"\n",
      " $ gov2000      : num  NA -2.232 -1.462 -0.755 1.446 ...\n",
      "  ..- attr(*, \"label\")= chr \"Government Effectiveness Índex 2000\"\n",
      "  ..- attr(*, \"format.stata\")= chr \"%9.0g\"\n",
      " $ invest_growth: num  NA NA 11.8 NA NA ...\n",
      "  ..- attr(*, \"label\")= chr \"Mean growth gross capital formation\"\n",
      "  ..- attr(*, \"format.stata\")= chr \"%9.0g\"\n",
      " num [1:218] 10.25 NA 7.69 7.72 10.62 ...\n",
      " - attr(*, \"label\")= chr \"Log GDPpc 2000\"\n",
      " - attr(*, \"format.stata\")= chr \"%9.0g\"\n"
     ]
    },
    {
     "data": {
      "text/html": [
       "<table>\n",
       "<caption>A data.frame: 13 × 2</caption>\n",
       "<thead>\n",
       "\t<tr><th scope=col>Descriptions</th><th scope=col>Value</th></tr>\n",
       "\t<tr><th scope=col>&lt;chr&gt;</th><th scope=col>&lt;chr&gt;</th></tr>\n",
       "</thead>\n",
       "<tbody>\n",
       "\t<tr><td>Sample size (nrow)                                 </td><td>218       </td></tr>\n",
       "\t<tr><td>No. of variables (ncol)                            </td><td>12        </td></tr>\n",
       "\t<tr><td>No. of numeric/interger variables                  </td><td>11        </td></tr>\n",
       "\t<tr><td>No. of factor variables                            </td><td>0         </td></tr>\n",
       "\t<tr><td>No. of text variables                              </td><td>1         </td></tr>\n",
       "\t<tr><td>No. of logical variables                           </td><td>0         </td></tr>\n",
       "\t<tr><td>No. of identifier variables                        </td><td>1         </td></tr>\n",
       "\t<tr><td>No. of date variables                              </td><td>0         </td></tr>\n",
       "\t<tr><td>No. of zero variance variables (uniform)           </td><td>0         </td></tr>\n",
       "\t<tr><td>%. of variables having complete cases              </td><td>8.33% (1) </td></tr>\n",
       "\t<tr><td><span style=white-space:pre-wrap>%. of variables having &gt;0% and &lt;50% missing cases  </span></td><td>58.33% (7)</td></tr>\n",
       "\t<tr><td>%. of variables having &gt;=50% and &lt;90% missing cases</td><td>33.33% (4)</td></tr>\n",
       "\t<tr><td><span style=white-space:pre-wrap>%. of variables having &gt;=90% missing cases         </span></td><td><span style=white-space:pre-wrap>0% (0)    </span></td></tr>\n",
       "</tbody>\n",
       "</table>\n"
      ],
      "text/latex": [
       "A data.frame: 13 × 2\n",
       "\\begin{tabular}{ll}\n",
       " Descriptions & Value\\\\\n",
       " <chr> & <chr>\\\\\n",
       "\\hline\n",
       "\t Sample size (nrow)                                  & 218       \\\\\n",
       "\t No. of variables (ncol)                             & 12        \\\\\n",
       "\t No. of numeric/interger variables                   & 11        \\\\\n",
       "\t No. of factor variables                             & 0         \\\\\n",
       "\t No. of text variables                               & 1         \\\\\n",
       "\t No. of logical variables                            & 0         \\\\\n",
       "\t No. of identifier variables                         & 1         \\\\\n",
       "\t No. of date variables                               & 0         \\\\\n",
       "\t No. of zero variance variables (uniform)            & 0         \\\\\n",
       "\t \\%. of variables having complete cases               & 8.33\\% (1) \\\\\n",
       "\t \\%. of variables having >0\\% and <50\\% missing cases   & 58.33\\% (7)\\\\\n",
       "\t \\%. of variables having >=50\\% and <90\\% missing cases & 33.33\\% (4)\\\\\n",
       "\t \\%. of variables having >=90\\% missing cases          & 0\\% (0)    \\\\\n",
       "\\end{tabular}\n"
      ],
      "text/markdown": [
       "\n",
       "A data.frame: 13 × 2\n",
       "\n",
       "| Descriptions &lt;chr&gt; | Value &lt;chr&gt; |\n",
       "|---|---|\n",
       "| Sample size (nrow)                                  | 218        |\n",
       "| No. of variables (ncol)                             | 12         |\n",
       "| No. of numeric/interger variables                   | 11         |\n",
       "| No. of factor variables                             | 0          |\n",
       "| No. of text variables                               | 1          |\n",
       "| No. of logical variables                            | 0          |\n",
       "| No. of identifier variables                         | 1          |\n",
       "| No. of date variables                               | 0          |\n",
       "| No. of zero variance variables (uniform)            | 0          |\n",
       "| %. of variables having complete cases               | 8.33% (1)  |\n",
       "| %. of variables having &gt;0% and &lt;50% missing cases   | 58.33% (7) |\n",
       "| %. of variables having &gt;=50% and &lt;90% missing cases | 33.33% (4) |\n",
       "| %. of variables having &gt;=90% missing cases          | 0% (0)     |\n",
       "\n"
      ],
      "text/plain": [
       "   Descriptions                                        Value     \n",
       "1  Sample size (nrow)                                  218       \n",
       "2  No. of variables (ncol)                             12        \n",
       "3  No. of numeric/interger variables                   11        \n",
       "4  No. of factor variables                             0         \n",
       "5  No. of text variables                               1         \n",
       "6  No. of logical variables                            0         \n",
       "7  No. of identifier variables                         1         \n",
       "8  No. of date variables                               0         \n",
       "9  No. of zero variance variables (uniform)            0         \n",
       "10 %. of variables having complete cases               8.33% (1) \n",
       "11 %. of variables having >0% and <50% missing cases   58.33% (7)\n",
       "12 %. of variables having >=50% and <90% missing cases 33.33% (4)\n",
       "13 %. of variables having >=90% missing cases          0% (0)    "
      ]
     },
     "metadata": {},
     "output_type": "display_data"
    },
    {
     "data": {
      "text/html": [
       "<table>\n",
       "<caption>A data.frame: 12 × 5</caption>\n",
       "<thead>\n",
       "\t<tr><th scope=col>Index</th><th scope=col>Variable_Name</th><th scope=col>Variable_Type</th><th scope=col>Per_of_Missing</th><th scope=col>No_of_distinct_values</th></tr>\n",
       "\t<tr><th scope=col>&lt;dbl&gt;</th><th scope=col>&lt;chr&gt;</th><th scope=col>&lt;chr&gt;</th><th scope=col>&lt;dbl&gt;</th><th scope=col>&lt;int&gt;</th></tr>\n",
       "</thead>\n",
       "<tbody>\n",
       "\t<tr><td> 1</td><td>countrycode  </td><td>character</td><td>0.00000</td><td>218</td></tr>\n",
       "\t<tr><td> 2</td><td>logGDPpc2000 </td><td>numeric  </td><td>0.11009</td><td>195</td></tr>\n",
       "\t<tr><td> 3</td><td>logGDPpc2015 </td><td>numeric  </td><td>0.08257</td><td>201</td></tr>\n",
       "\t<tr><td> 4</td><td>growthGDPpc  </td><td>numeric  </td><td>0.11927</td><td>193</td></tr>\n",
       "\t<tr><td> 5</td><td>imalaria2000 </td><td>numeric  </td><td>0.54587</td><td>100</td></tr>\n",
       "\t<tr><td> 6</td><td>imalaria2015 </td><td>numeric  </td><td>0.54587</td><td> 86</td></tr>\n",
       "\t<tr><td> 7</td><td>change_malar </td><td>numeric  </td><td>0.54587</td><td> 98</td></tr>\n",
       "\t<tr><td> 8</td><td>educ_sec     </td><td>numeric  </td><td>0.54587</td><td>100</td></tr>\n",
       "\t<tr><td> 9</td><td>life2000     </td><td>numeric  </td><td>0.07798</td><td>201</td></tr>\n",
       "\t<tr><td>10</td><td>trade2000    </td><td>numeric  </td><td>0.18349</td><td>179</td></tr>\n",
       "\t<tr><td>11</td><td>gov2000      </td><td>numeric  </td><td>0.11468</td><td>190</td></tr>\n",
       "\t<tr><td>12</td><td>invest_growth</td><td>numeric  </td><td>0.41743</td><td>128</td></tr>\n",
       "</tbody>\n",
       "</table>\n"
      ],
      "text/latex": [
       "A data.frame: 12 × 5\n",
       "\\begin{tabular}{lllll}\n",
       " Index & Variable\\_Name & Variable\\_Type & Per\\_of\\_Missing & No\\_of\\_distinct\\_values\\\\\n",
       " <dbl> & <chr> & <chr> & <dbl> & <int>\\\\\n",
       "\\hline\n",
       "\t  1 & countrycode   & character & 0.00000 & 218\\\\\n",
       "\t  2 & logGDPpc2000  & numeric   & 0.11009 & 195\\\\\n",
       "\t  3 & logGDPpc2015  & numeric   & 0.08257 & 201\\\\\n",
       "\t  4 & growthGDPpc   & numeric   & 0.11927 & 193\\\\\n",
       "\t  5 & imalaria2000  & numeric   & 0.54587 & 100\\\\\n",
       "\t  6 & imalaria2015  & numeric   & 0.54587 &  86\\\\\n",
       "\t  7 & change\\_malar  & numeric   & 0.54587 &  98\\\\\n",
       "\t  8 & educ\\_sec      & numeric   & 0.54587 & 100\\\\\n",
       "\t  9 & life2000      & numeric   & 0.07798 & 201\\\\\n",
       "\t 10 & trade2000     & numeric   & 0.18349 & 179\\\\\n",
       "\t 11 & gov2000       & numeric   & 0.11468 & 190\\\\\n",
       "\t 12 & invest\\_growth & numeric   & 0.41743 & 128\\\\\n",
       "\\end{tabular}\n"
      ],
      "text/markdown": [
       "\n",
       "A data.frame: 12 × 5\n",
       "\n",
       "| Index &lt;dbl&gt; | Variable_Name &lt;chr&gt; | Variable_Type &lt;chr&gt; | Per_of_Missing &lt;dbl&gt; | No_of_distinct_values &lt;int&gt; |\n",
       "|---|---|---|---|---|\n",
       "|  1 | countrycode   | character | 0.00000 | 218 |\n",
       "|  2 | logGDPpc2000  | numeric   | 0.11009 | 195 |\n",
       "|  3 | logGDPpc2015  | numeric   | 0.08257 | 201 |\n",
       "|  4 | growthGDPpc   | numeric   | 0.11927 | 193 |\n",
       "|  5 | imalaria2000  | numeric   | 0.54587 | 100 |\n",
       "|  6 | imalaria2015  | numeric   | 0.54587 |  86 |\n",
       "|  7 | change_malar  | numeric   | 0.54587 |  98 |\n",
       "|  8 | educ_sec      | numeric   | 0.54587 | 100 |\n",
       "|  9 | life2000      | numeric   | 0.07798 | 201 |\n",
       "| 10 | trade2000     | numeric   | 0.18349 | 179 |\n",
       "| 11 | gov2000       | numeric   | 0.11468 | 190 |\n",
       "| 12 | invest_growth | numeric   | 0.41743 | 128 |\n",
       "\n"
      ],
      "text/plain": [
       "   Index Variable_Name Variable_Type Per_of_Missing No_of_distinct_values\n",
       "1   1    countrycode   character     0.00000        218                  \n",
       "2   2    logGDPpc2000  numeric       0.11009        195                  \n",
       "3   3    logGDPpc2015  numeric       0.08257        201                  \n",
       "4   4    growthGDPpc   numeric       0.11927        193                  \n",
       "5   5    imalaria2000  numeric       0.54587        100                  \n",
       "6   6    imalaria2015  numeric       0.54587         86                  \n",
       "7   7    change_malar  numeric       0.54587         98                  \n",
       "8   8    educ_sec      numeric       0.54587        100                  \n",
       "9   9    life2000      numeric       0.07798        201                  \n",
       "10 10    trade2000     numeric       0.18349        179                  \n",
       "11 11    gov2000       numeric       0.11468        190                  \n",
       "12 12    invest_growth numeric       0.41743        128                  "
      ]
     },
     "metadata": {},
     "output_type": "display_data"
    }
   ],
   "source": [
    "# DATA\n",
    "\n",
    "world_data <- as.data.frame(read_dta(\"world_data.dta\"))\n",
    "\n",
    "names(world_data)\n",
    "head(world_data)\n",
    "# View(world_data)\n",
    "str(world_data)\n",
    "\n",
    "# dplyr::glimpse(world_data)\n",
    "dplyr::glimpse(world_data$logGDPpc2000)\n",
    "\n",
    "ExpData(world_data,type=1)\n",
    "ExpData(world_data,type=2)\n"
   ]
  },
  {
   "cell_type": "code",
   "execution_count": 4,
   "metadata": {},
   "outputs": [
    {
     "data": {
      "text/plain": [
       "   Min. 1st Qu.  Median    Mean 3rd Qu.    Max.    NA's \n",
       "  5.986  44.351  61.702  61.396  86.109  99.866     119 "
      ]
     },
     "metadata": {},
     "output_type": "display_data"
    },
    {
     "data": {
      "text/html": [
       "<table>\n",
       "<caption>A SmartEDA: 11 × 26</caption>\n",
       "<thead>\n",
       "\t<tr><th></th><th scope=col>Vname</th><th scope=col>Group</th><th scope=col>TN</th><th scope=col>nNeg</th><th scope=col>nZero</th><th scope=col>nPos</th><th scope=col>NegInf</th><th scope=col>PosInf</th><th scope=col>NA_Value</th><th scope=col>Per_of_Missing</th><th scope=col>...</th><th scope=col>CV</th><th scope=col>IQR</th><th scope=col>Skewness</th><th scope=col>Kurtosis</th><th scope=col>10%</th><th scope=col>20%</th><th scope=col>50%</th><th scope=col>LB.25%</th><th scope=col>UB.75%</th><th scope=col>nOutliers</th></tr>\n",
       "\t<tr><th></th><th scope=col>&lt;chr&gt;</th><th scope=col>&lt;chr&gt;</th><th scope=col>&lt;dbl&gt;</th><th scope=col>&lt;dbl&gt;</th><th scope=col>&lt;dbl&gt;</th><th scope=col>&lt;dbl&gt;</th><th scope=col>&lt;dbl&gt;</th><th scope=col>&lt;dbl&gt;</th><th scope=col>&lt;dbl&gt;</th><th scope=col>&lt;dbl&gt;</th><th scope=col>...</th><th scope=col>&lt;dbl&gt;</th><th scope=col>&lt;dbl&gt;</th><th scope=col>&lt;dbl&gt;</th><th scope=col>&lt;dbl&gt;</th><th scope=col>&lt;dbl&gt;</th><th scope=col>&lt;dbl&gt;</th><th scope=col>&lt;dbl&gt;</th><th scope=col>&lt;dbl&gt;</th><th scope=col>&lt;dbl&gt;</th><th scope=col>&lt;dbl&gt;</th></tr>\n",
       "</thead>\n",
       "<tbody>\n",
       "\t<tr><th scope=row>6</th><td>change_malar </td><td>All</td><td>218</td><td> 94</td><td> 0</td><td>  5</td><td>0</td><td>0</td><td>119</td><td>54.59</td><td>...</td><td> -1.84</td><td>102.13</td><td>-2.91</td><td>11.16</td><td>-189.74</td><td>-133.96</td><td>-16.77</td><td>-258.63</td><td>149.87</td><td>7</td></tr>\n",
       "\t<tr><th scope=row>7</th><td>educ_sec     </td><td>All</td><td>218</td><td>  0</td><td> 0</td><td> 99</td><td>0</td><td>0</td><td>119</td><td>54.59</td><td>...</td><td>  0.42</td><td> 41.76</td><td>-0.25</td><td>-0.98</td><td>  26.23</td><td>  39.27</td><td> 61.70</td><td> -18.28</td><td>148.75</td><td>0</td></tr>\n",
       "\t<tr><th scope=row>10</th><td>gov2000      </td><td>All</td><td>218</td><td>110</td><td> 0</td><td> 83</td><td>0</td><td>0</td><td> 25</td><td>11.47</td><td>...</td><td>-98.73</td><td>  1.36</td><td> 0.43</td><td>-0.44</td><td>  -1.16</td><td>  -0.82</td><td> -0.19</td><td>  -2.78</td><td>  2.67</td><td>0</td></tr>\n",
       "\t<tr><th scope=row>3</th><td>growthGDPpc  </td><td>All</td><td>218</td><td> 23</td><td> 0</td><td>169</td><td>0</td><td>0</td><td> 26</td><td>11.93</td><td>...</td><td>  0.93</td><td>  2.73</td><td> 0.47</td><td> 0.41</td><td>  -0.13</td><td>   0.59</td><td>  1.99</td><td>  -3.24</td><td>  7.67</td><td>3</td></tr>\n",
       "\t<tr><th scope=row>4</th><td>imalaria2000 </td><td>All</td><td>218</td><td>  0</td><td> 0</td><td> 99</td><td>0</td><td>0</td><td>119</td><td>54.59</td><td>...</td><td>  1.20</td><td>297.89</td><td> 1.06</td><td> 0.13</td><td>   2.59</td><td>   5.41</td><td> 57.31</td><td>-438.72</td><td>752.82</td><td>1</td></tr>\n",
       "\t<tr><th scope=row>5</th><td>imalaria2015 </td><td>All</td><td>218</td><td>  0</td><td>14</td><td> 85</td><td>0</td><td>0</td><td>119</td><td>54.59</td><td>...</td><td>  1.46</td><td>153.01</td><td> 1.29</td><td> 0.22</td><td>   0.00</td><td>   0.14</td><td>  9.97</td><td>-229.31</td><td>382.73</td><td>3</td></tr>\n",
       "\t<tr><th scope=row>11</th><td>invest_growth</td><td>All</td><td>218</td><td> 12</td><td> 0</td><td>115</td><td>0</td><td>0</td><td> 91</td><td>41.74</td><td>...</td><td>  0.86</td><td>  5.45</td><td> 1.00</td><td> 2.82</td><td>   0.27</td><td>   1.88</td><td>  4.68</td><td>  -6.04</td><td> 15.76</td><td>2</td></tr>\n",
       "\t<tr><th scope=row>8</th><td>life2000     </td><td>All</td><td>218</td><td>  0</td><td> 0</td><td>201</td><td>0</td><td>0</td><td> 17</td><td> 7.80</td><td>...</td><td>  0.15</td><td> 14.34</td><td>-0.77</td><td>-0.50</td><td>  50.49</td><td>  57.13</td><td> 70.18</td><td>  38.55</td><td> 95.91</td><td>0</td></tr>\n",
       "\t<tr><th scope=row>1</th><td>logGDPpc2000 </td><td>All</td><td>218</td><td>  0</td><td> 0</td><td>194</td><td>0</td><td>0</td><td> 24</td><td>11.01</td><td>...</td><td>  0.19</td><td>  2.42</td><td> 0.14</td><td>-0.92</td><td>   6.28</td><td>   6.93</td><td>  8.22</td><td>   3.56</td><td> 13.25</td><td>0</td></tr>\n",
       "\t<tr><th scope=row>2</th><td>logGDPpc2015 </td><td>All</td><td>218</td><td>  0</td><td> 0</td><td>200</td><td>0</td><td>0</td><td> 18</td><td> 8.26</td><td>...</td><td>  0.17</td><td>  2.19</td><td>-0.03</td><td>-0.86</td><td>   6.62</td><td>   7.27</td><td>  8.74</td><td>   4.33</td><td> 13.07</td><td>0</td></tr>\n",
       "\t<tr><th scope=row>9</th><td>trade2000    </td><td>All</td><td>218</td><td>  0</td><td> 0</td><td>178</td><td>0</td><td>0</td><td> 40</td><td>18.35</td><td>...</td><td>  0.58</td><td> 52.25</td><td> 2.00</td><td> 6.93</td><td>  33.98</td><td>  48.71</td><td> 74.77</td><td> -25.73</td><td>183.29</td><td>6</td></tr>\n",
       "</tbody>\n",
       "</table>\n"
      ],
      "text/latex": [
       "A SmartEDA: 11 × 26\n",
       "\\begin{tabular}{r|lllllllllllllllllllll}\n",
       "  & Vname & Group & TN & nNeg & nZero & nPos & NegInf & PosInf & NA\\_Value & Per\\_of\\_Missing & ... & CV & IQR & Skewness & Kurtosis & 10\\% & 20\\% & 50\\% & LB.25\\% & UB.75\\% & nOutliers\\\\\n",
       "  & <chr> & <chr> & <dbl> & <dbl> & <dbl> & <dbl> & <dbl> & <dbl> & <dbl> & <dbl> & ... & <dbl> & <dbl> & <dbl> & <dbl> & <dbl> & <dbl> & <dbl> & <dbl> & <dbl> & <dbl>\\\\\n",
       "\\hline\n",
       "\t6 & change\\_malar  & All & 218 &  94 &  0 &   5 & 0 & 0 & 119 & 54.59 & ... &  -1.84 & 102.13 & -2.91 & 11.16 & -189.74 & -133.96 & -16.77 & -258.63 & 149.87 & 7\\\\\n",
       "\t7 & educ\\_sec      & All & 218 &   0 &  0 &  99 & 0 & 0 & 119 & 54.59 & ... &   0.42 &  41.76 & -0.25 & -0.98 &   26.23 &   39.27 &  61.70 &  -18.28 & 148.75 & 0\\\\\n",
       "\t10 & gov2000       & All & 218 & 110 &  0 &  83 & 0 & 0 &  25 & 11.47 & ... & -98.73 &   1.36 &  0.43 & -0.44 &   -1.16 &   -0.82 &  -0.19 &   -2.78 &   2.67 & 0\\\\\n",
       "\t3 & growthGDPpc   & All & 218 &  23 &  0 & 169 & 0 & 0 &  26 & 11.93 & ... &   0.93 &   2.73 &  0.47 &  0.41 &   -0.13 &    0.59 &   1.99 &   -3.24 &   7.67 & 3\\\\\n",
       "\t4 & imalaria2000  & All & 218 &   0 &  0 &  99 & 0 & 0 & 119 & 54.59 & ... &   1.20 & 297.89 &  1.06 &  0.13 &    2.59 &    5.41 &  57.31 & -438.72 & 752.82 & 1\\\\\n",
       "\t5 & imalaria2015  & All & 218 &   0 & 14 &  85 & 0 & 0 & 119 & 54.59 & ... &   1.46 & 153.01 &  1.29 &  0.22 &    0.00 &    0.14 &   9.97 & -229.31 & 382.73 & 3\\\\\n",
       "\t11 & invest\\_growth & All & 218 &  12 &  0 & 115 & 0 & 0 &  91 & 41.74 & ... &   0.86 &   5.45 &  1.00 &  2.82 &    0.27 &    1.88 &   4.68 &   -6.04 &  15.76 & 2\\\\\n",
       "\t8 & life2000      & All & 218 &   0 &  0 & 201 & 0 & 0 &  17 &  7.80 & ... &   0.15 &  14.34 & -0.77 & -0.50 &   50.49 &   57.13 &  70.18 &   38.55 &  95.91 & 0\\\\\n",
       "\t1 & logGDPpc2000  & All & 218 &   0 &  0 & 194 & 0 & 0 &  24 & 11.01 & ... &   0.19 &   2.42 &  0.14 & -0.92 &    6.28 &    6.93 &   8.22 &    3.56 &  13.25 & 0\\\\\n",
       "\t2 & logGDPpc2015  & All & 218 &   0 &  0 & 200 & 0 & 0 &  18 &  8.26 & ... &   0.17 &   2.19 & -0.03 & -0.86 &    6.62 &    7.27 &   8.74 &    4.33 &  13.07 & 0\\\\\n",
       "\t9 & trade2000     & All & 218 &   0 &  0 & 178 & 0 & 0 &  40 & 18.35 & ... &   0.58 &  52.25 &  2.00 &  6.93 &   33.98 &   48.71 &  74.77 &  -25.73 & 183.29 & 6\\\\\n",
       "\\end{tabular}\n"
      ],
      "text/markdown": [
       "\n",
       "A SmartEDA: 11 × 26\n",
       "\n",
       "| <!--/--> | Vname &lt;chr&gt; | Group &lt;chr&gt; | TN &lt;dbl&gt; | nNeg &lt;dbl&gt; | nZero &lt;dbl&gt; | nPos &lt;dbl&gt; | NegInf &lt;dbl&gt; | PosInf &lt;dbl&gt; | NA_Value &lt;dbl&gt; | Per_of_Missing &lt;dbl&gt; | ... ... | CV &lt;dbl&gt; | IQR &lt;dbl&gt; | Skewness &lt;dbl&gt; | Kurtosis &lt;dbl&gt; | 10% &lt;dbl&gt; | 20% &lt;dbl&gt; | 50% &lt;dbl&gt; | LB.25% &lt;dbl&gt; | UB.75% &lt;dbl&gt; | nOutliers &lt;dbl&gt; |\n",
       "|---|---|---|---|---|---|---|---|---|---|---|---|---|---|---|---|---|---|---|---|---|---|\n",
       "| 6 | change_malar  | All | 218 |  94 |  0 |   5 | 0 | 0 | 119 | 54.59 | ... |  -1.84 | 102.13 | -2.91 | 11.16 | -189.74 | -133.96 | -16.77 | -258.63 | 149.87 | 7 |\n",
       "| 7 | educ_sec      | All | 218 |   0 |  0 |  99 | 0 | 0 | 119 | 54.59 | ... |   0.42 |  41.76 | -0.25 | -0.98 |   26.23 |   39.27 |  61.70 |  -18.28 | 148.75 | 0 |\n",
       "| 10 | gov2000       | All | 218 | 110 |  0 |  83 | 0 | 0 |  25 | 11.47 | ... | -98.73 |   1.36 |  0.43 | -0.44 |   -1.16 |   -0.82 |  -0.19 |   -2.78 |   2.67 | 0 |\n",
       "| 3 | growthGDPpc   | All | 218 |  23 |  0 | 169 | 0 | 0 |  26 | 11.93 | ... |   0.93 |   2.73 |  0.47 |  0.41 |   -0.13 |    0.59 |   1.99 |   -3.24 |   7.67 | 3 |\n",
       "| 4 | imalaria2000  | All | 218 |   0 |  0 |  99 | 0 | 0 | 119 | 54.59 | ... |   1.20 | 297.89 |  1.06 |  0.13 |    2.59 |    5.41 |  57.31 | -438.72 | 752.82 | 1 |\n",
       "| 5 | imalaria2015  | All | 218 |   0 | 14 |  85 | 0 | 0 | 119 | 54.59 | ... |   1.46 | 153.01 |  1.29 |  0.22 |    0.00 |    0.14 |   9.97 | -229.31 | 382.73 | 3 |\n",
       "| 11 | invest_growth | All | 218 |  12 |  0 | 115 | 0 | 0 |  91 | 41.74 | ... |   0.86 |   5.45 |  1.00 |  2.82 |    0.27 |    1.88 |   4.68 |   -6.04 |  15.76 | 2 |\n",
       "| 8 | life2000      | All | 218 |   0 |  0 | 201 | 0 | 0 |  17 |  7.80 | ... |   0.15 |  14.34 | -0.77 | -0.50 |   50.49 |   57.13 |  70.18 |   38.55 |  95.91 | 0 |\n",
       "| 1 | logGDPpc2000  | All | 218 |   0 |  0 | 194 | 0 | 0 |  24 | 11.01 | ... |   0.19 |   2.42 |  0.14 | -0.92 |    6.28 |    6.93 |   8.22 |    3.56 |  13.25 | 0 |\n",
       "| 2 | logGDPpc2015  | All | 218 |   0 |  0 | 200 | 0 | 0 |  18 |  8.26 | ... |   0.17 |   2.19 | -0.03 | -0.86 |    6.62 |    7.27 |   8.74 |    4.33 |  13.07 | 0 |\n",
       "| 9 | trade2000     | All | 218 |   0 |  0 | 178 | 0 | 0 |  40 | 18.35 | ... |   0.58 |  52.25 |  2.00 |  6.93 |   33.98 |   48.71 |  74.77 |  -25.73 | 183.29 | 6 |\n",
       "\n"
      ],
      "text/plain": [
       "   Vname         Group TN  nNeg nZero nPos NegInf PosInf NA_Value\n",
       "6  change_malar  All   218  94   0      5  0      0      119     \n",
       "7  educ_sec      All   218   0   0     99  0      0      119     \n",
       "10 gov2000       All   218 110   0     83  0      0       25     \n",
       "3  growthGDPpc   All   218  23   0    169  0      0       26     \n",
       "4  imalaria2000  All   218   0   0     99  0      0      119     \n",
       "5  imalaria2015  All   218   0  14     85  0      0      119     \n",
       "11 invest_growth All   218  12   0    115  0      0       91     \n",
       "8  life2000      All   218   0   0    201  0      0       17     \n",
       "1  logGDPpc2000  All   218   0   0    194  0      0       24     \n",
       "2  logGDPpc2015  All   218   0   0    200  0      0       18     \n",
       "9  trade2000     All   218   0   0    178  0      0       40     \n",
       "   Per_of_Missing ... CV     IQR    Skewness Kurtosis 10%     20%     50%   \n",
       "6  54.59          ...  -1.84 102.13 -2.91    11.16    -189.74 -133.96 -16.77\n",
       "7  54.59          ...   0.42  41.76 -0.25    -0.98      26.23   39.27  61.70\n",
       "10 11.47          ... -98.73   1.36  0.43    -0.44      -1.16   -0.82  -0.19\n",
       "3  11.93          ...   0.93   2.73  0.47     0.41      -0.13    0.59   1.99\n",
       "4  54.59          ...   1.20 297.89  1.06     0.13       2.59    5.41  57.31\n",
       "5  54.59          ...   1.46 153.01  1.29     0.22       0.00    0.14   9.97\n",
       "11 41.74          ...   0.86   5.45  1.00     2.82       0.27    1.88   4.68\n",
       "8   7.80          ...   0.15  14.34 -0.77    -0.50      50.49   57.13  70.18\n",
       "1  11.01          ...   0.19   2.42  0.14    -0.92       6.28    6.93   8.22\n",
       "2   8.26          ...   0.17   2.19 -0.03    -0.86       6.62    7.27   8.74\n",
       "9  18.35          ...   0.58  52.25  2.00     6.93      33.98   48.71  74.77\n",
       "   LB.25%  UB.75% nOutliers\n",
       "6  -258.63 149.87 7        \n",
       "7   -18.28 148.75 0        \n",
       "10   -2.78   2.67 0        \n",
       "3    -3.24   7.67 3        \n",
       "4  -438.72 752.82 1        \n",
       "5  -229.31 382.73 3        \n",
       "11   -6.04  15.76 2        \n",
       "8    38.55  95.91 0        \n",
       "1     3.56  13.25 0        \n",
       "2     4.33  13.07 0        \n",
       "9   -25.73 183.29 6        "
      ]
     },
     "metadata": {},
     "output_type": "display_data"
    },
    {
     "name": "stderr",
     "output_type": "stream",
     "text": [
      "Warning message in matrix(data = seq(1, pn), nrow = nr, ncol = nc):\n",
      "\"data length [11] is not a sub-multiple or multiple of the number of rows [6]\"\n"
     ]
    },
    {
     "data": {
      "text/plain": [
       "$`0`\n"
      ]
     },
     "metadata": {},
     "output_type": "display_data"
    },
    {
     "data": {
      "image/png": "[encoded data removed]",
      "text/plain": [
       "plot without title"
      ]
     },
     "metadata": {
      "image/png": {
       "height": 420,
       "width": 420
      }
     },
     "output_type": "display_data"
    },
    {
     "data": {
      "image/png": "[encoded data removed]",
      "text/plain": [
       "plot without title"
      ]
     },
     "metadata": {
      "image/png": {
       "height": 420,
       "width": 420
      }
     },
     "output_type": "display_data"
    },
    {
     "data": {
      "text/plain": [
       " countrycode         logGDPpc2000     logGDPpc2015     growthGDPpc     \n",
       " Length:218         Min.   : 5.285   Min.   : 5.431   Min.   :-3.0138  \n",
       " Class :character   1st Qu.: 7.195   1st Qu.: 7.609   1st Qu.: 0.8492  \n",
       " Mode  :character   Median : 8.222   Median : 8.745   Median : 1.9916  \n",
       "                    Mean   : 8.390   Mean   : 8.719   Mean   : 2.2755  \n",
       "                    3rd Qu.: 9.618   3rd Qu.: 9.794   3rd Qu.: 3.5759  \n",
       "                    Max.   :11.840   Max.   :12.151   Max.   : 9.0774  \n",
       "                    NA's   :24       NA's   :18       NA's   :26       \n",
       "  imalaria2000      imalaria2015      change_malar         educ_sec     \n",
       " Min.   :  0.010   Min.   :  0.000   Min.   :-796.380   Min.   : 5.986  \n",
       " 1st Qu.:  8.105   1st Qu.:  0.205   1st Qu.:-105.440   1st Qu.:44.351  \n",
       " Median : 57.310   Median :  9.970   Median : -16.770   Median :61.702  \n",
       " Mean   :159.919   Mean   : 87.991   Mean   : -71.928   Mean   :61.396  \n",
       " 3rd Qu.:305.990   3rd Qu.:153.215   3rd Qu.:  -3.315   3rd Qu.:86.109  \n",
       " Max.   :796.380   Max.   :429.040   Max.   : 195.130   Max.   :99.866  \n",
       " NA's   :119       NA's   :119       NA's   :119        NA's   :119     \n",
       "    life2000       trade2000          gov2000         invest_growth   \n",
       " Min.   :39.44   Min.   :  1.166   Min.   :-2.23165   Min.   :-5.364  \n",
       " 1st Qu.:60.06   1st Qu.: 52.652   1st Qu.:-0.73737   1st Qu.: 2.133  \n",
       " Median :70.18   Median : 74.773   Median :-0.18607   Median : 4.679  \n",
       " Mean   :67.01   Mean   : 84.152   Mean   :-0.01016   Mean   : 5.160  \n",
       " 3rd Qu.:74.40   3rd Qu.:104.906   3rd Qu.: 0.62527   3rd Qu.: 7.583  \n",
       " Max.   :81.08   Max.   :364.365   Max.   : 2.19907   Max.   :25.513  \n",
       " NA's   :17      NA's   :40        NA's   :25         NA's   :91      "
      ]
     },
     "metadata": {},
     "output_type": "display_data"
    },
    {
     "name": "stdout",
     "output_type": "stream",
     "text": [
      "\n",
      "\\begin{table}[ht] \\centering \n",
      "  \\caption{Summary statistics} \n",
      "  \\label{tb:statistcis} \n",
      "\\begin{tabular}{@{\\extracolsep{5pt}}lccccccc} \n",
      "\\\\[-1.8ex]\\hline \n",
      "\\hline \\\\[-1.8ex] \n",
      "Statistic & \\multicolumn{1}{c}{N} & \\multicolumn{1}{c}{Mean} & \\multicolumn{1}{c}{St. Dev.} & \\multicolumn{1}{c}{Min} & \\multicolumn{1}{c}{Pctl(25)} & \\multicolumn{1}{c}{Pctl(75)} & \\multicolumn{1}{c}{Max} \\\\ \n",
      "\\hline \\\\[-1.8ex] \n",
      "logGDPpc2000 & 194 & 8.390 & 1.564 & 5.285 & 7.195 & 9.618 & 11.840 \\\\ \n",
      "logGDPpc2015 & 200 & 8.719 & 1.467 & 5.431 & 7.609 & 9.794 & 12.151 \\\\ \n",
      "growthGDPpc & 192 & 2.276 & 2.108 & $-$3.014 & 0.849 & 3.576 & 9.077 \\\\ \n",
      "imalaria2000 & 99 & 159.919 & 191.803 & 0.010 & 8.105 & 305.990 & 796.380 \\\\ \n",
      "imalaria2015 & 99 & 87.991 & 128.829 & 0.000 & 0.205 & 153.215 & 429.040 \\\\ \n",
      "change\\_malar & 99 & $-$71.928 & 132.399 & $-$796.380 & $-$105.440 & $-$3.315 & 195.130 \\\\ \n",
      "educ\\_sec & 99 & 61.396 & 25.797 & 5.986 & 44.351 & 86.109 & 99.866 \\\\ \n",
      "life2000 & 201 & 67.012 & 10.093 & 39.441 & 60.063 & 74.403 & 81.076 \\\\ \n",
      "trade2000 & 178 & 84.152 & 49.038 & 1.166 & 52.652 & 104.906 & 364.365 \\\\ \n",
      "gov2000 & 193 & $-$0.010 & 1.003 & $-$2.232 & $-$0.737 & 0.625 & 2.199 \\\\ \n",
      "invest\\_growth & 127 & 5.160 & 4.423 & $-$5.364 & 2.133 & 7.583 & 25.513 \\\\ \n",
      "\\hline \\\\[-1.8ex] \n",
      "\\end{tabular} \n",
      "\\end{table} \n",
      "\n",
      "Summary statistics\n",
      "=====================================================================\n",
      "Statistic      N   Mean   St. Dev.   Min    Pctl(25) Pctl(75)   Max  \n",
      "---------------------------------------------------------------------\n",
      "logGDPpc2000  194  8.390   1.564    5.285    7.195    9.618   11.840 \n",
      "logGDPpc2015  200  8.719   1.467    5.431    7.609    9.794   12.151 \n",
      "growthGDPpc   192  2.276   2.108    -3.014   0.849    3.576    9.077 \n",
      "imalaria2000  99  159.919 191.803   0.010    8.105   305.990  796.380\n",
      "imalaria2015  99  87.991  128.829   0.000    0.205   153.215  429.040\n",
      "change_malar  99  -71.928 132.399  -796.380 -105.440  -3.315  195.130\n",
      "educ_sec      99  61.396   25.797   5.986    44.351   86.109  99.866 \n",
      "life2000      201 67.012   10.093   39.441   60.063   74.403  81.076 \n",
      "trade2000     178 84.152   49.038   1.166    52.652  104.906  364.365\n",
      "gov2000       193 -0.010   1.003    -2.232   -0.737   0.625    2.199 \n",
      "invest_growth 127  5.160   4.423    -5.364   2.133    7.583   25.513 \n",
      "---------------------------------------------------------------------\n",
      "\n",
      "Shorter statistics\n",
      "===============================================================\n",
      "Statistic    N   Mean  St. Dev.  Min   Pctl(25) Pctl(75)  Max  \n",
      "---------------------------------------------------------------\n",
      "growthGDPpc 192 2.276   2.108   -3.014  0.849    3.576   9.077 \n",
      "educ_sec    99  61.396  25.797  5.986   44.351   86.109  99.866\n",
      "---------------------------------------------------------------\n"
     ]
    },
    {
     "data": {
      "image/png": "[encoded data removed]",
      "text/plain": [
       "plot without title"
      ]
     },
     "metadata": {
      "image/png": {
       "height": 420,
       "width": 420
      }
     },
     "output_type": "display_data"
    },
    {
     "data": {
      "image/png": "[encoded data removed]",
      "text/plain": [
       "plot without title"
      ]
     },
     "metadata": {
      "image/png": {
       "height": 420,
       "width": 420
      }
     },
     "output_type": "display_data"
    }
   ],
   "source": [
    "# STATISTICS\n",
    "\n",
    "## EDA\n",
    "\n",
    "# eda_report(world_data,output_dir = \"EDA/\",output_file = \"eda_world_data.pdf\")\n",
    "\n",
    "summary(world_data[,\"educ_sec\"])\n",
    "\n",
    "ExpNumStat(world_data,by=\"A\",Outlier = TRUE,round=2,Qnt=c(0.1,0.20,0.50))\n",
    "\n",
    "# ExpCTable(world_data)\n",
    "\n",
    "# ExpCatViz(world_data)\n",
    "\n",
    "ExpNumViz(world_data,Page=c(6,2))\n",
    "\n",
    "## TRY IN A 'JUPYTER NOTEBOOK': ExpNumViz(world_data)\n",
    "\n",
    "# ExpOutliers(world_data,varlist=c(\"logGDPpc2000\"))\n",
    "\n",
    "vis_dat(world_data)\n",
    "\n",
    "# vis_miss(world_data) # ALTERNATIVE\n",
    "\n",
    "gg_miss_upset(world_data)\n",
    "\n",
    "## ExPanD(): import the data 'nlswork.dta' and 'ExPanD()' in the Console\n",
    "\n",
    "summary(world_data)\n",
    "\n",
    "stargazer(world_data,\n",
    "          title = \"Summary statistics\",\n",
    "          label = \"tb:statistcis\",\n",
    "          table.placement = \"ht\",\n",
    "          header=FALSE)\n",
    "\n",
    "## or\n",
    "\n",
    "stargazer(world_data,\n",
    "          title = \"Summary statistics\",\n",
    "          label = \"tb:statistcis\",\n",
    "          table.placement = \"ht\",\n",
    "          header=FALSE,type=\"text\")\n",
    "\n",
    "## or a subset of variables\n",
    "\n",
    "world_data %>%\n",
    "  dplyr::select(growthGDPpc,educ_sec) %>% \n",
    "  stargazer(title=\"Shorter statistics\",\n",
    "            label=\"tb:statistics:short\",\n",
    "            table.placement = \"ht\",\n",
    "            header=FALSE,\n",
    "            type=\"text\")\n",
    "\n",
    "attach(world_data)\n",
    "plot(educ_sec,logGDPpc2000)\n"
   ]
  },
  {
   "cell_type": "code",
   "execution_count": 5,
   "metadata": {},
   "outputs": [
    {
     "name": "stderr",
     "output_type": "stream",
     "text": [
      "Warning message:\n",
      "\"Removed 121 rows containing missing values (geom_point).\"\n",
      "Saving 6.67 x 6.67 in image\n",
      "\n",
      "Warning message:\n",
      "\"Removed 121 rows containing missing values (geom_point).\"\n"
     ]
    },
    {
     "data": {
      "text/plain": [
       "\n",
       "Call:\n",
       "lm(formula = logGDPpc2000 ~ educ_sec)\n",
       "\n",
       "Residuals:\n",
       "    Min      1Q  Median      3Q     Max \n",
       "-3.5613 -1.0600  0.0556  1.1628  2.4293 \n",
       "\n",
       "Coefficients:\n",
       "            Estimate Std. Error t value Pr(>|t|)    \n",
       "(Intercept) 7.394826   0.349821  21.139  < 2e-16 ***\n",
       "educ_sec    0.023760   0.005264   4.514 1.82e-05 ***\n",
       "---\n",
       "Signif. codes:  0 '***' 0.001 '**' 0.01 '*' 0.05 '.' 0.1 ' ' 1\n",
       "\n",
       "Residual standard error: 1.317 on 95 degrees of freedom\n",
       "  (121 observations deleted due to missingness)\n",
       "Multiple R-squared:  0.1766,\tAdjusted R-squared:  0.1679 \n",
       "F-statistic: 20.38 on 1 and 95 DF,  p-value: 1.823e-05\n"
      ]
     },
     "metadata": {},
     "output_type": "display_data"
    },
    {
     "data": {
      "image/png": "[encoded data removed]",
      "text/plain": [
       "plot without title"
      ]
     },
     "metadata": {
      "image/png": {
       "height": 420,
       "width": 420
      }
     },
     "output_type": "display_data"
    },
    {
     "name": "stderr",
     "output_type": "stream",
     "text": [
      "`geom_smooth()` using formula 'y ~ x'\n",
      "\n",
      "Warning message:\n",
      "\"Removed 121 rows containing non-finite values (stat_smooth).\"\n",
      "Warning message:\n",
      "\"Removed 121 rows containing missing values (geom_point).\"\n"
     ]
    },
    {
     "data": {
      "image/png": "[encoded data removed]",
      "text/plain": [
       "plot without title"
      ]
     },
     "metadata": {
      "image/png": {
       "height": 420,
       "width": 420
      }
     },
     "output_type": "display_data"
    },
    {
     "name": "stderr",
     "output_type": "stream",
     "text": [
      "Saving 6.67 x 6.67 in image\n",
      "\n",
      "`geom_smooth()` using formula 'y ~ x'\n",
      "\n",
      "Warning message:\n",
      "\"Removed 121 rows containing non-finite values (stat_smooth).\"\n",
      "Warning message:\n",
      "\"Removed 121 rows containing missing values (geom_point).\"\n"
     ]
    },
    {
     "data": {
      "image/png": "[encoded data removed]",
      "text/plain": [
       "plot without title"
      ]
     },
     "metadata": {
      "image/png": {
       "height": 420,
       "width": 420
      }
     },
     "output_type": "display_data"
    }
   ],
   "source": [
    "## FIRST CHECK OF THE RELATIONSHIP BETWEEN EDUCATION AND GDP\n",
    "\n",
    "world_data %>%\n",
    "  ggplot(aes(educ_sec,logGDPpc2000)) +\n",
    "  labs(title = \"GDP per capita vs. Education\") +\n",
    "  ylab(\"Log GDP pc (2000)\") +\n",
    "  xlab(\"% Population 25+ with lower sec. school\") +\n",
    "  geom_point()\n",
    "  \n",
    "  ## SAVE YOUR GRAPH\n",
    "\n",
    "    ggsave(\"figures/graph1.png\")\n",
    "\n",
    "  ## FIRST REGRESSION\n",
    "\n",
    "    reg1 <- lm(logGDPpc2000 ~ educ_sec)\n",
    "      summary(reg1)\n",
    "\n",
    "        # View(reg1)  # see what happens with this command\n",
    "\n",
    "  ## FITTED MODEL\n",
    "    \n",
    "      ## SIMPLE SOLUTION\n",
    "      \n",
    "      plot(educ_sec,logGDPpc2000)\n",
    "        abline(reg1)\n",
    "      \n",
    "      ## 'FANCY' SOLUTION\n",
    "        \n",
    "      ggplot(world_data,aes(educ_sec,logGDPpc2000))+\n",
    "        labs(title = \"GDP per capita vs. Education\") +\n",
    "        ylab(\"Log GDP pc (2000)\") +\n",
    "        xlab(\"% Population 25+ with lower sec. school\") +\n",
    "        geom_point() +\n",
    "        geom_smooth(method = \"lm\",se = FALSE)\n",
    "\n",
    "      ## EXPORT YOUR GRAPH\n",
    "      \n",
    "        ggsave(\"figures/graph2.png\")\n"
   ]
  },
  {
   "cell_type": "code",
   "execution_count": 6,
   "metadata": {},
   "outputs": [
    {
     "data": {
      "text/plain": [
       "\n",
       "Call:\n",
       "lm(formula = growthGDPpc ~ logGDPpc2000 + educ_sec + invest_growth + \n",
       "    trade2000 + gov2000, data = world_data, na.action = na.exclude)\n",
       "\n",
       "Residuals:\n",
       "    Min      1Q  Median      3Q     Max \n",
       "-3.2333 -0.4785 -0.0029  0.6294  3.5823 \n",
       "\n",
       "Coefficients:\n",
       "               Estimate Std. Error t value Pr(>|t|)    \n",
       "(Intercept)    5.557012   1.843849   3.014  0.00368 ** \n",
       "logGDPpc2000  -0.726476   0.216851  -3.350  0.00135 ** \n",
       "educ_sec       0.032574   0.006704   4.859 7.79e-06 ***\n",
       "invest_growth  0.232956   0.043563   5.348 1.23e-06 ***\n",
       "trade2000      0.005198   0.002567   2.025  0.04696 *  \n",
       "gov2000       -0.096830   0.313265  -0.309  0.75823    \n",
       "---\n",
       "Signif. codes:  0 '***' 0.001 '**' 0.01 '*' 0.05 '.' 0.1 ' ' 1\n",
       "\n",
       "Residual standard error: 1.224 on 65 degrees of freedom\n",
       "  (147 observations deleted due to missingness)\n",
       "Multiple R-squared:  0.5909,\tAdjusted R-squared:  0.5594 \n",
       "F-statistic: 18.78 on 5 and 65 DF,  p-value: 1.674e-11\n"
      ]
     },
     "metadata": {},
     "output_type": "display_data"
    },
    {
     "data": {
      "text/plain": [
       "              Df Sum Sq Mean Sq F value   Pr(>F)    \n",
       "logGDPpc2000   1  61.16   61.16  40.825 2.05e-08 ***\n",
       "educ_sec       1  28.02   28.02  18.704 5.36e-05 ***\n",
       "invest_growth  1  45.29   45.29  30.229 6.91e-07 ***\n",
       "trade2000      1   6.04    6.04   4.033   0.0488 *  \n",
       "gov2000        1   0.14    0.14   0.096   0.7582    \n",
       "Residuals     65  97.38    1.50                     \n",
       "---\n",
       "Signif. codes:  0 '***' 0.001 '**' 0.01 '*' 0.05 '.' 0.1 ' ' 1\n",
       "147 observations deleted due to missingness"
      ]
     },
     "metadata": {},
     "output_type": "display_data"
    },
    {
     "name": "stdout",
     "output_type": "stream",
     "text": [
      "                (Intercept)  logGDPpc2000      educ_sec invest_growth\n",
      "(Intercept)    3.3997778995 -3.838101e-01  2.808327e-04 -2.381767e-02\n",
      "logGDPpc2000  -0.3838100668  4.702440e-02 -3.548833e-04  1.597596e-03\n",
      "educ_sec       0.0002808327 -3.548833e-04  4.494372e-05  2.344525e-05\n",
      "invest_growth -0.0238176748  1.597596e-03  2.344525e-05  1.897755e-03\n",
      "trade2000     -0.0004613550 -5.556980e-06  7.067824e-07 -7.114476e-06\n",
      "gov2000        0.4269619849 -5.055677e-02 -1.074546e-04  1.516299e-03\n",
      "                  trade2000       gov2000\n",
      "(Intercept)   -4.613550e-04  0.4269619849\n",
      "logGDPpc2000  -5.556980e-06 -0.0505567717\n",
      "educ_sec       7.067824e-07 -0.0001074546\n",
      "invest_growth -7.114476e-06  0.0015162991\n",
      "trade2000      6.587727e-06 -0.0001871097\n",
      "gov2000       -1.871097e-04  0.0981352360\n"
     ]
    },
    {
     "data": {
      "image/png": "[encoded data removed]",
      "text/plain": [
       "Plot with title \"\""
      ]
     },
     "metadata": {
      "image/png": {
       "height": 420,
       "width": 420
      }
     },
     "output_type": "display_data"
    },
    {
     "data": {
      "image/png": "[encoded data removed]",
      "text/plain": [
       "Plot with title \"\""
      ]
     },
     "metadata": {
      "image/png": {
       "height": 420,
       "width": 420
      }
     },
     "output_type": "display_data"
    },
    {
     "data": {
      "image/png": "[encoded data removed]",
      "text/plain": [
       "Plot with title \"\""
      ]
     },
     "metadata": {
      "image/png": {
       "height": 420,
       "width": 420
      }
     },
     "output_type": "display_data"
    },
    {
     "name": "stderr",
     "output_type": "stream",
     "text": [
      "Warning message:\n",
      "\"Removed 122 rows containing missing values (geom_point).\"\n",
      "Warning message:\n",
      "\"Removed 147 rows containing missing values (geom_point).\"\n"
     ]
    },
    {
     "data": {
      "image/png": "[encoded data removed]",
      "text/plain": [
       "Plot with title \"\""
      ]
     },
     "metadata": {
      "image/png": {
       "height": 420,
       "width": 420
      }
     },
     "output_type": "display_data"
    },
    {
     "name": "stderr",
     "output_type": "stream",
     "text": [
      "Saving 6.67 x 6.67 in image\n",
      "\n",
      "Warning message:\n",
      "\"Removed 122 rows containing missing values (geom_point).\"\n",
      "Warning message:\n",
      "\"Removed 147 rows containing missing values (geom_point).\"\n",
      "Warning message:\n",
      "\"Removed 122 rows containing missing values (geom_point).\"\n",
      "Warning message:\n",
      "\"Removed 147 rows containing missing values (geom_point).\"\n"
     ]
    },
    {
     "data": {
      "image/png": "[encoded data removed]",
      "text/plain": [
       "plot without title"
      ]
     },
     "metadata": {
      "image/png": {
       "height": 420,
       "width": 420
      }
     },
     "output_type": "display_data"
    },
    {
     "name": "stderr",
     "output_type": "stream",
     "text": [
      "Saving 6.67 x 6.67 in image\n",
      "\n",
      "Warning message:\n",
      "\"Removed 122 rows containing missing values (geom_point).\"\n",
      "Warning message:\n",
      "\"Removed 147 rows containing missing values (geom_point).\"\n"
     ]
    },
    {
     "name": "stdout",
     "output_type": "stream",
     "text": [
      "\n",
      "Regression analysis\n",
      "==============================================\n",
      "                           Model 1            \n",
      "Log GDPpc 2000            -0.73***            \n",
      "                           (0.22)             \n",
      "Educ Sec                   0.03***            \n",
      "                           (0.01)             \n",
      "invest_growth              0.23***            \n",
      "                           (0.04)             \n",
      "trade2000                  0.01**             \n",
      "                           (0.003)            \n",
      "gov2000                     -0.10             \n",
      "                           (0.31)             \n",
      "N                            71               \n",
      "R2                          0.59              \n",
      "==============================================\n",
      "Notes:         Standard errors in parentheses.\n",
      "\n",
      "Regression analysis\n",
      "=========================================================\n",
      "                       Model 1 Model 2  Model 3  Model 4 \n",
      "Log GDPpc 2000                 -0.73*** -0.79*** -0.79***\n",
      "                                (0.22)   (0.22)   (0.22) \n",
      "Educ Sec               0.04*** 0.03***   0.02**   0.02** \n",
      "                       (0.003)  (0.01)   (0.01)   (0.01) \n",
      "invest_growth                  0.23***    0.09     0.09  \n",
      "                                (0.04)   (0.10)   (0.10) \n",
      "trade2000                       0.01**   0.004*   0.004* \n",
      "                               (0.003)  (0.003)  (0.003) \n",
      "gov2000                         -0.10     0.06     0.06  \n",
      "                                (0.31)   (0.33)   (0.33) \n",
      "educ_sec:invest_growth                   0.003    0.003  \n",
      "                                        (0.002)  (0.002) \n",
      "N                        96       71       71       71   \n",
      "R2                      0.54     0.59     0.61     0.61  \n",
      "=========================================================\n",
      "Notes:                 Standard errors in parentheses.   \n"
     ]
    },
    {
     "data": {
      "image/png": "[encoded data removed]",
      "text/plain": [
       "plot without title"
      ]
     },
     "metadata": {
      "image/png": {
       "height": 420,
       "width": 420
      }
     },
     "output_type": "display_data"
    }
   ],
   "source": [
    "# <<>> --- REGRESSION ANALYSIS --- <<>> #\n",
    "\n",
    "## Example 1\n",
    "  \n",
    "  ## REGRESSION\n",
    "    \n",
    "    M1 <- lm(data=world_data, growthGDPpc ~ logGDPpc2000 + educ_sec + invest_growth + trade2000 + gov2000,na.action = na.exclude)\n",
    "      summary(M1)\n",
    "  \n",
    "  ## ANOVA\n",
    "    \n",
    "    M1.aov <- aov(data=world_data, growthGDPpc ~ logGDPpc2000 + educ_sec + invest_growth + trade2000 + gov2000,na.action = na.exclude)\n",
    "      summary(M1.aov)\n",
    "  \n",
    "  ## VCE Estimates\n",
    "    \n",
    "    print(vcov(M1))\n",
    "  \n",
    "  ## Predicted and actual Growth log GDP pc vs. Education\n",
    "    \n",
    "    plot(M1)\n",
    "\n",
    "    world_data$predicted <- predict(M1)\n",
    "    world_data$residuals <- residuals(M1)\n",
    "    \n",
    "      world_data$residuals_sq <- residuals(M1)^2  # SQUARED RESIDUALS\n",
    "\n",
    "    ggplot(world_data,aes(educ_sec,growthGDPpc))+\n",
    "      labs(title = \"Fitted vs. actual values\") +\n",
    "      ylab(\"Log GDP pc (2000)\") +\n",
    "      xlab(\"% Population 25+ with lower sec. school\") +\n",
    "      geom_point() +\n",
    "      geom_point(aes(y=predicted),shape=1)\n",
    "\n",
    "    ggsave(\"figures/graph3.png\")\n",
    "    \n",
    "    ggplot(world_data,aes(educ_sec,growthGDPpc))+\n",
    "      labs(title = \"Residuals vs. actual values\") +\n",
    "      ylab(\"Log GDP pc (2000)\") +\n",
    "      xlab(\"% Population 25+ with lower sec. school\") +\n",
    "      geom_point() +\n",
    "      geom_point(aes(y=residuals),shape=1)\n",
    "    \n",
    "    ggsave(\"figures/graph4.png\")\n",
    "    \n",
    "    ## Output table\n",
    "\n",
    "    \n",
    "  stargazer(M1,title = \"Regression analysis\", model.numbers = FALSE,column.labels = c(\"Model 1\"),label = \"regressions\",table.placement = \"!ht\",notes.append = FALSE,notes.align=\"l\",notes=\"Standard errors in parentheses.\",header = FALSE,no.space = TRUE,covariate.labels = c(\"Log GDPpc 2000\",\"Educ Sec\"),omit = c(\"Constant\"),omit.stat = c(\"adj.rsq\",\"f\",\"ser\"),digits = 2,digits.extra = 4,omit.yes.no = c(\"Constant\",\"\"),dep.var.caption=\"\",dep.var.labels.include = FALSE,style = \"qje\",type=\"text\")\n",
    "\n",
    "  M2 <- lm(data=world_data, growthGDPpc ~ logGDPpc2000 + educ_sec + invest_growth + educ_sec:invest_growth + trade2000 + gov2000)\n",
    "  M3 <- lm(data=world_data, growthGDPpc ~ logGDPpc2000 + educ_sec * invest_growth + trade2000 + gov2000)\n",
    "\n",
    "  ## model without constant\n",
    "  \n",
    "  M0 <- lm(data=world_data, growthGDPpc ~ 0 + educ_sec)\n",
    "  \n",
    "  stargazer(M0,M1,M2,M3,title = \"Regression analysis\", \n",
    "            model.numbers = FALSE,\n",
    "            column.labels = c(\"Model 1\",\"Model 2\",\"Model 3\",\"Model 4\"),\n",
    "            label = \"regressions\",\n",
    "            table.placement = \"!ht\",\n",
    "            notes.append = FALSE,\n",
    "            notes.align=\"l\",\n",
    "            notes=\"Standard errors in parentheses.\",\n",
    "            header = FALSE,\n",
    "            no.space = TRUE,\n",
    "            covariate.labels = c(\"Log GDPpc 2000\",\"Educ Sec\"),\n",
    "            omit = c(\"Constant\"),\n",
    "            omit.stat = c(\"adj.rsq\",\"f\",\"ser\"),\n",
    "            digits = 2,\n",
    "            digits.extra = 4,\n",
    "            omit.yes.no = c(\"Constant\",\"\"),\n",
    "            dep.var.caption=\"\",\n",
    "            dep.var.labels.include = FALSE,\n",
    "            style = \"qje\",\n",
    "            type=\"text\")\n",
    "  \n",
    "# <<>> --- END --- <<>> #\n"
   ]
  },
  {
   "cell_type": "code",
   "execution_count": 7,
   "metadata": {},
   "outputs": [
    {
     "data": {
      "text/plain": [
       "\n",
       "    1     2     3 \n",
       "20180  8051   303 "
      ]
     },
     "metadata": {},
     "output_type": "display_data"
    },
    {
     "data": {
      "text/html": [
       "TRUE"
      ],
      "text/latex": [
       "TRUE"
      ],
      "text/markdown": [
       "TRUE"
      ],
      "text/plain": [
       "[1] TRUE"
      ]
     },
     "metadata": {},
     "output_type": "display_data"
    },
    {
     "name": "stdout",
     "output_type": "stream",
     "text": [
      " dbl+lbl [1:28534] 2, 2, 2, 2, 2, 2, 2, 2, 2, 2, 2, 2, 2, 2, 2, 2, 2, 2, 2,...\n",
      " @ label       : chr \"race\"\n",
      " @ format.stata: chr \"%8.0g\"\n",
      " @ labels      : Named num [1:3] 1 2 3\n",
      "  ..- attr(*, \"names\")= chr [1:3] \"white\" \"black\" \"other\"\n"
     ]
    },
    {
     "data": {
      "text/plain": [
       "\n",
       "Call:\n",
       "lm(formula = ln_wage ~ relevel(factor(race), ref = 3), data = nlswork, \n",
       "    na.action = na.exclude)\n",
       "\n",
       "Residuals:\n",
       "    Min      1Q  Median      3Q     Max \n",
       "-1.7143 -0.3046 -0.0348  0.2831  3.5496 \n",
       "\n",
       "Coefficients:\n",
       "                                Estimate Std. Error t value Pr(>|t|)    \n",
       "(Intercept)                      1.79501    0.02721  65.971  < 2e-16 ***\n",
       "relevel(factor(race), ref = 3)1 -0.08067    0.02741  -2.943  0.00325 ** \n",
       "relevel(factor(race), ref = 3)2 -0.22346    0.02772  -8.062 7.78e-16 ***\n",
       "---\n",
       "Signif. codes:  0 '***' 0.001 '**' 0.01 '*' 0.05 '.' 0.1 ' ' 1\n",
       "\n",
       "Residual standard error: 0.4736 on 28531 degrees of freedom\n",
       "Multiple R-squared:  0.01867,\tAdjusted R-squared:  0.0186 \n",
       "F-statistic: 271.4 on 2 and 28531 DF,  p-value: < 2.2e-16\n"
      ]
     },
     "metadata": {},
     "output_type": "display_data"
    },
    {
     "data": {
      "text/plain": [
       "\n",
       "Call:\n",
       "lm(formula = ln_wage ~ hours, data = nlswork, na.action = na.exclude)\n",
       "\n",
       "Residuals:\n",
       "    Min      1Q  Median      3Q     Max \n",
       "-2.1854 -0.3074 -0.0361  0.2860  3.6244 \n",
       "\n",
       "Coefficients:\n",
       "             Estimate Std. Error t value Pr(>|t|)    \n",
       "(Intercept) 1.5225145  0.0108276  140.62   <2e-16 ***\n",
       "hours       0.0041790  0.0002859   14.62   <2e-16 ***\n",
       "---\n",
       "Signif. codes:  0 '***' 0.001 '**' 0.01 '*' 0.05 '.' 0.1 ' ' 1\n",
       "\n",
       "Residual standard error: 0.4761 on 28465 degrees of freedom\n",
       "  (67 observations deleted due to missingness)\n",
       "Multiple R-squared:  0.007449,\tAdjusted R-squared:  0.007414 \n",
       "F-statistic: 213.6 on 1 and 28465 DF,  p-value: < 2.2e-16\n"
      ]
     },
     "metadata": {},
     "output_type": "display_data"
    },
    {
     "name": "stdout",
     "output_type": "stream",
     "text": [
      "(Intercept)       hours \n",
      "1.522514490 0.004179043 \n",
      "      hours \n",
      "0.004179043 \n",
      "              (Intercept)         hours\n",
      "(Intercept)  1.172359e-04 -2.988892e-06\n",
      "hours       -2.988892e-06  8.175404e-08\n",
      "[1] 8.175404e-08\n"
     ]
    },
    {
     "data": {
      "text/plain": [
       "\n",
       "Call:\n",
       "lm(formula = ln_wage ~ hours, data = nlswork, na.action = na.exclude)\n",
       "\n",
       "Residuals:\n",
       "    Min      1Q  Median      3Q     Max \n",
       "-2.1854 -0.3074 -0.0361  0.2860  3.6244 \n",
       "\n",
       "Coefficients:\n",
       "             Estimate Std. Error t value Pr(>|t|)    \n",
       "(Intercept) 1.5225145  0.0108276  140.62   <2e-16 ***\n",
       "hours       0.0041790  0.0002859   14.62   <2e-16 ***\n",
       "---\n",
       "Signif. codes:  0 '***' 0.001 '**' 0.01 '*' 0.05 '.' 0.1 ' ' 1\n",
       "\n",
       "Residual standard error: 0.4761 on 28465 degrees of freedom\n",
       "  (67 observations deleted due to missingness)\n",
       "Multiple R-squared:  0.007449,\tAdjusted R-squared:  0.007414 \n",
       "F-statistic: 213.6 on 1 and 28465 DF,  p-value: < 2.2e-16\n"
      ]
     },
     "metadata": {},
     "output_type": "display_data"
    },
    {
     "name": "stdout",
     "output_type": "stream",
     "text": [
      "[1] 0.0002859266\n"
     ]
    },
    {
     "data": {
      "text/plain": [
       "\n",
       "Call:\n",
       "lm(formula = ln_wage ~ factor(race), data = nlswork, na.action = na.exclude)\n",
       "\n",
       "Residuals:\n",
       "    Min      1Q  Median      3Q     Max \n",
       "-1.7143 -0.3046 -0.0348  0.2831  3.5496 \n",
       "\n",
       "Coefficients:\n",
       "               Estimate Std. Error t value Pr(>|t|)    \n",
       "(Intercept)    1.714338   0.003334 514.187  < 2e-16 ***\n",
       "factor(race)2 -0.142786   0.006243 -22.870  < 2e-16 ***\n",
       "factor(race)3  0.080671   0.027413   2.943  0.00325 ** \n",
       "---\n",
       "Signif. codes:  0 '***' 0.001 '**' 0.01 '*' 0.05 '.' 0.1 ' ' 1\n",
       "\n",
       "Residual standard error: 0.4736 on 28531 degrees of freedom\n",
       "Multiple R-squared:  0.01867,\tAdjusted R-squared:  0.0186 \n",
       "F-statistic: 271.4 on 2 and 28531 DF,  p-value: < 2.2e-16\n"
      ]
     },
     "metadata": {},
     "output_type": "display_data"
    },
    {
     "data": {
      "text/html": [
       "<style>\n",
       ".list-inline {list-style: none; margin:0; padding: 0}\n",
       ".list-inline>li {display: inline-block}\n",
       ".list-inline>li:not(:last-child)::after {content: \"\\00b7\"; padding: 0 .5ex}\n",
       "</style>\n",
       "<ol class=list-inline><li>'idcode'</li><li>'year'</li><li>'birth_yr'</li><li>'age'</li><li>'race'</li><li>'msp'</li><li>'nev_mar'</li><li>'grade'</li><li>'collgrad'</li><li>'not_smsa'</li><li>'c_city'</li><li>'south'</li><li>'ind_code'</li><li>'occ_code'</li><li>'union'</li><li>'wks_ue'</li><li>'ttl_exp'</li><li>'tenure'</li><li>'hours'</li><li>'wks_work'</li><li>'ln_wage'</li><li>'race.f'</li></ol>\n"
      ],
      "text/latex": [
       "\\begin{enumerate*}\n",
       "\\item 'idcode'\n",
       "\\item 'year'\n",
       "\\item 'birth\\_yr'\n",
       "\\item 'age'\n",
       "\\item 'race'\n",
       "\\item 'msp'\n",
       "\\item 'nev\\_mar'\n",
       "\\item 'grade'\n",
       "\\item 'collgrad'\n",
       "\\item 'not\\_smsa'\n",
       "\\item 'c\\_city'\n",
       "\\item 'south'\n",
       "\\item 'ind\\_code'\n",
       "\\item 'occ\\_code'\n",
       "\\item 'union'\n",
       "\\item 'wks\\_ue'\n",
       "\\item 'ttl\\_exp'\n",
       "\\item 'tenure'\n",
       "\\item 'hours'\n",
       "\\item 'wks\\_work'\n",
       "\\item 'ln\\_wage'\n",
       "\\item 'race.f'\n",
       "\\end{enumerate*}\n"
      ],
      "text/markdown": [
       "1. 'idcode'\n",
       "2. 'year'\n",
       "3. 'birth_yr'\n",
       "4. 'age'\n",
       "5. 'race'\n",
       "6. 'msp'\n",
       "7. 'nev_mar'\n",
       "8. 'grade'\n",
       "9. 'collgrad'\n",
       "10. 'not_smsa'\n",
       "11. 'c_city'\n",
       "12. 'south'\n",
       "13. 'ind_code'\n",
       "14. 'occ_code'\n",
       "15. 'union'\n",
       "16. 'wks_ue'\n",
       "17. 'ttl_exp'\n",
       "18. 'tenure'\n",
       "19. 'hours'\n",
       "20. 'wks_work'\n",
       "21. 'ln_wage'\n",
       "22. 'race.f'\n",
       "\n",
       "\n"
      ],
      "text/plain": [
       " [1] \"idcode\"   \"year\"     \"birth_yr\" \"age\"      \"race\"     \"msp\"     \n",
       " [7] \"nev_mar\"  \"grade\"    \"collgrad\" \"not_smsa\" \"c_city\"   \"south\"   \n",
       "[13] \"ind_code\" \"occ_code\" \"union\"    \"wks_ue\"   \"ttl_exp\"  \"tenure\"  \n",
       "[19] \"hours\"    \"wks_work\" \"ln_wage\"  \"race.f\"  "
      ]
     },
     "metadata": {},
     "output_type": "display_data"
    },
    {
     "data": {
      "text/plain": [
       "\n",
       "Call:\n",
       "lm(formula = ln_wage ~ hours * factor(race), data = nlswork, \n",
       "    na.action = na.exclude)\n",
       "\n",
       "Residuals:\n",
       "    Min      1Q  Median      3Q     Max \n",
       "-2.2250 -0.2977 -0.0372  0.2773  3.5830 \n",
       "\n",
       "Coefficients:\n",
       "                      Estimate Std. Error t value Pr(>|t|)    \n",
       "(Intercept)          1.5642487  0.0119505 130.894  < 2e-16 ***\n",
       "hours                0.0041663  0.0003176  13.118  < 2e-16 ***\n",
       "factor(race)2       -0.2297101  0.0276857  -8.297  < 2e-16 ***\n",
       "factor(race)3       -0.0555371  0.0990365  -0.561  0.57496    \n",
       "hours:factor(race)2  0.0021478  0.0007231   2.970  0.00298 ** \n",
       "hours:factor(race)3  0.0034971  0.0025710   1.360  0.17377    \n",
       "---\n",
       "Signif. codes:  0 '***' 0.001 '**' 0.01 '*' 0.05 '.' 0.1 ' ' 1\n",
       "\n",
       "Residual standard error: 0.4712 on 28461 degrees of freedom\n",
       "  (67 observations deleted due to missingness)\n",
       "Multiple R-squared:  0.02811,\tAdjusted R-squared:  0.02794 \n",
       "F-statistic: 164.7 on 5 and 28461 DF,  p-value: < 2.2e-16\n"
      ]
     },
     "metadata": {},
     "output_type": "display_data"
    },
    {
     "name": "stdout",
     "output_type": "stream",
     "text": [
      "\n",
      "Regression analysis\n",
      "=====================================================\n",
      "                      Model 1    Model 2    Model 3  \n",
      "hours                0.004***               0.004*** \n",
      "                     (0.0003)               (0.0003) \n",
      "factor(race)2                    -0.14***   -0.23*** \n",
      "                                  (0.01)     (0.03)  \n",
      "factor(race)3                    0.08***     -0.06   \n",
      "                                  (0.03)     (0.10)  \n",
      "hours:factor(race)2                         0.002*** \n",
      "                                            (0.001)  \n",
      "hours:factor(race)3                          0.003   \n",
      "                                            (0.003)  \n",
      "Constant              1.52***    1.71***    1.56***  \n",
      "                      (0.01)     (0.003)     (0.01)  \n",
      "N                     28,467      28,534     28,467  \n",
      "R2                     0.01        0.02       0.03   \n",
      "=====================================================\n",
      "Notes:              Standard errors in parentheses.  \n"
     ]
    }
   ],
   "source": [
    "  ## CATEGORICAL VARIABLES AND INTERACTIONS\n",
    "  \n",
    "  nlswork <- as.data.frame(read_dta(\"nlswork.dta\"))\n",
    "    table(nlswork$race)\n",
    "  \n",
    "  ## ADD A VARIALE\n",
    "  nlswork$race.f <- factor(nlswork$race)\n",
    "    is.factor(nlswork$race.f)\n",
    "  \n",
    "  str(nlswork$race)\n",
    "  \n",
    "  ## DEFINE THE REFERENCE CATEGORY\n",
    "  \n",
    "  summary(lm(ln_wage ~ relevel(factor(race),ref = 3),data=nlswork,na.action = na.exclude))\n",
    "  \n",
    "  mm1 <- lm(ln_wage ~ hours,data=nlswork,na.action = na.exclude)\n",
    "  summary(mm1)\n",
    "  \n",
    "    print(mm1$coefficients)\n",
    "    print(mm1$coefficients[2])\n",
    "    print(vcov(mm1))\n",
    "    print(vcov(mm1)[2,2])\n",
    "    summary(mm1)\n",
    "    print(vcov(mm1)[2,2]^.5)\n",
    "  \n",
    "  mm2 <- lm(ln_wage ~ factor(race),data=nlswork,na.action = na.exclude)\n",
    "  summary(mm2)\n",
    "\n",
    "  names(nlswork)\n",
    "  \n",
    "  mm3 <- lm(ln_wage ~ hours * factor(race),data=nlswork,na.action = na.exclude)\n",
    "  summary(mm3)\n",
    "  \n",
    "  stargazer(mm1,mm2, mm3,title = \"Regression analysis\", \n",
    "            model.numbers = FALSE,\n",
    "            column.labels = c(\"Model 1\",\"Model 2\",\"Model 3\"),\n",
    "            label = \"regressions\",\n",
    "            table.placement = \"!ht\",\n",
    "            notes.append = FALSE,\n",
    "            notes.align=\"l\",\n",
    "            notes=\"Standard errors in parentheses.\",\n",
    "            header = FALSE,\n",
    "            no.space = TRUE,\n",
    "            omit.stat = c(\"adj.rsq\",\"f\",\"ser\"),\n",
    "            digits = 2,\n",
    "            digits.extra = 4,\n",
    "            omit.yes.no = c(\"Constant\",\"\"),\n",
    "            dep.var.caption=\"\",\n",
    "            dep.var.labels.include = FALSE,\n",
    "            style = \"qje\",\n",
    "            type=\"text\")\n"
   ]
  },
  {
   "cell_type": "code",
   "execution_count": 8,
   "metadata": {},
   "outputs": [
    {
     "data": {
      "text/html": [
       "38540.2180746138"
      ],
      "text/latex": [
       "38540.2180746138"
      ],
      "text/markdown": [
       "38540.2180746138"
      ],
      "text/plain": [
       "[1] 38540.22"
      ]
     },
     "metadata": {},
     "output_type": "display_data"
    },
    {
     "data": {
      "text/html": [
       "38564.9875770157"
      ],
      "text/latex": [
       "38564.9875770157"
      ],
      "text/markdown": [
       "38564.9875770157"
      ],
      "text/plain": [
       "[1] 38564.99"
      ]
     },
     "metadata": {},
     "output_type": "display_data"
    },
    {
     "data": {
      "text/html": [
       "<table>\n",
       "<caption>A anova: 2 × 6</caption>\n",
       "<thead>\n",
       "\t<tr><th></th><th scope=col>Res.Df</th><th scope=col>RSS</th><th scope=col>Df</th><th scope=col>Sum of Sq</th><th scope=col>F</th><th scope=col>Pr(&gt;F)</th></tr>\n",
       "\t<tr><th></th><th scope=col>&lt;dbl&gt;</th><th scope=col>&lt;dbl&gt;</th><th scope=col>&lt;dbl&gt;</th><th scope=col>&lt;dbl&gt;</th><th scope=col>&lt;dbl&gt;</th><th scope=col>&lt;dbl&gt;</th></tr>\n",
       "</thead>\n",
       "<tbody>\n",
       "\t<tr><th scope=row>1</th><td>28466</td><td>6501.223</td><td>NA</td><td>     NA</td><td>      NA</td><td>          NA</td></tr>\n",
       "\t<tr><th scope=row>2</th><td>28465</td><td>6452.797</td><td> 1</td><td>48.4263</td><td>213.6212</td><td>3.331646e-48</td></tr>\n",
       "</tbody>\n",
       "</table>\n"
      ],
      "text/latex": [
       "A anova: 2 × 6\n",
       "\\begin{tabular}{r|llllll}\n",
       "  & Res.Df & RSS & Df & Sum of Sq & F & Pr(>F)\\\\\n",
       "  & <dbl> & <dbl> & <dbl> & <dbl> & <dbl> & <dbl>\\\\\n",
       "\\hline\n",
       "\t1 & 28466 & 6501.223 & NA &      NA &       NA &           NA\\\\\n",
       "\t2 & 28465 & 6452.797 &  1 & 48.4263 & 213.6212 & 3.331646e-48\\\\\n",
       "\\end{tabular}\n"
      ],
      "text/markdown": [
       "\n",
       "A anova: 2 × 6\n",
       "\n",
       "| <!--/--> | Res.Df &lt;dbl&gt; | RSS &lt;dbl&gt; | Df &lt;dbl&gt; | Sum of Sq &lt;dbl&gt; | F &lt;dbl&gt; | Pr(&gt;F) &lt;dbl&gt; |\n",
       "|---|---|---|---|---|---|---|\n",
       "| 1 | 28466 | 6501.223 | NA |      NA |       NA |           NA |\n",
       "| 2 | 28465 | 6452.797 |  1 | 48.4263 | 213.6212 | 3.331646e-48 |\n",
       "\n"
      ],
      "text/plain": [
       "  Res.Df RSS      Df Sum of Sq F        Pr(>F)      \n",
       "1 28466  6501.223 NA      NA         NA           NA\n",
       "2 28465  6452.797  1 48.4263   213.6212 3.331646e-48"
      ]
     },
     "metadata": {},
     "output_type": "display_data"
    },
    {
     "data": {
      "text/html": [
       "<table>\n",
       "<caption>A matrix: 3 × 3 of type dbl</caption>\n",
       "<thead>\n",
       "\t<tr><th></th><th scope=col>GVIF</th><th scope=col>Df</th><th scope=col>GVIF^(1/(2*Df))</th></tr>\n",
       "</thead>\n",
       "<tbody>\n",
       "\t<tr><th scope=row>hours</th><td>  1.259969</td><td>1</td><td>1.122483</td></tr>\n",
       "\t<tr><th scope=row>factor(race)</th><td>259.310717</td><td>2</td><td>4.012870</td></tr>\n",
       "\t<tr><th scope=row>hours:factor(race)</th><td>266.481272</td><td>2</td><td>4.040328</td></tr>\n",
       "</tbody>\n",
       "</table>\n"
      ],
      "text/latex": [
       "A matrix: 3 × 3 of type dbl\n",
       "\\begin{tabular}{r|lll}\n",
       "  & GVIF & Df & GVIF\\textasciicircum{}(1/(2*Df))\\\\\n",
       "\\hline\n",
       "\thours &   1.259969 & 1 & 1.122483\\\\\n",
       "\tfactor(race) & 259.310717 & 2 & 4.012870\\\\\n",
       "\thours:factor(race) & 266.481272 & 2 & 4.040328\\\\\n",
       "\\end{tabular}\n"
      ],
      "text/markdown": [
       "\n",
       "A matrix: 3 × 3 of type dbl\n",
       "\n",
       "| <!--/--> | GVIF | Df | GVIF^(1/(2*Df)) |\n",
       "|---|---|---|---|\n",
       "| hours |   1.259969 | 1 | 1.122483 |\n",
       "| factor(race) | 259.310717 | 2 | 4.012870 |\n",
       "| hours:factor(race) | 266.481272 | 2 | 4.040328 |\n",
       "\n"
      ],
      "text/plain": [
       "                   GVIF       Df GVIF^(1/(2*Df))\n",
       "hours                1.259969 1  1.122483       \n",
       "factor(race)       259.310717 2  4.012870       \n",
       "hours:factor(race) 266.481272 2  4.040328       "
      ]
     },
     "metadata": {},
     "output_type": "display_data"
    },
    {
     "data": {
      "text/html": [
       "129.137187815177"
      ],
      "text/latex": [
       "129.137187815177"
      ],
      "text/markdown": [
       "129.137187815177"
      ],
      "text/plain": [
       "[1] 129.1372"
      ]
     },
     "metadata": {},
     "output_type": "display_data"
    },
    {
     "data": {
      "text/plain": [
       "\n",
       "\tstudentized Breusch-Pagan test\n",
       "\n",
       "data:  mm4\n",
       "BP = 129.14, df = 1, p-value < 2.2e-16\n"
      ]
     },
     "metadata": {},
     "output_type": "display_data"
    },
    {
     "data": {
      "text/plain": [
       "\n",
       "\tstudentized Breusch-Pagan test\n",
       "\n",
       "data:  mm4\n",
       "BP = 776.43, df = 2, p-value < 2.2e-16\n"
      ]
     },
     "metadata": {},
     "output_type": "display_data"
    },
    {
     "name": "stdout",
     "output_type": "stream",
     "text": [
      "\n",
      "============================================================================\n",
      "                                      Dependent variable:                   \n",
      "                    --------------------------------------------------------\n",
      "                               ln_wage                                      \n",
      "                                 OLS                      coefficient       \n",
      "                                                             test           \n",
      "                                 (1)                   (2)          (3)     \n",
      "----------------------------------------------------------------------------\n",
      "hours                        0.0041790***          0.0041790*** 0.0041790***\n",
      "                             (0.0002859)           (0.0003847)  (0.0003847) \n",
      "                                                                            \n",
      "Constant                     1.5225140***          1.5225140*** 1.5225140***\n",
      "                             (0.0108276)           (0.0146145)  (0.0146139) \n",
      "                                                                            \n",
      "----------------------------------------------------------------------------\n",
      "Observations                    28,467                                      \n",
      "R2                            0.0074488                                     \n",
      "Adjusted R2                   0.0074139                                     \n",
      "Residual Std. Error     0.4761222 (df = 28465)                              \n",
      "F Statistic         213.6212000*** (df = 1; 28465)                          \n",
      "============================================================================\n",
      "Note:                                            *p<0.1; **p<0.05; ***p<0.01\n"
     ]
    },
    {
     "data": {
      "image/png": "[encoded data removed]",
      "text/plain": [
       "plot without title"
      ]
     },
     "metadata": {
      "image/png": {
       "height": 420,
       "width": 420
      }
     },
     "output_type": "display_data"
    }
   ],
   "source": [
    "    ## AIC & BIC\n",
    "    \n",
    "      AIC(mm1)\n",
    "      BIC(mm1)\n",
    "    \n",
    "    ## HYPOTHESIS TESTING    \n",
    "    \n",
    "      linearHypothesis(mm1,c(\"hours=0\"))\n",
    "    \n",
    "    ## COLINEARITY: VIF\n",
    "    \n",
    "      car::vif(mm3)\n",
    "    \n",
    "    ## HETEROSKEDASTICITY\n",
    "      \n",
    "      mm4 <- lm(ln_wage ~ hours,data=nlswork,na.action = na.exclude)\n",
    "      nlswork$residuals <- residuals(mm4)\n",
    "        plot(nlswork$hours,nlswork$residuals)\n",
    "      \n",
    "        nlswork$residuals_sq <- residuals(mm4)^2\n",
    "        \n",
    "        bp <- summary(lm(residuals_sq ~ hours,data=nlswork,na.action = na.exclude))\n",
    "        \n",
    "          bp$r.squared*nrow(as.data.frame(bp$residuals))\n",
    "        \n",
    "        ## Breusch-Pagan test\n",
    "          bptest(mm4)\n",
    "        \n",
    "        ## White test\n",
    "          bptest(mm4,~ hours + I(hours^2),data=nlswork)\n",
    "      \n",
    "      ## Robust estimation\n",
    "        r1mm4 <- coeftest(mm4,vcov =vcovHC(mm1,type = \"HC1\"))   # HC1 gives us the White standard errors\n",
    "        r2mm4 <- coeftest(mm4,vcov =sandwich)\n",
    "        stargazer(mm4,r1mm4,r2mm4,\n",
    "                  digits = 7,\n",
    "                  digits.extra = 10,\n",
    "                  type=\"text\")\n"
   ]
  },
  {
   "cell_type": "code",
   "execution_count": 10,
   "metadata": {},
   "outputs": [
    {
     "name": "stdout",
     "output_type": "stream",
     "text": [
      "\n",
      "Regression analysis\n",
      "===========================================\n",
      "                 OLS         instrumental  \n",
      "                               variable    \n",
      "               Model 1          Model 2    \n",
      "-------------------------------------------\n",
      "Education      0.09***          0.45***    \n",
      "               (0.004)          (0.16)     \n",
      "Experience     0.04***          0.39**     \n",
      "               (0.002)          (0.16)     \n",
      "N               3,010            3,010     \n",
      "R2               0.18            -5.89     \n",
      "===========================================\n",
      "Notes:     Standard errors in parentheses. \n"
     ]
    },
    {
     "data": {
      "text/plain": [
       "\n",
       "Call:\n",
       "ivreg(formula = lwage ~ educ + exper | educ + nearc4, data = card)\n",
       "\n",
       "Residuals:\n",
       "    Min      1Q  Median      3Q     Max \n",
       "-3.9871 -0.9077  0.1802  0.9349  2.8622 \n",
       "\n",
       "Coefficients:\n",
       "            Estimate Std. Error t value Pr(>|t|)   \n",
       "(Intercept)  -3.0929     3.4585  -0.894  0.37123   \n",
       "educ          0.4454     0.1572   2.833  0.00464 **\n",
       "exper         0.3893     0.1552   2.508  0.01221 * \n",
       "\n",
       "Diagnostic tests:\n",
       "                  df1  df2 statistic  p-value    \n",
       "Weak instruments    1 3007     5.902   0.0152 *  \n",
       "Wu-Hausman          1 3006    42.997 6.43e-11 ***\n",
       "Sargan              0   NA        NA       NA    \n",
       "---\n",
       "Signif. codes:  0 '***' 0.001 '**' 0.01 '*' 0.05 '.' 0.1 ' ' 1\n",
       "\n",
       "Residual standard error: 1.165 on 3007 degrees of freedom\n",
       "Multiple R-Squared: -5.891,\tAdjusted R-squared: -5.896 \n",
       "Wald test: 23.57 on 2 and 3007 DF,  p-value: 6.936e-11 \n"
      ]
     },
     "metadata": {},
     "output_type": "display_data"
    }
   ],
   "source": [
    "# Instrumental variables\n",
    "  library(ivreg)\n",
    "        card <- read_dta(\"card.dta\")\n",
    "        \n",
    "        ols <- lm(data=card,lwage ~ educ + exper)\n",
    "        iv <- ivreg(data=card,lwage ~ educ + exper | educ + nearc4)\n",
    "\n",
    "        stargazer(ols,iv,title = \"Regression analysis\", \n",
    "                  model.numbers = FALSE,\n",
    "                  column.labels = c(\"Model 1\",\"Model 2\"),\n",
    "                  label = \"regressions\",\n",
    "                  table.placement = \"!ht\",\n",
    "                  notes.append = FALSE,\n",
    "                  notes.align=\"l\",\n",
    "                  notes=\"Standard errors in parentheses.\",\n",
    "                  header = FALSE,\n",
    "                  no.space = TRUE,\n",
    "                  covariate.labels = c(\"Education\",\"Experience\"),\n",
    "                  omit = c(\"Constant\"),\n",
    "                  omit.stat = c(\"adj.rsq\",\"f\",\"ser\"),\n",
    "                  digits = 2,\n",
    "                  digits.extra = 4,\n",
    "                  omit.yes.no = c(\"Constant\",\"\"),\n",
    "                  dep.var.caption=\"\",\n",
    "                  dep.var.labels.include = FALSE,\n",
    "                  style = \"qje\",\n",
    "                  type=\"text\")\n",
    "        \n",
    "## Tests and diagnosis\n",
    "        \n",
    "        summary(iv,vcov=sandwich,diagnostics = TRUE)\n"
   ]
  },
  {
   "cell_type": "code",
   "execution_count": 12,
   "metadata": {},
   "outputs": [
    {
     "name": "stderr",
     "output_type": "stream",
     "text": [
      "The following object is masked from package:robustbase:\n",
      "\n",
      "    milk\n",
      "\n",
      "\n"
     ]
    },
    {
     "name": "stdout",
     "output_type": "stream",
     "text": [
      "tibble [1,652 x 30] (S3: tbl_df/tbl/data.frame)\n",
      " $ nh      : num [1:1652] 11054 11054 11061 11061 11081 ...\n",
      "  ..- attr(*, \"label\")= chr \"HH ID\"\n",
      "  ..- attr(*, \"format.stata\")= chr \"%7.0f\"\n",
      " $ year    : num [1:1652] 0 1 0 1 0 1 0 1 0 1 ...\n",
      "  ..- attr(*, \"label\")= chr \"Year of observation: 0=1991, 1=1998\"\n",
      "  ..- attr(*, \"format.stata\")= chr \"%9.0g\"\n",
      " $ villid  : num [1:1652] 1 1 1 1 1 1 1 1 2 2 ...\n",
      "  ..- attr(*, \"label\")= chr \"Village ID\"\n",
      "  ..- attr(*, \"format.stata\")= chr \"%9.0g\"\n",
      " $ thanaid : num [1:1652] 1 1 1 1 1 1 1 1 1 1 ...\n",
      "  ..- attr(*, \"label\")= chr \"Thana ID\"\n",
      "  ..- attr(*, \"format.stata\")= chr \"%9.0g\"\n",
      " $ agehead : num [1:1652] 72 79 35 43 54 52 44 48 28 35 ...\n",
      "  ..- attr(*, \"label\")= chr \"Age of HH head: years\"\n",
      "  ..- attr(*, \"format.stata\")= chr \"%3.0f\"\n",
      " $ sexhead : num [1:1652] 1 1 1 1 1 0 1 1 1 1 ...\n",
      "  ..- attr(*, \"label\")= chr \"Gender of HH head: 1=M, 0=F\"\n",
      "  ..- attr(*, \"format.stata\")= chr \"%2.0f\"\n",
      " $ educhead: num [1:1652] 0 0 5 6 3 0 5 0 8 10 ...\n",
      "  ..- attr(*, \"label\")= chr \"Education of HH head: years\"\n",
      "  ..- attr(*, \"format.stata\")= chr \"%2.0f\"\n",
      " $ famsize : num [1:1652] 3 2 10 4 6 7 7 7 6 5 ...\n",
      "  ..- attr(*, \"label\")= chr \"HH size\"\n",
      "  ..- attr(*, \"format.stata\")= chr \"%9.2f\"\n",
      " $ hhland  : num [1:1652] 36 36 116 116 91 91 8 8 10 10 ...\n",
      "  ..- attr(*, \"label\")= chr \"HH land: decimals\"\n",
      "  ..- attr(*, \"format.stata\")= chr \"%9.0g\"\n",
      " $ hhasset : num [1:1652] 33295 33295 180325 180325 80735 ...\n",
      "  ..- attr(*, \"label\")= chr \"HH total asset: Tk.\"\n",
      "  ..- attr(*, \"format.stata\")= chr \"%9.0g\"\n",
      " $ expfd   : num [1:1652] 3056 8263 3031 6725 3348 ...\n",
      "  ..- attr(*, \"label\")= chr \"HH per capita food expenditure: Tk/year\"\n",
      "  ..- attr(*, \"format.stata\")= chr \"%9.0g\"\n",
      " $ expnfd  : num [1:1652] 902 1240 421 12486 343 ...\n",
      "  ..- attr(*, \"label\")= chr \"HH per capita nonfood expenditure: Tk/year\"\n",
      "  ..- attr(*, \"format.stata\")= chr \"%9.0g\"\n",
      " $ exptot  : num [1:1652] 3958 9503 3452 19211 3691 ...\n",
      "  ..- attr(*, \"label\")= chr \"HH per capita total expenditure: Tk/year\"\n",
      "  ..- attr(*, \"format.stata\")= chr \"%9.0g\"\n",
      " $ dmmfd   : num [1:1652] 0 0 1 1 1 0 0 0 0 0 ...\n",
      "  ..- attr(*, \"label\")= chr \"HH has male microcredit participant: 1=Y, 0=N\"\n",
      "  ..- attr(*, \"format.stata\")= chr \"%8.0g\"\n",
      " $ dfmfd   : num [1:1652] 0 1 0 1 1 1 1 1 1 1 ...\n",
      "  ..- attr(*, \"label\")= chr \"HH has female microcredit participant: 1=Y, 0=N\"\n",
      "  ..- attr(*, \"format.stata\")= chr \"%8.0g\"\n",
      " $ weight  : num [1:1652] 1.04 1.04 1.01 1.01 1.01 ...\n",
      "  ..- attr(*, \"label\")= chr \"HH sampling weight\"\n",
      "  ..- attr(*, \"format.stata\")= chr \"%9.0g\"\n",
      " $ vaccess : num [1:1652] 1 1 1 1 1 1 1 1 1 1 ...\n",
      "  ..- attr(*, \"label\")= chr \"Village is accessible by road all year: 1=Y, 0=N\"\n",
      "  ..- attr(*, \"format.stata\")= chr \"%9.0g\"\n",
      " $ pcirr   : num [1:1652] 0.45 0.45 0.45 0.45 0.45 ...\n",
      "  ..- attr(*, \"label\")= chr \"Proportion of village land irrigated\"\n",
      "  ..- attr(*, \"format.stata\")= chr \"%9.0g\"\n",
      " $ rice    : num [1:1652] 11 12.6 11 12.6 11 ...\n",
      "  ..- attr(*, \"label\")= chr \"Village price of rice: Tk./kg\"\n",
      "  ..- attr(*, \"format.stata\")= chr \"%9.3f\"\n",
      " $ wheat   : num [1:1652] 8.5 8.12 8.5 8.12 8.5 ...\n",
      "  ..- attr(*, \"label\")= chr \"Village price of wheat: Tk./kg\"\n",
      "  ..- attr(*, \"format.stata\")= chr \"%9.3f\"\n",
      " $ milk    : num [1:1652] 12 11.5 12 11.5 12 ...\n",
      "  ..- attr(*, \"label\")= chr \"Village price of milk: Tk./liter\"\n",
      "  ..- attr(*, \"format.stata\")= chr \"%9.3f\"\n",
      " $ potato  : num [1:1652] 8 8.55 8 8.55 8 ...\n",
      "  ..- attr(*, \"label\")= chr \"Village price of potato: Tk./kg\"\n",
      "  ..- attr(*, \"format.stata\")= chr \"%9.3f\"\n",
      " $ egg     : num [1:1652] 2.5 2.2 2.5 2.2 2.5 ...\n",
      "  ..- attr(*, \"label\")= chr \"Village price of egg: Tk./4 counts\"\n",
      "  ..- attr(*, \"format.stata\")= chr \"%9.3f\"\n",
      " $ oil     : num [1:1652] 55 40.6 55 40.6 55 ...\n",
      "  ..- attr(*, \"label\")= chr \"Village price of edible oil: Tk./kg\"\n",
      "  ..- attr(*, \"format.stata\")= chr \"%9.3f\"\n",
      " $ lexptot : num [1:1652] 8.28 9.16 8.15 9.86 8.21 ...\n",
      "  ..- attr(*, \"format.stata\")= chr \"%9.0g\"\n",
      " $ dfmfd1  : num [1:1652] 0 1 0 1 0 1 0 1 0 1 ...\n",
      "  ..- attr(*, \"format.stata\")= chr \"%9.0g\"\n",
      " $ dfmfd98 : num [1:1652] 1 1 1 1 1 1 1 1 1 1 ...\n",
      "  ..- attr(*, \"format.stata\")= chr \"%9.0g\"\n",
      " $ treated : num [1:1652] 1 1 1 1 1 1 1 1 1 1 ...\n",
      "  ..- attr(*, \"format.stata\")= chr \"%9.0g\"\n",
      " $ after   : num [1:1652] 0 1 0 1 0 1 0 1 0 1 ...\n",
      "  ..- attr(*, \"format.stata\")= chr \"%9.0g\"\n",
      " $ lnland  : num [1:1652] 0.307 0.307 0.77 0.77 0.647 ...\n",
      "  ..- attr(*, \"label\")= chr \"HH land: decimals\"\n",
      "  ..- attr(*, \"format.stata\")= chr \"%9.0g\"\n"
     ]
    },
    {
     "data": {
      "text/html": [
       "<table>\n",
       "<caption>A data.frame: 13 × 2</caption>\n",
       "<thead>\n",
       "\t<tr><th scope=col>Descriptions</th><th scope=col>Value</th></tr>\n",
       "\t<tr><th scope=col>&lt;chr&gt;</th><th scope=col>&lt;chr&gt;</th></tr>\n",
       "</thead>\n",
       "<tbody>\n",
       "\t<tr><td>Sample size (nrow)                                 </td><td>1652     </td></tr>\n",
       "\t<tr><td>No. of variables (ncol)                            </td><td>30       </td></tr>\n",
       "\t<tr><td>No. of numeric/interger variables                  </td><td>30       </td></tr>\n",
       "\t<tr><td>No. of factor variables                            </td><td>0        </td></tr>\n",
       "\t<tr><td>No. of text variables                              </td><td>0        </td></tr>\n",
       "\t<tr><td>No. of logical variables                           </td><td>0        </td></tr>\n",
       "\t<tr><td>No. of identifier variables                        </td><td>0        </td></tr>\n",
       "\t<tr><td>No. of date variables                              </td><td>0        </td></tr>\n",
       "\t<tr><td>No. of zero variance variables (uniform)           </td><td>0        </td></tr>\n",
       "\t<tr><td>%. of variables having complete cases              </td><td>100% (30)</td></tr>\n",
       "\t<tr><td><span style=white-space:pre-wrap>%. of variables having &gt;0% and &lt;50% missing cases  </span></td><td><span style=white-space:pre-wrap>0% (0)   </span></td></tr>\n",
       "\t<tr><td>%. of variables having &gt;=50% and &lt;90% missing cases</td><td><span style=white-space:pre-wrap>0% (0)   </span></td></tr>\n",
       "\t<tr><td><span style=white-space:pre-wrap>%. of variables having &gt;=90% missing cases         </span></td><td><span style=white-space:pre-wrap>0% (0)   </span></td></tr>\n",
       "</tbody>\n",
       "</table>\n"
      ],
      "text/latex": [
       "A data.frame: 13 × 2\n",
       "\\begin{tabular}{ll}\n",
       " Descriptions & Value\\\\\n",
       " <chr> & <chr>\\\\\n",
       "\\hline\n",
       "\t Sample size (nrow)                                  & 1652     \\\\\n",
       "\t No. of variables (ncol)                             & 30       \\\\\n",
       "\t No. of numeric/interger variables                   & 30       \\\\\n",
       "\t No. of factor variables                             & 0        \\\\\n",
       "\t No. of text variables                               & 0        \\\\\n",
       "\t No. of logical variables                            & 0        \\\\\n",
       "\t No. of identifier variables                         & 0        \\\\\n",
       "\t No. of date variables                               & 0        \\\\\n",
       "\t No. of zero variance variables (uniform)            & 0        \\\\\n",
       "\t \\%. of variables having complete cases               & 100\\% (30)\\\\\n",
       "\t \\%. of variables having >0\\% and <50\\% missing cases   & 0\\% (0)   \\\\\n",
       "\t \\%. of variables having >=50\\% and <90\\% missing cases & 0\\% (0)   \\\\\n",
       "\t \\%. of variables having >=90\\% missing cases          & 0\\% (0)   \\\\\n",
       "\\end{tabular}\n"
      ],
      "text/markdown": [
       "\n",
       "A data.frame: 13 × 2\n",
       "\n",
       "| Descriptions &lt;chr&gt; | Value &lt;chr&gt; |\n",
       "|---|---|\n",
       "| Sample size (nrow)                                  | 1652      |\n",
       "| No. of variables (ncol)                             | 30        |\n",
       "| No. of numeric/interger variables                   | 30        |\n",
       "| No. of factor variables                             | 0         |\n",
       "| No. of text variables                               | 0         |\n",
       "| No. of logical variables                            | 0         |\n",
       "| No. of identifier variables                         | 0         |\n",
       "| No. of date variables                               | 0         |\n",
       "| No. of zero variance variables (uniform)            | 0         |\n",
       "| %. of variables having complete cases               | 100% (30) |\n",
       "| %. of variables having &gt;0% and &lt;50% missing cases   | 0% (0)    |\n",
       "| %. of variables having &gt;=50% and &lt;90% missing cases | 0% (0)    |\n",
       "| %. of variables having &gt;=90% missing cases          | 0% (0)    |\n",
       "\n"
      ],
      "text/plain": [
       "   Descriptions                                        Value    \n",
       "1  Sample size (nrow)                                  1652     \n",
       "2  No. of variables (ncol)                             30       \n",
       "3  No. of numeric/interger variables                   30       \n",
       "4  No. of factor variables                             0        \n",
       "5  No. of text variables                               0        \n",
       "6  No. of logical variables                            0        \n",
       "7  No. of identifier variables                         0        \n",
       "8  No. of date variables                               0        \n",
       "9  No. of zero variance variables (uniform)            0        \n",
       "10 %. of variables having complete cases               100% (30)\n",
       "11 %. of variables having >0% and <50% missing cases   0% (0)   \n",
       "12 %. of variables having >=50% and <90% missing cases 0% (0)   \n",
       "13 %. of variables having >=90% missing cases          0% (0)   "
      ]
     },
     "metadata": {},
     "output_type": "display_data"
    },
    {
     "data": {
      "text/html": [
       "<table>\n",
       "<caption>A data.frame: 30 × 5</caption>\n",
       "<thead>\n",
       "\t<tr><th scope=col>Index</th><th scope=col>Variable_Name</th><th scope=col>Variable_Type</th><th scope=col>Per_of_Missing</th><th scope=col>No_of_distinct_values</th></tr>\n",
       "\t<tr><th scope=col>&lt;dbl&gt;</th><th scope=col>&lt;chr&gt;</th><th scope=col>&lt;chr&gt;</th><th scope=col>&lt;dbl&gt;</th><th scope=col>&lt;int&gt;</th></tr>\n",
       "</thead>\n",
       "<tbody>\n",
       "\t<tr><td> 1</td><td>nh      </td><td>numeric</td><td>0</td><td> 826</td></tr>\n",
       "\t<tr><td> 2</td><td>year    </td><td>numeric</td><td>0</td><td>   2</td></tr>\n",
       "\t<tr><td> 3</td><td>villid  </td><td>numeric</td><td>0</td><td>   3</td></tr>\n",
       "\t<tr><td> 4</td><td>thanaid </td><td>numeric</td><td>0</td><td>  29</td></tr>\n",
       "\t<tr><td> 5</td><td>agehead </td><td>numeric</td><td>0</td><td>  64</td></tr>\n",
       "\t<tr><td> 6</td><td>sexhead </td><td>numeric</td><td>0</td><td>   2</td></tr>\n",
       "\t<tr><td> 7</td><td>educhead</td><td>numeric</td><td>0</td><td>  17</td></tr>\n",
       "\t<tr><td> 8</td><td>famsize </td><td>numeric</td><td>0</td><td>  18</td></tr>\n",
       "\t<tr><td> 9</td><td>hhland  </td><td>numeric</td><td>0</td><td> 313</td></tr>\n",
       "\t<tr><td>10</td><td>hhasset </td><td>numeric</td><td>0</td><td>1079</td></tr>\n",
       "\t<tr><td>11</td><td>expfd   </td><td>numeric</td><td>0</td><td>1601</td></tr>\n",
       "\t<tr><td>12</td><td>expnfd  </td><td>numeric</td><td>0</td><td>1632</td></tr>\n",
       "\t<tr><td>13</td><td>exptot  </td><td>numeric</td><td>0</td><td>1648</td></tr>\n",
       "\t<tr><td>14</td><td>dmmfd   </td><td>numeric</td><td>0</td><td>   2</td></tr>\n",
       "\t<tr><td>15</td><td>dfmfd   </td><td>numeric</td><td>0</td><td>   2</td></tr>\n",
       "\t<tr><td>16</td><td>weight  </td><td>numeric</td><td>0</td><td> 286</td></tr>\n",
       "\t<tr><td>17</td><td>vaccess </td><td>numeric</td><td>0</td><td>   2</td></tr>\n",
       "\t<tr><td>18</td><td>pcirr   </td><td>numeric</td><td>0</td><td>  35</td></tr>\n",
       "\t<tr><td>19</td><td>rice    </td><td>numeric</td><td>0</td><td>  46</td></tr>\n",
       "\t<tr><td>20</td><td>wheat   </td><td>numeric</td><td>0</td><td>  20</td></tr>\n",
       "\t<tr><td>21</td><td>milk    </td><td>numeric</td><td>0</td><td>  25</td></tr>\n",
       "\t<tr><td>22</td><td>potato  </td><td>numeric</td><td>0</td><td>  41</td></tr>\n",
       "\t<tr><td>23</td><td>egg     </td><td>numeric</td><td>0</td><td>  16</td></tr>\n",
       "\t<tr><td>24</td><td>oil     </td><td>numeric</td><td>0</td><td>  20</td></tr>\n",
       "\t<tr><td>25</td><td>lexptot </td><td>numeric</td><td>0</td><td>1648</td></tr>\n",
       "\t<tr><td>26</td><td>dfmfd1  </td><td>numeric</td><td>0</td><td>   2</td></tr>\n",
       "\t<tr><td>27</td><td>dfmfd98 </td><td>numeric</td><td>0</td><td>   2</td></tr>\n",
       "\t<tr><td>28</td><td>treated </td><td>numeric</td><td>0</td><td>   2</td></tr>\n",
       "\t<tr><td>29</td><td>after   </td><td>numeric</td><td>0</td><td>   2</td></tr>\n",
       "\t<tr><td>30</td><td>lnland  </td><td>numeric</td><td>0</td><td> 313</td></tr>\n",
       "</tbody>\n",
       "</table>\n"
      ],
      "text/latex": [
       "A data.frame: 30 × 5\n",
       "\\begin{tabular}{lllll}\n",
       " Index & Variable\\_Name & Variable\\_Type & Per\\_of\\_Missing & No\\_of\\_distinct\\_values\\\\\n",
       " <dbl> & <chr> & <chr> & <dbl> & <int>\\\\\n",
       "\\hline\n",
       "\t  1 & nh       & numeric & 0 &  826\\\\\n",
       "\t  2 & year     & numeric & 0 &    2\\\\\n",
       "\t  3 & villid   & numeric & 0 &    3\\\\\n",
       "\t  4 & thanaid  & numeric & 0 &   29\\\\\n",
       "\t  5 & agehead  & numeric & 0 &   64\\\\\n",
       "\t  6 & sexhead  & numeric & 0 &    2\\\\\n",
       "\t  7 & educhead & numeric & 0 &   17\\\\\n",
       "\t  8 & famsize  & numeric & 0 &   18\\\\\n",
       "\t  9 & hhland   & numeric & 0 &  313\\\\\n",
       "\t 10 & hhasset  & numeric & 0 & 1079\\\\\n",
       "\t 11 & expfd    & numeric & 0 & 1601\\\\\n",
       "\t 12 & expnfd   & numeric & 0 & 1632\\\\\n",
       "\t 13 & exptot   & numeric & 0 & 1648\\\\\n",
       "\t 14 & dmmfd    & numeric & 0 &    2\\\\\n",
       "\t 15 & dfmfd    & numeric & 0 &    2\\\\\n",
       "\t 16 & weight   & numeric & 0 &  286\\\\\n",
       "\t 17 & vaccess  & numeric & 0 &    2\\\\\n",
       "\t 18 & pcirr    & numeric & 0 &   35\\\\\n",
       "\t 19 & rice     & numeric & 0 &   46\\\\\n",
       "\t 20 & wheat    & numeric & 0 &   20\\\\\n",
       "\t 21 & milk     & numeric & 0 &   25\\\\\n",
       "\t 22 & potato   & numeric & 0 &   41\\\\\n",
       "\t 23 & egg      & numeric & 0 &   16\\\\\n",
       "\t 24 & oil      & numeric & 0 &   20\\\\\n",
       "\t 25 & lexptot  & numeric & 0 & 1648\\\\\n",
       "\t 26 & dfmfd1   & numeric & 0 &    2\\\\\n",
       "\t 27 & dfmfd98  & numeric & 0 &    2\\\\\n",
       "\t 28 & treated  & numeric & 0 &    2\\\\\n",
       "\t 29 & after    & numeric & 0 &    2\\\\\n",
       "\t 30 & lnland   & numeric & 0 &  313\\\\\n",
       "\\end{tabular}\n"
      ],
      "text/markdown": [
       "\n",
       "A data.frame: 30 × 5\n",
       "\n",
       "| Index &lt;dbl&gt; | Variable_Name &lt;chr&gt; | Variable_Type &lt;chr&gt; | Per_of_Missing &lt;dbl&gt; | No_of_distinct_values &lt;int&gt; |\n",
       "|---|---|---|---|---|\n",
       "|  1 | nh       | numeric | 0 |  826 |\n",
       "|  2 | year     | numeric | 0 |    2 |\n",
       "|  3 | villid   | numeric | 0 |    3 |\n",
       "|  4 | thanaid  | numeric | 0 |   29 |\n",
       "|  5 | agehead  | numeric | 0 |   64 |\n",
       "|  6 | sexhead  | numeric | 0 |    2 |\n",
       "|  7 | educhead | numeric | 0 |   17 |\n",
       "|  8 | famsize  | numeric | 0 |   18 |\n",
       "|  9 | hhland   | numeric | 0 |  313 |\n",
       "| 10 | hhasset  | numeric | 0 | 1079 |\n",
       "| 11 | expfd    | numeric | 0 | 1601 |\n",
       "| 12 | expnfd   | numeric | 0 | 1632 |\n",
       "| 13 | exptot   | numeric | 0 | 1648 |\n",
       "| 14 | dmmfd    | numeric | 0 |    2 |\n",
       "| 15 | dfmfd    | numeric | 0 |    2 |\n",
       "| 16 | weight   | numeric | 0 |  286 |\n",
       "| 17 | vaccess  | numeric | 0 |    2 |\n",
       "| 18 | pcirr    | numeric | 0 |   35 |\n",
       "| 19 | rice     | numeric | 0 |   46 |\n",
       "| 20 | wheat    | numeric | 0 |   20 |\n",
       "| 21 | milk     | numeric | 0 |   25 |\n",
       "| 22 | potato   | numeric | 0 |   41 |\n",
       "| 23 | egg      | numeric | 0 |   16 |\n",
       "| 24 | oil      | numeric | 0 |   20 |\n",
       "| 25 | lexptot  | numeric | 0 | 1648 |\n",
       "| 26 | dfmfd1   | numeric | 0 |    2 |\n",
       "| 27 | dfmfd98  | numeric | 0 |    2 |\n",
       "| 28 | treated  | numeric | 0 |    2 |\n",
       "| 29 | after    | numeric | 0 |    2 |\n",
       "| 30 | lnland   | numeric | 0 |  313 |\n",
       "\n"
      ],
      "text/plain": [
       "   Index Variable_Name Variable_Type Per_of_Missing No_of_distinct_values\n",
       "1   1    nh            numeric       0               826                 \n",
       "2   2    year          numeric       0                 2                 \n",
       "3   3    villid        numeric       0                 3                 \n",
       "4   4    thanaid       numeric       0                29                 \n",
       "5   5    agehead       numeric       0                64                 \n",
       "6   6    sexhead       numeric       0                 2                 \n",
       "7   7    educhead      numeric       0                17                 \n",
       "8   8    famsize       numeric       0                18                 \n",
       "9   9    hhland        numeric       0               313                 \n",
       "10 10    hhasset       numeric       0              1079                 \n",
       "11 11    expfd         numeric       0              1601                 \n",
       "12 12    expnfd        numeric       0              1632                 \n",
       "13 13    exptot        numeric       0              1648                 \n",
       "14 14    dmmfd         numeric       0                 2                 \n",
       "15 15    dfmfd         numeric       0                 2                 \n",
       "16 16    weight        numeric       0               286                 \n",
       "17 17    vaccess       numeric       0                 2                 \n",
       "18 18    pcirr         numeric       0                35                 \n",
       "19 19    rice          numeric       0                46                 \n",
       "20 20    wheat         numeric       0                20                 \n",
       "21 21    milk          numeric       0                25                 \n",
       "22 22    potato        numeric       0                41                 \n",
       "23 23    egg           numeric       0                16                 \n",
       "24 24    oil           numeric       0                20                 \n",
       "25 25    lexptot       numeric       0              1648                 \n",
       "26 26    dfmfd1        numeric       0                 2                 \n",
       "27 27    dfmfd98       numeric       0                 2                 \n",
       "28 28    treated       numeric       0                 2                 \n",
       "29 29    after         numeric       0                 2                 \n",
       "30 30    lnland        numeric       0               313                 "
      ]
     },
     "metadata": {},
     "output_type": "display_data"
    },
    {
     "data": {
      "text/plain": [
       "     0   1\n",
       "          \n",
       "0  391 391\n",
       "1  435 435"
      ]
     },
     "metadata": {},
     "output_type": "display_data"
    },
    {
     "name": "stdout",
     "output_type": "stream",
     "text": [
      "\n",
      "Regression analysis\n",
      "================================================================\n",
      "                                    Model 1          Model 2    \n",
      "Treated0                            -0.11***          -0.01     \n",
      "                                     (0.03)          (0.03)     \n",
      "After                               0.15***          0.25***    \n",
      "                                     (0.03)          (0.05)     \n",
      "sexhead                                              -0.08**    \n",
      "                                                     (0.04)     \n",
      "agehead                                              0.001*     \n",
      "                                                     (0.001)    \n",
      "educhead                                             0.04***    \n",
      "                                                     (0.003)    \n",
      "lnland                                               0.21***    \n",
      "                                                     (0.02)     \n",
      "vaccess                                               -0.02     \n",
      "                                                     (0.04)     \n",
      "pcirr                                                0.11***    \n",
      "                                                     (0.04)     \n",
      "rice                                                 -0.003     \n",
      "                                                     (0.01)     \n",
      "wheat                                                 0.004     \n",
      "                                                     (0.01)     \n",
      "milk                                                 0.02***    \n",
      "                                                     (0.004)    \n",
      "oil                                                   0.002     \n",
      "                                                     (0.003)    \n",
      "egg                                                  0.12***    \n",
      "                                                     (0.04)     \n",
      "factor(treated)1:factor(after)1      0.11**          0.09**     \n",
      "                                     (0.05)          (0.04)     \n",
      "N                                    1,652            1,652     \n",
      "R2                                    0.06            0.23      \n",
      "================================================================\n",
      "Notes:                          Standard errors in parentheses. \n"
     ]
    }
   ],
   "source": [
    "# Diff-in-Diff\n",
    "        \n",
    "  hh_9198 <- read_dta(\"hh_9198_v2.dta\")\n",
    "  \n",
    "  hh_9198$lnland <- log(1+hh_9198$hhland/100)\n",
    "  \n",
    "  attach(hh_9198)\n",
    "  \n",
    "  # dfmfd=treated: HH has female microcredit participant: 1=Y, 0=N\n",
    "  # year=after: Year of observation: 0=1991, 1=1998\n",
    "  # exptot: HH per capita total expenditure: Tk/year\n",
    "  # lexptot = ln(exptot)\n",
    "  \n",
    "  str(hh_9198)\n",
    "  ExpData(hh_9198,type=1)\n",
    "  ExpData(hh_9198,type=2)\n",
    "  \n",
    "  ftable(hh_9198$treated,hh_9198$after)\n",
    "  \n",
    "  DiD1 <- lm(data=hh_9198,lexptot ~ factor(treated)*factor(after))\n",
    "  \n",
    "  DiD2 <- lm(data=hh_9198,lexptot ~ factor(treated)*factor(after) + \n",
    "               sexhead + agehead + educhead + lnland + vaccess + \n",
    "               pcirr + rice + wheat + milk + oil + egg)\n",
    "  \n",
    "  stargazer(DiD1,DiD2,title = \"Regression analysis\", \n",
    "            model.numbers = FALSE,\n",
    "            column.labels = c(\"Model 1\",\"Model 2\"),\n",
    "            label = \"regressions\",\n",
    "            table.placement = \"!ht\",\n",
    "            notes.append = FALSE,\n",
    "            notes.align=\"l\",\n",
    "            notes=\"Standard errors in parentheses.\",\n",
    "            header = FALSE,\n",
    "            no.space = TRUE,\n",
    "            covariate.labels = c(\"Treated0\",\"After\"),\n",
    "            omit = c(\"Constant\"),\n",
    "            omit.stat = c(\"adj.rsq\",\"f\",\"ser\"),\n",
    "            digits = 2,\n",
    "            digits.extra = 4,\n",
    "            omit.yes.no = c(\"Constant\",\"\"),\n",
    "            dep.var.caption=\"\",\n",
    "            dep.var.labels.include = FALSE,\n",
    "            style = \"qje\",\n",
    "            type=\"text\")\n",
    "  \n",
    "# sink()\n"
   ]
  },
  {
   "cell_type": "code",
   "execution_count": null,
   "metadata": {},
   "outputs": [],
   "source": []
  }
 ],
 "metadata": {
  "kernelspec": {
   "display_name": "R",
   "language": "R",
   "name": "ir"
  },
  "language_info": {
   "codemirror_mode": "r",
   "file_extension": ".r",
   "mimetype": "text/x-r-source",
   "name": "R",
   "pygments_lexer": "r",
   "version": "4.0.3"
  }
 },
 "nbformat": 4,
 "nbformat_minor": 4
}
