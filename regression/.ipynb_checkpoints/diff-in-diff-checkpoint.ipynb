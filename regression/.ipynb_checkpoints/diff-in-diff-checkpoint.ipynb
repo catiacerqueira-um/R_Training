{
 "cells": [
  {
   "cell_type": "code",
   "execution_count": null,
   "metadata": {},
   "outputs": [],
   "source": [
    "# Applied Data Analysis School: October/november 2020\n",
    "# 6. REGRESSION ANALYSIS AND CAUSALITY WITH R | By: João Cerejeira | 10 & 12 November\n",
    "# https://www.gades-solutions.com/project/data-analysis-school/\n",
    "\n",
    "setwd(\"C:/Users/mangelo.EEG/Documents/GitHub/R_Training/regression\")\n",
    "\n",
    "# setwd(\"C:\\\\Users\\\\JoaoCerejeira\\\\Dropbox\\\\statafep2020\\\\day2\\\\r\")\n",
    "\n",
    "\n",
    "# library(devtools)\n",
    "# install.packages(\"devtools\")  # if not already installed\n",
    "# install_git(\"https://github.com/ccolonescu/PoEdata\")\n",
    "\n",
    "\n",
    "rm(list = ls())\n",
    "\n",
    "library(stargazer)\n",
    "library(PoEdata)   # loads the package in memory\n",
    "?njmin3              # shows dataset information\n",
    "data(njmin3)         # loads the dataset in memory\n",
    "summary(njmin3)      # calculates summary statistics\n",
    "head(njmin3)         # shows the head of the data set\n"
   ]
  },
  {
   "cell_type": "code",
   "execution_count": null,
   "metadata": {},
   "outputs": [],
   "source": [
    "mod1 <- lm(fte~nj*d, data=njmin3)\n",
    "mod2 <- lm(fte~nj*d+\n",
    "             kfc+roys+wendys+co_owned, data=njmin3)\n",
    "mod3 <- lm(fte~nj*d+\n",
    "             kfc+roys+wendys+co_owned+\n",
    "             southj+centralj+pa1, data=njmin3)\n",
    "\n",
    "stargazer(mod1,mod2,mod3, \n",
    "          type=\"text\",\n",
    "          title=\"Difference in Differences example\",\n",
    "          header=FALSE, keep.stat=\"n\",digits=2 \n",
    "          #         single.row=TRUE, intercept.bottom=FALSE\n",
    ")\n"
   ]
  },
  {
   "cell_type": "code",
   "execution_count": null,
   "metadata": {},
   "outputs": [],
   "source": [
    "tdelta <- summary(mod1)$coefficients[4,3]\n",
    "  tdelta\n",
    "\n",
    "b1 <- coef(mod1)[[1]]\n",
    "b2 <- coef(mod1)[[\"nj\"]]\n",
    "b3 <- coef(mod1)[[\"d\"]]\n",
    "delta <- coef(mod1)[[\"nj:d\"]]\n",
    "C <- b1+b2+b3+delta\n",
    "E <- b1+b3\n",
    "B <- b1+b2\n",
    "A <- b1\n",
    "D <- E+(B-A)\n"
   ]
  },
  {
   "cell_type": "code",
   "execution_count": null,
   "metadata": {},
   "outputs": [],
   "source": [
    "# This creates an empty plot:\n",
    "\n",
    "plot(1, type=\"n\", xlab=\"period\", ylab=\"fte\", xaxt=\"n\",\n",
    "     xlim=c(-0.01, 1.01), ylim=c(18, 24))\n",
    "segments(x0=0, y0=A, x1=1, y1=E, lty=1, col=2)#control\n",
    "segments(x0=0, y0=B, x1=1, y1=C, lty=3, col=3)#treated\n",
    "segments(x0=0, y0=B, x1=1, y1=D,      #counterfactual\n",
    "         lty=4, col=4)\n",
    "legend(\"topright\", legend=c(\"control\", \"treated\", \n",
    "                            \"counterfactual\"), lty=c(1,3,4), col=c(2,3,4))\n",
    "axis(side=1, at=c(0,1), labels=NULL)\n"
   ]
  }
 ],
 "metadata": {
  "kernelspec": {
   "display_name": "R",
   "language": "R",
   "name": "ir"
  },
  "language_info": {
   "codemirror_mode": "r",
   "file_extension": ".r",
   "mimetype": "text/x-r-source",
   "name": "R",
   "pygments_lexer": "r",
   "version": "4.0.3"
  }
 },
 "nbformat": 4,
 "nbformat_minor": 4
}
